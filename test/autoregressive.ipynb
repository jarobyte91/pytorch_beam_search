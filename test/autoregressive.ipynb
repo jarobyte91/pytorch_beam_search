{
 "cells": [
  {
   "cell_type": "code",
   "execution_count": 3,
   "id": "c32e03cd",
   "metadata": {},
   "outputs": [
    {
     "data": {
      "application/vnd.jupyter.widget-view+json": {
       "model_id": "e28f9c53ec604ab697886af245bcc901",
       "version_major": 2,
       "version_minor": 0
      },
      "text/plain": [
       "  0%|          | 0/9 [00:00<?, ?it/s]"
      ]
     },
     "metadata": {},
     "output_type": "display_data"
    },
    {
     "name": "stdout",
     "output_type": "stream",
     "text": [
      "Model: Autoregressive Transformer Encoder\n",
      "Index: <Autoregressive Index with 27 items>\n",
      "Max sequence length: 16\n",
      "Embedding dimension: 32\n",
      "Feedforward dimension: 128\n",
      "Layers: 2\n",
      "Attention heads: 2\n",
      "Activation: relu\n",
      "Dropout: 0.0\n",
      "Trainable parameters: 40,379\n",
      "\n"
     ]
    },
    {
     "data": {
      "application/vnd.jupyter.widget-view+json": {
       "model_id": "263818d7849c4099a8ccc3def2a03bac",
       "version_major": 2,
       "version_minor": 0
      },
      "text/plain": [
       "  0%|          | 0/5 [00:00<?, ?it/s]"
      ]
     },
     "metadata": {},
     "output_type": "display_data"
    },
    {
     "name": "stdout",
     "output_type": "stream",
     "text": [
      "Training started\n",
      "X_train.shape: torch.Size([9, 17])\n",
      "Epochs: 5\n",
      "Learning rate: 0.0001\n",
      "Weight decay: 0\n",
      "Epoch | Train                 | Minutes\n",
      "      | Loss     | Error Rate |\n",
      "---------------------------------------\n"
     ]
    },
    {
     "data": {
      "application/vnd.jupyter.widget-view+json": {
       "model_id": "0397c9e524ac4265b1d92713f45526ef",
       "version_major": 2,
       "version_minor": 0
      },
      "text/plain": [
       "  0%|          | 0/1 [00:00<?, ?it/s]"
      ]
     },
     "metadata": {},
     "output_type": "display_data"
    },
    {
     "name": "stdout",
     "output_type": "stream",
     "text": [
      "    1 |   3.5582 |     98.611 |     0.0\n"
     ]
    },
    {
     "data": {
      "application/vnd.jupyter.widget-view+json": {
       "model_id": "2ea73e7e0d8e4fa586261c5ac3b2bcb6",
       "version_major": 2,
       "version_minor": 0
      },
      "text/plain": [
       "  0%|          | 0/1 [00:00<?, ?it/s]"
      ]
     },
     "metadata": {},
     "output_type": "display_data"
    },
    {
     "name": "stdout",
     "output_type": "stream",
     "text": [
      "    2 |   3.5481 |     98.611 |     0.0\n"
     ]
    },
    {
     "data": {
      "application/vnd.jupyter.widget-view+json": {
       "model_id": "d405644ba97c412c93484c8bc626a9a1",
       "version_major": 2,
       "version_minor": 0
      },
      "text/plain": [
       "  0%|          | 0/1 [00:00<?, ?it/s]"
      ]
     },
     "metadata": {},
     "output_type": "display_data"
    },
    {
     "name": "stdout",
     "output_type": "stream",
     "text": [
      "    3 |   3.5380 |     98.611 |     0.0\n"
     ]
    },
    {
     "data": {
      "application/vnd.jupyter.widget-view+json": {
       "model_id": "ffacd42907e44b0ebceb1ebe3fdd0c7d",
       "version_major": 2,
       "version_minor": 0
      },
      "text/plain": [
       "  0%|          | 0/1 [00:00<?, ?it/s]"
      ]
     },
     "metadata": {},
     "output_type": "display_data"
    },
    {
     "name": "stdout",
     "output_type": "stream",
     "text": [
      "    4 |   3.5279 |     98.611 |     0.0\n"
     ]
    },
    {
     "data": {
      "application/vnd.jupyter.widget-view+json": {
       "model_id": "0e488d21c92e4754998ae653cf4f4a1c",
       "version_major": 2,
       "version_minor": 0
      },
      "text/plain": [
       "  0%|          | 0/1 [00:00<?, ?it/s]"
      ]
     },
     "metadata": {},
     "output_type": "display_data"
    },
    {
     "name": "stdout",
     "output_type": "stream",
     "text": [
      "    5 |   3.5178 |     98.611 |     0.0\n"
     ]
    },
    {
     "data": {
      "application/vnd.jupyter.widget-view+json": {
       "model_id": "2e07a5d4eb4243048bbc5e14b060aac7",
       "version_major": 2,
       "version_minor": 0
      },
      "text/plain": [
       "  0%|          | 0/2 [00:00<?, ?it/s]"
      ]
     },
     "metadata": {},
     "output_type": "display_data"
    },
    {
     "data": {
      "application/vnd.jupyter.widget-view+json": {
       "model_id": "9c5cbe2bf5214320863f655ef0dc5c0b",
       "version_major": 2,
       "version_minor": 0
      },
      "text/plain": [
       "  0%|          | 0/1 [00:00<?, ?it/s]"
      ]
     },
     "metadata": {},
     "output_type": "display_data"
    },
    {
     "data": {
      "application/vnd.jupyter.widget-view+json": {
       "model_id": "d966de28a6244aafaab7ce97a22483d7",
       "version_major": 2,
       "version_minor": 0
      },
      "text/plain": [
       "  0%|          | 0/19 [00:00<?, ?it/s]"
      ]
     },
     "metadata": {},
     "output_type": "display_data"
    },
    {
     "data": {
      "text/plain": [
       "[['<PAD>new firstgjnshshhhhhhhhhhhhhh',\n",
       "  '<PAD>new firstgjnshhhhhhhhhhhhhhhh',\n",
       "  '<PAD>new firstgjnshshqhhhhhhhhhhhh',\n",
       "  '<PAD>new firstgjnshshhqhhhhhhhhhhh',\n",
       "  '<PAD>new firstgjnshshhhqhhhhhhhhhh'],\n",
       " ['new second<PAD>tgnjhhhhhhhhhhhhhhh',\n",
       "  'new secondltgnjshhhhhhhhhhhhhh',\n",
       "  'new secondltgnjhhhhhhhhhhhhhhh',\n",
       "  'new secondltgnjshqhhhhhhhhhhhh',\n",
       "  'new secondltgnjshhhqhhhhhhhhhh']]"
      ]
     },
     "execution_count": 3,
     "metadata": {},
     "output_type": "execute_result"
    }
   ],
   "source": [
    "import importlib\n",
    "\n",
    "import sys\n",
    "sys.path.append(\"../../\")\n",
    "\n",
    "# importlib.reload(index)\n",
    "from pytorch_beam_search import autoregressive\n",
    "\n",
    "# Create vocabulary and examples\n",
    "corpus = list(\"abcdefghijklmnopqrstwxyz \")    # tokenize the way you need\n",
    "# len(corpus) == 25\n",
    "index = autoregressive.Index(corpus)\n",
    "n_gram_size = 17    # 16 with an offset of 1 \n",
    "n_grams = [corpus[i:n_gram_size + i] for i in range(len(corpus))[:-n_gram_size + 1]]\n",
    "\n",
    "# Create tensor\n",
    "X = index.text2tensor(n_grams)\n",
    "# X.shape == (n_examples, len_examples) == (25 - 17 + 1 = 9, 17)\n",
    "\n",
    "# Create and train the model\n",
    "model = autoregressive.TransformerEncoder(index)    # just a PyTorch model\n",
    "model.fit(X)    # basic method included\n",
    "\n",
    "# Generate new predictions\n",
    "new_examples = [\"new first\", \"new second\"]\n",
    "X_new = index.text2tensor(new_examples)\n",
    "loss, error_rate = model.evaluate(X_new)    # basic method included\n",
    "predictions, log_probabilities = autoregressive.beam_search(model, X_new)\n",
    "# every element in predictions is the list of candidates for each example\n",
    "output = [index.tensor2text(p) for p in predictions]\n",
    "output"
   ]
  },
  {
   "cell_type": "code",
   "execution_count": null,
   "id": "17c2bf84",
   "metadata": {},
   "outputs": [],
   "source": []
  }
 ],
 "metadata": {
  "kernelspec": {
   "display_name": "Python 3",
   "language": "python",
   "name": "python3"
  },
  "language_info": {
   "codemirror_mode": {
    "name": "ipython",
    "version": 3
   },
   "file_extension": ".py",
   "mimetype": "text/x-python",
   "name": "python",
   "nbconvert_exporter": "python",
   "pygments_lexer": "ipython3",
   "version": "3.8.8"
  }
 },
 "nbformat": 4,
 "nbformat_minor": 5
}
