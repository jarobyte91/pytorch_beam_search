{
 "cells": [
  {
   "cell_type": "code",
   "execution_count": 1,
   "id": "c5d8c2d7",
   "metadata": {},
   "outputs": [],
   "source": [
    "import sys\n",
    "sys.path.append(\"../../\")"
   ]
  },
  {
   "cell_type": "code",
   "execution_count": 2,
   "id": "f8b47f9c",
   "metadata": {},
   "outputs": [
    {
     "data": {
      "application/vnd.jupyter.widget-view+json": {
       "model_id": "f2836ec032414e6eb33158e7b5ae751d",
       "version_major": 2,
       "version_minor": 0
      },
      "text/plain": [
       "  0%|          | 0/2 [00:00<?, ?it/s]"
      ]
     },
     "metadata": {},
     "output_type": "display_data"
    },
    {
     "data": {
      "application/vnd.jupyter.widget-view+json": {
       "model_id": "39d65fd8eafb4f978c1e55a8b243b3d2",
       "version_major": 2,
       "version_minor": 0
      },
      "text/plain": [
       "  0%|          | 0/2 [00:00<?, ?it/s]"
      ]
     },
     "metadata": {},
     "output_type": "display_data"
    },
    {
     "name": "stdout",
     "output_type": "stream",
     "text": [
      "Model: Seq2Seq Transformer\n",
      "Source index: <Seq2Seq Index with 28 items>\n",
      "Target index: <Seq2Seq Index with 28 items>\n",
      "Max sequence length: 32\n",
      "Embedding dimension: 32\n",
      "Feedforward dimension: 128\n",
      "Encoder layers: 2\n",
      "Decoder layers: 2\n",
      "Attention heads: 2\n",
      "Activation: relu\n",
      "Dropout: 0.0\n",
      "Trainable parameters: 63,260\n",
      "\n"
     ]
    },
    {
     "data": {
      "application/vnd.jupyter.widget-view+json": {
       "model_id": "1964bd8942a14457a59e4a7c8d9af779",
       "version_major": 2,
       "version_minor": 0
      },
      "text/plain": [
       "  0%|          | 0/5 [00:00<?, ?it/s]"
      ]
     },
     "metadata": {},
     "output_type": "display_data"
    },
    {
     "name": "stdout",
     "output_type": "stream",
     "text": [
      "Training started\n",
      "X_train.shape: torch.Size([2, 14])\n",
      "Y_train.shape: torch.Size([2, 14])\n",
      "Epochs: 5\n",
      "Learning rate: 0.0001\n",
      "Weight decay: 0\n",
      "Epoch | Train                 | Minutes\n",
      "      | Loss     | Error Rate |\n",
      "---------------------------------------\n"
     ]
    },
    {
     "data": {
      "application/vnd.jupyter.widget-view+json": {
       "model_id": "4c18769ffc1747ccaaafeea2b236e609",
       "version_major": 2,
       "version_minor": 0
      },
      "text/plain": [
       "  0%|          | 0/1 [00:00<?, ?it/s]"
      ]
     },
     "metadata": {},
     "output_type": "display_data"
    },
    {
     "name": "stdout",
     "output_type": "stream",
     "text": [
      "    1 |   3.6379 |    100.000 |     0.0\n"
     ]
    },
    {
     "data": {
      "application/vnd.jupyter.widget-view+json": {
       "model_id": "0e914ec3dbab4e5e9091b50d3f08a320",
       "version_major": 2,
       "version_minor": 0
      },
      "text/plain": [
       "  0%|          | 0/1 [00:00<?, ?it/s]"
      ]
     },
     "metadata": {},
     "output_type": "display_data"
    },
    {
     "name": "stdout",
     "output_type": "stream",
     "text": [
      "    2 |   3.6148 |    100.000 |     0.0\n"
     ]
    },
    {
     "data": {
      "application/vnd.jupyter.widget-view+json": {
       "model_id": "698d22ca705a4076955f43e776de2a1d",
       "version_major": 2,
       "version_minor": 0
      },
      "text/plain": [
       "  0%|          | 0/1 [00:00<?, ?it/s]"
      ]
     },
     "metadata": {},
     "output_type": "display_data"
    },
    {
     "name": "stdout",
     "output_type": "stream",
     "text": [
      "    3 |   3.5921 |    100.000 |     0.0\n"
     ]
    },
    {
     "data": {
      "application/vnd.jupyter.widget-view+json": {
       "model_id": "e409d7dab4684d579841da6af08402ab",
       "version_major": 2,
       "version_minor": 0
      },
      "text/plain": [
       "  0%|          | 0/1 [00:00<?, ?it/s]"
      ]
     },
     "metadata": {},
     "output_type": "display_data"
    },
    {
     "name": "stdout",
     "output_type": "stream",
     "text": [
      "    4 |   3.5693 |    100.000 |     0.0\n"
     ]
    },
    {
     "data": {
      "application/vnd.jupyter.widget-view+json": {
       "model_id": "2019c0f20b964fb4a3fb8755a9bb5a9e",
       "version_major": 2,
       "version_minor": 0
      },
      "text/plain": [
       "  0%|          | 0/1 [00:00<?, ?it/s]"
      ]
     },
     "metadata": {},
     "output_type": "display_data"
    },
    {
     "name": "stdout",
     "output_type": "stream",
     "text": [
      "    5 |   3.5469 |    100.000 |     0.0\n"
     ]
    },
    {
     "data": {
      "application/vnd.jupyter.widget-view+json": {
       "model_id": "8e0d57ef4d0f4a60a10865e1b27b97a6",
       "version_major": 2,
       "version_minor": 0
      },
      "text/plain": [
       "  0%|          | 0/2 [00:00<?, ?it/s]"
      ]
     },
     "metadata": {},
     "output_type": "display_data"
    },
    {
     "data": {
      "application/vnd.jupyter.widget-view+json": {
       "model_id": "b012e09cc3fb46ba8245a220e6629b19",
       "version_major": 2,
       "version_minor": 0
      },
      "text/plain": [
       "  0%|          | 0/2 [00:00<?, ?it/s]"
      ]
     },
     "metadata": {},
     "output_type": "display_data"
    },
    {
     "data": {
      "application/vnd.jupyter.widget-view+json": {
       "model_id": "2b2681b7a6194c71beae2c4665cc47fb",
       "version_major": 2,
       "version_minor": 0
      },
      "text/plain": [
       "  0%|          | 0/1 [00:00<?, ?it/s]"
      ]
     },
     "metadata": {},
     "output_type": "display_data"
    },
    {
     "data": {
      "application/vnd.jupyter.widget-view+json": {
       "model_id": "8f75cd4903144a6183214998f47bc98b",
       "version_major": 2,
       "version_minor": 0
      },
      "text/plain": [
       "  0%|          | 0/19 [00:00<?, ?it/s]"
      ]
     },
     "metadata": {},
     "output_type": "display_data"
    },
    {
     "data": {
      "text/plain": [
       "[['<START>JS<END>HJK<END>JHJX<END>JSXTJ<END>JX',\n",
       "  '<START>JS<END>HJK<END>JHJX<END>JSXTJSXX',\n",
       "  '<START>JS<END>HJK<END>JHJX<END>JCXTJSXX',\n",
       "  '<START>JS<END>HJK<END>JHJX<END>JSXTJ<END>XX',\n",
       "  '<START>JS<END>HJK<END>JHJX<END>JCXTJ<END>XX'],\n",
       " ['<START>JS<END>JKK<END>JTJMKTJXTJ<END>XX',\n",
       "  '<START>JS<END>JKK<END>JTJMKTJXTJSXX',\n",
       "  '<START>JS<END>JKK<END>JTJMKTJXTJ<END>JX',\n",
       "  '<START>JS<END>JKK<END>JTJMKKJXTJ<END>XX',\n",
       "  '<START>JS<END>JKK<END>JTJMKKJXTJSXX']]"
      ]
     },
     "execution_count": 2,
     "metadata": {},
     "output_type": "execute_result"
    }
   ],
   "source": [
    "from pytorch_beam_search import seq2seq\n",
    "\n",
    "# Create vocabularies\n",
    "source = [list(\"abcdefghijkl\"), list(\"mnopqrstwxyz\")]    # tokenize the way you need\n",
    "target = [list(\"ABCDEFGHIJKL\"), list(\"MNOPQRSTWXYZ\")]    # tokenize the way you need\n",
    "source_index = seq2seq.Index(source)\n",
    "target_index = seq2seq.Index(target)\n",
    "\n",
    "# Create tensors\n",
    "X = source_index.text2tensor(source)\n",
    "Y = target_index.text2tensor(target)\n",
    "# X.shape == (n_source_examples, len_source_examples) == (2, 11)\n",
    "# Y.shape == (n_target_examples, len_target_examples) == (2, 12)\n",
    "\n",
    "# Create and train the model\n",
    "model = seq2seq.Transformer(source_index, target_index)    # just a PyTorch model\n",
    "model.fit(X, Y)    # basic method included\n",
    "\n",
    "# Generate new predictions\n",
    "new_source = [list(\"new first in\"), list(\"new second in\")]\n",
    "new_target = [list(\"new first out\"), list(\"new second out\")]\n",
    "X_new = source_index.text2tensor(new_source)\n",
    "Y_new = target_index.text2tensor(new_target)\n",
    "loss, error_rate = model.evaluate(X_new, Y_new)    # basic method included\n",
    "predictions, log_probabilities = seq2seq.beam_search(model, X_new) \n",
    "output = [target_index.tensor2text(p) for p in predictions]\n",
    "output"
   ]
  },
  {
   "cell_type": "code",
   "execution_count": null,
   "id": "03cf5550",
   "metadata": {},
   "outputs": [],
   "source": []
  }
 ],
 "metadata": {
  "kernelspec": {
   "display_name": "Python 3",
   "language": "python",
   "name": "python3"
  },
  "language_info": {
   "codemirror_mode": {
    "name": "ipython",
    "version": 3
   },
   "file_extension": ".py",
   "mimetype": "text/x-python",
   "name": "python",
   "nbconvert_exporter": "python",
   "pygments_lexer": "ipython3",
   "version": "3.8.8"
  }
 },
 "nbformat": 4,
 "nbformat_minor": 5
}
