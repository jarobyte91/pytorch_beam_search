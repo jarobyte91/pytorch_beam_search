{
 "cells": [
  {
   "cell_type": "code",
   "execution_count": 1,
   "metadata": {},
   "outputs": [],
   "source": [
    "import torch\n",
    "import torch.nn as nn\n",
    "import torch.utils.data as tud\n",
    "from tqdm.notebook import tqdm\n",
    "from pprint import pprint\n",
    "import matplotlib.pyplot as plt\n",
    "import numpy as np\n",
    "import importlib\n",
    "import architectures"
   ]
  },
  {
   "cell_type": "code",
   "execution_count": 2,
   "metadata": {
    "scrolled": false
   },
   "outputs": [
    {
     "name": "stdout",
     "output_type": "stream",
     "text": [
      "556949\n",
      "﻿The Project Gutenberg EBook of Chess Strategy, by Edward Lasker\n",
      "\n",
      "This eBook is for the use of anyone anywhere at no cost and with\n",
      "almost no restrictions whatsoever.  You may copy it, give it away or\n",
      "re-use it under the terms of the Project Gutenberg License included\n",
      "with this eBook or online at www.gutenberg.org/license\n",
      "\n",
      "\n",
      "Title: Chess Strategy\n",
      "\n",
      "Author: Edward Lasker\n",
      "\n",
      "Translator: J. Du Mont\n",
      "\n",
      "Release Date: November 11, 2012 [EBook #5614]\n",
      "\n",
      "Language: English\n",
      "\n",
      "\n",
      "*** START OF THIS PROJECT GUTENBERG EBOOK CHESS STRATEGY ***\n",
      "\n",
      "\n",
      "\n",
      "\n",
      "Produced by John Mamoun <mamounjo@umdnj.edu>, Charles\n",
      "Franks, and the Online Distributed Proofreaders website.\n",
      "\n",
      "\n",
      "\n",
      "\n",
      "\n",
      "\n",
      "\n",
      "\n",
      "INFORMATION ABOUT THIS E-TEXT EDITION\n",
      "\n",
      "\n",
      "\n",
      "The following is an e-text of \"Chess Strategy,\" second edition, (1915)\n",
      "by Edward Lasker, translated by J. Du Mont.\n",
      "\n",
      "This e-text contains the 167 chess and checkers board game\n",
      "diagrams appearing in the original book, all in the form of\n",
      "ASCII line drawings. The following is a key to the diagrams:\n",
      "\n",
      "For chess pieces\n"
     ]
    }
   ],
   "source": [
    "# chess\n",
    "\n",
    "with open(\"data/pg5614.txt\", encoding = \"utf-8\") as file:\n",
    "    text = file.read()\n",
    "print(len(text))\n",
    "print(text[:1000])"
   ]
  },
  {
   "cell_type": "code",
   "execution_count": 3,
   "metadata": {},
   "outputs": [
    {
     "data": {
      "text/plain": [
       "556949"
      ]
     },
     "execution_count": 3,
     "metadata": {},
     "output_type": "execute_result"
    }
   ],
   "source": [
    "len(text)"
   ]
  },
  {
   "cell_type": "code",
   "execution_count": 4,
   "metadata": {},
   "outputs": [
    {
     "data": {
      "text/plain": [
       "92"
      ]
     },
     "execution_count": 4,
     "metadata": {},
     "output_type": "execute_result"
    }
   ],
   "source": [
    "vocabulary = set(text)\n",
    "len(vocabulary)"
   ]
  },
  {
   "cell_type": "code",
   "execution_count": 5,
   "metadata": {},
   "outputs": [
    {
     "name": "stdout",
     "output_type": "stream",
     "text": [
      "95\n",
      "95\n"
     ]
    }
   ],
   "source": [
    "char2i = {c:i for i, c in enumerate(sorted(vocabulary), 3)}\n",
    "char2i[\"<PAD>\"] = 0\n",
    "char2i[\"<START>\"] = 1\n",
    "char2i[\"<END>\"] = 2\n",
    "print(len(char2i))\n",
    "i2char = {i:c for i, c in enumerate(sorted(vocabulary), 3)}\n",
    "i2char[0] = \"<PAD>\"\n",
    "i2char[1] = \"<START>\"\n",
    "i2char[2] = \"<END>\"\n",
    "print(len(i2char))"
   ]
  },
  {
   "cell_type": "code",
   "execution_count": 6,
   "metadata": {},
   "outputs": [
    {
     "data": {
      "text/plain": [
       "device(type='cuda')"
      ]
     },
     "execution_count": 6,
     "metadata": {},
     "output_type": "execute_result"
    }
   ],
   "source": [
    "device = torch.device(\"cuda\" if torch.cuda.is_available() else \"cpu\")\n",
    "\n",
    "device"
   ]
  },
  {
   "cell_type": "code",
   "execution_count": 7,
   "metadata": {},
   "outputs": [
    {
     "name": "stdout",
     "output_type": "stream",
     "text": [
      "556949\n",
      "556929\n",
      "['\\ufeffThe Project Gutenbe', 'The Project Gutenber', 'he Project Gutenberg', 'e Project Gutenberg ', ' Project Gutenberg E']\n"
     ]
    },
    {
     "data": {
      "application/vnd.jupyter.widget-view+json": {
       "model_id": "cfd5c6f00b5b475ea16cb0ba329ba987",
       "version_major": 2,
       "version_minor": 0
      },
      "text/plain": [
       "HBox(children=(HTML(value=''), FloatProgress(value=0.0, max=556929.0), HTML(value='')))"
      ]
     },
     "metadata": {},
     "output_type": "display_data"
    },
    {
     "name": "stdout",
     "output_type": "stream",
     "text": [
      "\n",
      "torch.Size([556929, 20])\n",
      "torch.Size([556929, 10])\n",
      "torch.Size([556929, 11])\n"
     ]
    }
   ],
   "source": [
    "length = 20\n",
    "lines = []\n",
    "for i in range(len(text))[:-length]:\n",
    "    lines.append(text[i:length + i])\n",
    "print(len(text))\n",
    "print(len(lines))\n",
    "print(lines[:5])\n",
    "encoded = torch.tensor([[char2i[c] for c in l] for l in tqdm(lines)]).to(device).long()\n",
    "print(encoded.shape)\n",
    "source_1 = encoded[:, :length // 2]\n",
    "print(source_1.shape)\n",
    "target_1 = torch.cat((torch.ones(encoded.shape[0], 1).to(device).long(), encoded[:, length // 2:]), axis = 1)\n",
    "print(target_1.shape)"
   ]
  },
  {
   "cell_type": "code",
   "execution_count": 8,
   "metadata": {
    "scrolled": false
   },
   "outputs": [
    {
     "name": "stdout",
     "output_type": "stream",
     "text": [
      "Net parameters: 347,359\n"
     ]
    },
    {
     "data": {
      "application/vnd.jupyter.widget-view+json": {
       "model_id": "eb36b728e2254750a0fae3cc3c09a9f8",
       "version_major": 2,
       "version_minor": 0
      },
      "text/plain": [
       "HBox(children=(HTML(value=''), FloatProgress(value=0.0, max=5.0), HTML(value='')))"
      ]
     },
     "metadata": {},
     "output_type": "display_data"
    },
    {
     "data": {
      "application/vnd.jupyter.widget-view+json": {
       "model_id": "63c059798c4d4ec9936d5c75c182ea26",
       "version_major": 2,
       "version_minor": 0
      },
      "text/plain": [
       "HBox(children=(HTML(value=''), FloatProgress(value=0.0, max=3713.0), HTML(value='')))"
      ]
     },
     "metadata": {},
     "output_type": "display_data"
    },
    {
     "name": "stdout",
     "output_type": "stream",
     "text": [
      "\n",
      "Epoch:    1, Loss: 1.7833\n",
      "Y\n",
      "['ct Gutenbe', 't Gutenber', ' Gutenberg', 'Gutenberg ', 'utenberg E']\n",
      "\n",
      "forward\n",
      "[' e mus  te', 'ahous   e ', ' aus  te  ', 'tas  te  h', 'at  te  at']\n",
      "\n",
      "greedy_search\n",
      "[' the pawn ', 'and the of', ' and the o', 'the the of', 'and the of']\n",
      "tensor([ -9.9700, -10.2300, -10.6000,  -9.2800,  -9.7700], device='cuda:0')\n",
      "\n",
      "sample\n",
      "['rack; Q-K5', 'r me for t', ' B. R-R4.\\n', 'the forawn', 'antuld pro']\n",
      "\n",
      "beam_search\n",
      "[[' the of th', 'he of the ', 'he the the', 'the of the', 'the of the'],\n",
      " [' the pawn ', 'he the the', ' of the th', 'the the th', 'and the th'],\n",
      " [' the the p', 'and the th', ' of the of', 'the the of', 'and the of'],\n",
      " [' the the o', 'and the of', ' the the o', 'the the on', 'the the of'],\n",
      " [' the the a', 'and the on', ' the the t', 'the the an', 'and the on']]\n",
      "tensor([[ -9.5300,  -8.6800,  -9.0900,  -8.0300,  -8.8300],\n",
      "        [ -9.9700,  -9.1600,  -9.2500,  -8.9600,  -9.4100],\n",
      "        [-10.1300,  -9.7300,  -9.8000,  -9.2800,  -9.7700],\n",
      "        [-10.1600, -10.2300,  -9.9700,  -9.7500,  -9.9900],\n",
      "        [-10.2800, -10.3600, -10.0200,  -9.8200, -10.1100]], device='cuda:0')\n",
      "--------------------------------------------------\n"
     ]
    },
    {
     "data": {
      "application/vnd.jupyter.widget-view+json": {
       "model_id": "0ff50dbcedfe42d5aca4b22cae71600c",
       "version_major": 2,
       "version_minor": 0
      },
      "text/plain": [
       "HBox(children=(HTML(value=''), FloatProgress(value=0.0, max=3713.0), HTML(value='')))"
      ]
     },
     "metadata": {},
     "output_type": "display_data"
    },
    {
     "name": "stdout",
     "output_type": "stream",
     "text": [
      "\n",
      "Epoch:    2, Loss: 1.4209\n",
      "Y\n",
      "['ct Gutenbe', 't Gutenber', ' Gutenberg', 'Gutenberg ', 'utenberg E']\n",
      "\n",
      "forward\n",
      "[' t aut nte', 't out  te ', ' aut rte  ', 'tut nte  -', 'ot rtec -t']\n",
      "\n",
      "greedy_search\n",
      "[' the pawn ', 't of the p', ' and the p', 'the pawn t', 'on the paw']\n",
      "tensor([ -8.5600,  -9.0600,  -9.6800,  -8.2300, -10.0200], device='cuda:0')\n",
      "\n",
      "sample\n",
      "['d warivom.', 'tiony\\nthok', ' Whited an', 'of wendubt', 'in own 41.']\n",
      "\n",
      "beam_search\n",
      "[[' pawn the ', 'tion of th', ' of the th', 'the of the', 'ing the th'],\n",
      " [' the pawn ', 'tion the p', ' of the of', 'the pawn t', 'ing the of'],\n",
      " [' the of th', 'tion the o', ' of the pa', 'the the th', 'ing the pa'],\n",
      " [' the pawns', 'tion the t', ' of the pr', 'the the of', 'ould the p'],\n",
      " [' the the p', 't of the p', 'ould the p', 'the pawn a', 'ould the o']]\n",
      "tensor([[-7.9000, -8.7600, -8.5900, -7.1800, -8.5400],\n",
      "        [-8.5600, -8.8100, -8.7900, -8.2300, -8.8600],\n",
      "        [-8.5700, -8.8700, -9.1600, -8.4800, -9.2700],\n",
      "        [-9.2000, -9.0500, -9.5800, -8.7200, -9.4600],\n",
      "        [-9.6600, -9.0600, -9.6700, -8.9600, -9.5600]], device='cuda:0')\n",
      "--------------------------------------------------\n"
     ]
    },
    {
     "data": {
      "application/vnd.jupyter.widget-view+json": {
       "model_id": "4bb61e7890344061af1d51cf631f21f8",
       "version_major": 2,
       "version_minor": 0
      },
      "text/plain": [
       "HBox(children=(HTML(value=''), FloatProgress(value=0.0, max=3713.0), HTML(value='')))"
      ]
     },
     "metadata": {},
     "output_type": "display_data"
    },
    {
     "name": "stdout",
     "output_type": "stream",
     "text": [
      "\n",
      "Epoch:    3, Loss: 1.3403\n",
      "Y\n",
      "['ct Gutenbe', 't Gutenber', ' Gutenberg', 'Gutenberg ', 'utenberg E']\n",
      "\n",
      "forward\n",
      "[' t Gut nte', 't out nter', ' aut nter ', 'tut nte  -', 'otenter -t']\n",
      "\n",
      "greedy_search\n",
      "[' the pawn ', 't of the p', ' and the p', 'the pawn t', 'one of the']\n",
      "tensor([-8.5600, -8.5600, -9.2800, -7.9000, -9.3000], device='cuda:0')\n",
      "\n",
      "sample\n",
      "[' wous KP\\nw', 'te, anme.\\n', '. Aftence ', 'to an ing ', 'bilest of\\n']\n",
      "\n",
      "beam_search\n",
      "[[' the pawn ', 'tions the ', ' the pawn ', 'the of the', 'ing the th'],\n",
      " [' the pawns', 'tion the p', ' of the of', 'the pawn t', 'ing the of'],\n",
      " [' the of th', 't of the p', ' of the pa', 'of the of ', 'ing the pa'],\n",
      " ['d the pawn', 'tion the o', ' the pawns', 'the pawns ', 'ing the Kt'],\n",
      " ['s the pawn', 'ting the p', ' of the pl', 'of the paw', 'ing the pl']]\n",
      "tensor([[-8.5600, -8.3400, -8.4100, -6.9100, -9.0700],\n",
      "        [-8.8100, -8.3600, -8.5600, -7.9000, -9.1700],\n",
      "        [-8.8200, -8.5600, -8.6800, -8.0500, -9.3900],\n",
      "        [-8.8400, -8.7300, -8.9100, -8.1200, -9.7000],\n",
      "        [-9.0500, -8.7500, -9.1000, -8.3800, -9.7900]], device='cuda:0')\n",
      "--------------------------------------------------\n"
     ]
    },
    {
     "data": {
      "application/vnd.jupyter.widget-view+json": {
       "model_id": "23e17304b6794da39d927bb39d3fe544",
       "version_major": 2,
       "version_minor": 0
      },
      "text/plain": [
       "HBox(children=(HTML(value=''), FloatProgress(value=0.0, max=3713.0), HTML(value='')))"
      ]
     },
     "metadata": {},
     "output_type": "display_data"
    },
    {
     "name": "stdout",
     "output_type": "stream",
     "text": [
      "\n",
      "Epoch:    4, Loss: 1.2926\n",
      "Y\n",
      "['ct Gutenbe', 't Gutenber', ' Gutenberg', 'Gutenberg ', 'utenberg E']\n",
      "\n",
      "forward\n",
      "['dt Gut n e', 'tiout nter', ' out nter ', 'tut nter -', 'utenter -t']\n",
      "\n",
      "greedy_search\n",
      "['d be the p', 'tion the p', ' of the pa', 'the pawn t', 'utent of t']\n",
      "tensor([-10.7300,  -8.1300,  -8.1200,  -8.0700,  -9.1100], device='cuda:0')\n",
      "\n",
      "sample\n",
      "[' and se va', 't Gut toen', 're in be Q', 'drasidsjec', 'ounterango']\n",
      "\n",
      "beam_search\n",
      "[['d, and the', 'ting of th', ' the pawn ', 'the of the', 'utent the '],\n",
      " [' the pawn ', 'ting the p', ' of the pa', 'the pawns ', 'uteng the '],\n",
      " [' the pawns', 'ting the o', ' of the of', 'of the of ', 'utent of t'],\n",
      " [' the of th', 'tion the p', ' the pawns', 'the pawn t', 'utention t'],\n",
      " ['ct Gut and', 'ting the t', ' of the pl', 'of the paw', 'utentions ']]\n",
      "tensor([[ -8.7000,  -7.6100,  -8.0900,  -7.2800,  -8.4600],\n",
      "        [ -8.7700,  -7.8400,  -8.1200,  -7.8800,  -8.7500],\n",
      "        [ -8.9200,  -8.0000,  -8.2000,  -8.0400,  -9.1100],\n",
      "        [ -9.3800,  -8.1300,  -8.4300,  -8.0700,  -9.7400],\n",
      "        [ -9.4500,  -8.4200,  -8.5500,  -8.2500, -10.0600]], device='cuda:0')\n",
      "--------------------------------------------------\n"
     ]
    },
    {
     "data": {
      "application/vnd.jupyter.widget-view+json": {
       "model_id": "a1ee2f1d3bc84fd8a5e6d966b2f44785",
       "version_major": 2,
       "version_minor": 0
      },
      "text/plain": [
       "HBox(children=(HTML(value=''), FloatProgress(value=0.0, max=3713.0), HTML(value='')))"
      ]
     },
     "metadata": {},
     "output_type": "display_data"
    },
    {
     "name": "stdout",
     "output_type": "stream",
     "text": [
      "\n",
      "Epoch:    5, Loss: 1.2582\n",
      "Y\n",
      "['ct Gutenbe', 't Gutenber', ' Gutenberg', 'Gutenberg ', 'utenberg E']\n",
      "\n",
      "forward\n",
      "['ct Gut n e', 't out nter', ' out nter ', 'tut nter -', 'utenter -a']\n",
      "\n",
      "greedy_search\n",
      "['ct Gut and', 't of the p', ' of the pa', 'the pawn t', 'utent the ']\n",
      "tensor([-8.2600, -7.9400, -8.2000, -8.3800, -8.2400], device='cuda:0')\n",
      "\n",
      "sample\n",
      "['n obmight ', 'ct If ins ', ' dratim in', 'move is a ', 'orks.\\n\\nIn ']\n",
      "\n",
      "beam_search\n",
      "[['ct of the ', 't of the p', ' the King ', 'of the Kin', 'utent the '],\n",
      " ['ction the ', 'ting the p', ' the pawn ', 'the pawns ', 'utent of t'],\n",
      " ['ct Gut the', 't of the K', \" the King'\", 'of the paw', 'utention t'],\n",
      " ['ct Gut and', 'tion the p', ' of the of', 'of the pla', 'utentions '],\n",
      " ['ction ther', 't of the o', ' of the Ki', 'the pawn t', 'utent the\\n']]\n",
      "tensor([[ -7.0400,  -7.9400,  -7.7700,  -8.0400,  -8.2400],\n",
      "        [ -7.0500,  -8.3100,  -7.8500,  -8.1000,  -9.3800],\n",
      "        [ -7.7900,  -8.3900,  -8.0800,  -8.1600,  -9.6700],\n",
      "        [ -8.2600,  -8.4400,  -8.1100,  -8.2600,  -9.7300],\n",
      "        [ -9.3500,  -8.4500,  -8.2000,  -8.3800, -10.0600]], device='cuda:0')\n",
      "--------------------------------------------------\n",
      "\n"
     ]
    }
   ],
   "source": [
    "importlib.reload(architectures)    \n",
    "net = architectures.Transformer(char2i, i2char, \n",
    "                                             embedding_dimension = 128, encoder_layers = 1,\n",
    "                                             feedforward_dimension = 128, decoder_layers = 1)\n",
    "net.to(device)\n",
    "net.fit(source_1, target_1, epochs = 5, batch_size = 150, lr = 0.0001, verbose = 3, \n",
    "        save_path = \"checkpoints/seq2seq_transformer.pt\")"
   ]
  },
  {
   "cell_type": "code",
   "execution_count": 9,
   "metadata": {},
   "outputs": [
    {
     "name": "stdout",
     "output_type": "stream",
     "text": [
      "Net parameters: 347,359\n"
     ]
    },
    {
     "data": {
      "application/vnd.jupyter.widget-view+json": {
       "model_id": "de2263d313924d14a303033d409d8314",
       "version_major": 2,
       "version_minor": 0
      },
      "text/plain": [
       "HBox(children=(HTML(value=''), FloatProgress(value=0.0, max=19.0), HTML(value='')))"
      ]
     },
     "metadata": {},
     "output_type": "display_data"
    },
    {
     "name": "stdout",
     "output_type": "stream",
     "text": [
      "\n"
     ]
    },
    {
     "data": {
      "text/plain": [
       "tensor([[-17.0280, -18.0812, -18.2160, -18.2463, -18.5167],\n",
       "        [-12.7134, -13.1868, -13.1969, -13.4203, -13.4516],\n",
       "        [-17.5389, -18.4222, -18.6140, -18.6276, -18.6539],\n",
       "        [-15.4512, -16.2743, -16.7598, -16.7968, -16.9277],\n",
       "        [-17.8137, -18.8173, -19.1984, -19.2659, -19.8412],\n",
       "        [-16.8233, -17.0049, -17.8791, -18.0772, -18.1335],\n",
       "        [-16.1091, -16.6924, -17.2834, -17.2901, -17.3117],\n",
       "        [-18.0249, -19.2058, -19.2838, -19.5513, -19.6117],\n",
       "        [-16.8597, -16.8829, -16.9050, -17.0564, -17.2969],\n",
       "        [-17.6703, -18.1156, -18.2650, -18.3249, -18.4903],\n",
       "        [-19.0326, -19.0954, -19.5943, -19.6219, -19.7543],\n",
       "        [-19.0347, -19.3764, -19.4285, -19.6189, -19.6807],\n",
       "        [ -8.6593,  -9.3941,  -9.5499, -10.5886, -10.6136],\n",
       "        [-17.7744, -17.9958, -18.1085, -18.1423, -18.1725],\n",
       "        [ -6.8340,  -7.6262,  -7.7715,  -7.8911,  -8.0361],\n",
       "        [-17.8210, -18.3382, -18.4014, -18.4168, -18.4532],\n",
       "        [-18.1568, -18.6705, -18.9180, -19.1039, -19.1095],\n",
       "        [-15.6153, -16.8313, -18.2213, -18.2481, -18.3019],\n",
       "        [-17.1899, -18.1357, -18.3814, -18.5461, -18.6345],\n",
       "        [-18.2495, -18.4938, -18.5238, -18.6353, -18.6776]], device='cuda:0')"
      ]
     },
     "execution_count": 9,
     "metadata": {},
     "output_type": "execute_result"
    }
   ],
   "source": [
    "importlib.reload(architectures)    \n",
    "net = architectures.Transformer(char2i, i2char, \n",
    "                                            embedding_dimension = 128, encoder_layers = 1,\n",
    "                                            feedforward_dimension = 128, decoder_layers = 1)\n",
    "net.to(device)\n",
    "net.load_state_dict(torch.load(\"checkpoints/seq2seq_transformer.pt\"))\n",
    "test = net.beam_search(source_1[:10000], verbose = 1, batch_size = 50)\n",
    "\n",
    "test[1][:20]"
   ]
  },
  {
   "cell_type": "code",
   "execution_count": null,
   "metadata": {},
   "outputs": [],
   "source": []
  }
 ],
 "metadata": {
  "kernelspec": {
   "display_name": "Python 3",
   "language": "python",
   "name": "python3"
  },
  "language_info": {
   "codemirror_mode": {
    "name": "ipython",
    "version": 3
   },
   "file_extension": ".py",
   "mimetype": "text/x-python",
   "name": "python",
   "nbconvert_exporter": "python",
   "pygments_lexer": "ipython3",
   "version": "3.8.5"
  }
 },
 "nbformat": 4,
 "nbformat_minor": 5
}
