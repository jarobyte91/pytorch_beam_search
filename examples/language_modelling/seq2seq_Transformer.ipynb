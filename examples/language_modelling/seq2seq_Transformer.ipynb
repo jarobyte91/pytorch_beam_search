{
 "cells": [
  {
   "cell_type": "code",
   "execution_count": 1,
   "metadata": {},
   "outputs": [],
   "source": [
    "import torch\n",
    "import torch.nn as nn\n",
    "import torch.utils.data as tud\n",
    "from tqdm.notebook import tqdm\n",
    "from pprint import pprint\n",
    "import matplotlib.pyplot as plt\n",
    "import numpy as np\n",
    "import importlib\n",
    "import language_modelling_seq2seq"
   ]
  },
  {
   "cell_type": "code",
   "execution_count": 2,
   "metadata": {
    "scrolled": false
   },
   "outputs": [
    {
     "name": "stdout",
     "output_type": "stream",
     "text": [
      "556949\n",
      "﻿The Project Gutenberg EBook of Chess Strategy, by Edward Lasker\n",
      "\n",
      "This eBook is for the use of anyone anywhere at no cost and with\n",
      "almost no restrictions whatsoever.  You may copy it, give it away or\n",
      "re-use it under the terms of the Project Gutenberg License included\n",
      "with this eBook or online at www.gutenberg.org/license\n",
      "\n",
      "\n",
      "Title: Chess Strategy\n",
      "\n",
      "Author: Edward Lasker\n",
      "\n",
      "Translator: J. Du Mont\n",
      "\n",
      "Release Date: November 11, 2012 [EBook #5614]\n",
      "\n",
      "Language: English\n",
      "\n",
      "\n",
      "*** START OF THIS PROJECT GUTENBERG EBOOK CHESS STRATEGY ***\n",
      "\n",
      "\n",
      "\n",
      "\n",
      "Produced by John Mamoun <mamounjo@umdnj.edu>, Charles\n",
      "Franks, and the Online Distributed Proofreaders website.\n",
      "\n",
      "\n",
      "\n",
      "\n",
      "\n",
      "\n",
      "\n",
      "\n",
      "INFORMATION ABOUT THIS E-TEXT EDITION\n",
      "\n",
      "\n",
      "\n",
      "The following is an e-text of \"Chess Strategy,\" second edition, (1915)\n",
      "by Edward Lasker, translated by J. Du Mont.\n",
      "\n",
      "This e-text contains the 167 chess and checkers board game\n",
      "diagrams appearing in the original book, all in the form of\n",
      "ASCII line drawings. The following is a key to the diagrams:\n",
      "\n",
      "For chess pieces\n"
     ]
    }
   ],
   "source": [
    "# chess\n",
    "\n",
    "with open(\"data/pg5614.txt\", encoding = \"utf-8\") as file:\n",
    "    text = file.read()\n",
    "print(len(text))\n",
    "print(text[:1000])"
   ]
  },
  {
   "cell_type": "code",
   "execution_count": 3,
   "metadata": {},
   "outputs": [
    {
     "data": {
      "text/plain": [
       "556949"
      ]
     },
     "execution_count": 3,
     "metadata": {},
     "output_type": "execute_result"
    }
   ],
   "source": [
    "len(text)"
   ]
  },
  {
   "cell_type": "code",
   "execution_count": 4,
   "metadata": {},
   "outputs": [
    {
     "data": {
      "text/plain": [
       "92"
      ]
     },
     "execution_count": 4,
     "metadata": {},
     "output_type": "execute_result"
    }
   ],
   "source": [
    "vocabulary = set(text)\n",
    "len(vocabulary)"
   ]
  },
  {
   "cell_type": "code",
   "execution_count": 5,
   "metadata": {},
   "outputs": [
    {
     "name": "stdout",
     "output_type": "stream",
     "text": [
      "95\n",
      "95\n"
     ]
    }
   ],
   "source": [
    "char2i = {c:i for i, c in enumerate(sorted(vocabulary), 3)}\n",
    "char2i[\"<PAD>\"] = 0\n",
    "char2i[\"<START>\"] = 1\n",
    "char2i[\"<END>\"] = 2\n",
    "print(len(char2i))\n",
    "i2char = {i:c for i, c in enumerate(sorted(vocabulary), 3)}\n",
    "i2char[0] = \"<PAD>\"\n",
    "i2char[1] = \"<START>\"\n",
    "i2char[2] = \"<END>\"\n",
    "print(len(i2char))"
   ]
  },
  {
   "cell_type": "code",
   "execution_count": 6,
   "metadata": {},
   "outputs": [
    {
     "data": {
      "text/plain": [
       "device(type='cuda')"
      ]
     },
     "execution_count": 6,
     "metadata": {},
     "output_type": "execute_result"
    }
   ],
   "source": [
    "device = torch.device(\"cuda\" if torch.cuda.is_available() else \"cpu\")\n",
    "\n",
    "device"
   ]
  },
  {
   "cell_type": "code",
   "execution_count": 7,
   "metadata": {},
   "outputs": [
    {
     "name": "stdout",
     "output_type": "stream",
     "text": [
      "556949\n",
      "556929\n",
      "['\\ufeffThe Project Gutenbe', 'The Project Gutenber', 'he Project Gutenberg', 'e Project Gutenberg ', ' Project Gutenberg E']\n"
     ]
    },
    {
     "data": {
      "application/vnd.jupyter.widget-view+json": {
       "model_id": "c1d45436ff4b4023985f46a7cc7c2b46",
       "version_major": 2,
       "version_minor": 0
      },
      "text/plain": [
       "HBox(children=(HTML(value=''), FloatProgress(value=0.0, max=556929.0), HTML(value='')))"
      ]
     },
     "metadata": {},
     "output_type": "display_data"
    },
    {
     "name": "stdout",
     "output_type": "stream",
     "text": [
      "\n",
      "torch.Size([556929, 20])\n",
      "torch.Size([556929, 10])\n",
      "torch.Size([556929, 11])\n"
     ]
    }
   ],
   "source": [
    "length = 20\n",
    "lines = []\n",
    "for i in range(len(text))[:-length]:\n",
    "    lines.append(text[i:length + i])\n",
    "print(len(text))\n",
    "print(len(lines))\n",
    "print(lines[:5])\n",
    "encoded = torch.tensor([[char2i[c] for c in l] for l in tqdm(lines)]).to(device).long()\n",
    "print(encoded.shape)\n",
    "source_1 = encoded[:, :length // 2]\n",
    "print(source_1.shape)\n",
    "target_1 = torch.cat((torch.ones(encoded.shape[0], 1).to(device).long(), encoded[:, length // 2:]), axis = 1)\n",
    "print(target_1.shape)"
   ]
  },
  {
   "cell_type": "code",
   "execution_count": 8,
   "metadata": {
    "scrolled": false
   },
   "outputs": [
    {
     "name": "stdout",
     "output_type": "stream",
     "text": [
      "Net parameters: 347,359\n"
     ]
    },
    {
     "data": {
      "application/vnd.jupyter.widget-view+json": {
       "model_id": "db3ba39886514ec7adea177818edaff6",
       "version_major": 2,
       "version_minor": 0
      },
      "text/plain": [
       "HBox(children=(HTML(value=''), FloatProgress(value=0.0, max=5.0), HTML(value='')))"
      ]
     },
     "metadata": {},
     "output_type": "display_data"
    },
    {
     "data": {
      "application/vnd.jupyter.widget-view+json": {
       "model_id": "0a36cca8fb204aed9a34be4b36c782d0",
       "version_major": 2,
       "version_minor": 0
      },
      "text/plain": [
       "HBox(children=(HTML(value=''), FloatProgress(value=0.0, max=3713.0), HTML(value='')))"
      ]
     },
     "metadata": {},
     "output_type": "display_data"
    },
    {
     "name": "stdout",
     "output_type": "stream",
     "text": [
      "\n",
      "Epoch:    1, Loss: 1.8000\n",
      "Y\n",
      "['ct Gutenbe', 't Gutenber', ' Gutenberg', 'Gutenberg ', 'utenberg E']\n",
      "\n",
      "forward\n",
      "[' k oos  te', 'ehoot  te ', ' tos  te  ', 'tot  te  a', 'ts  te  et']\n",
      "\n",
      "greedy_search\n",
      "[' the the t', 'e the the ', ' the the t', 'the the th', 't of the t']\n",
      "tensor([-10.0200,  -8.0500,  -8.1900,  -7.9200, -10.5000], device='cuda:0')\n",
      "\n",
      "sample\n",
      "[' the weran', 'aus R-Kt5 ', '. P-B3, an', 'hhe\\nthat p', 'wIusthe or']\n",
      "\n",
      "beam_search\n",
      "[['n the the ', 'e the the ', ' the of th', 'the the th', 'n the the '],\n",
      " ['s the the ', 'on the the', ' the the t', 'the of the', 'the the th'],\n",
      " ['r the the ', 'he the the', ' the pawn ', 'of the the', 'on the the'],\n",
      " ['n the pawn', 'ing the th', ' the the p', 'the the of', 'the the an'],\n",
      " [' the the t', 'ing the an', ' of the th', 'the the an', 'n the the\\n']]\n",
      "tensor([[ -8.6600,  -8.0500,  -7.8400,  -7.9200,  -8.6100],\n",
      "        [ -8.8500,  -8.6900,  -8.1900,  -7.9600,  -9.3500],\n",
      "        [ -9.0400,  -8.7900,  -8.3600,  -8.0500,  -9.4600],\n",
      "        [-10.0200,  -9.3100,  -8.5600,  -8.9600, -10.3700],\n",
      "        [-10.0200, -10.2700,  -8.5600,  -9.1200, -10.8200]], device='cuda:0')\n",
      "--------------------------------------------------\n"
     ]
    },
    {
     "data": {
      "application/vnd.jupyter.widget-view+json": {
       "model_id": "813fd5ef821549c8968daa45d2ba4de2",
       "version_major": 2,
       "version_minor": 0
      },
      "text/plain": [
       "HBox(children=(HTML(value=''), FloatProgress(value=0.0, max=3713.0), HTML(value='')))"
      ]
     },
     "metadata": {},
     "output_type": "display_data"
    },
    {
     "name": "stdout",
     "output_type": "stream",
     "text": [
      "\n",
      "Epoch:    2, Loss: 1.4276\n",
      "Y\n",
      "['ct Gutenbe', 't Gutenber', ' Gutenberg', 'Gutenberg ', 'utenberg E']\n",
      "\n",
      "forward\n",
      "['rt out r e', 't out nte ', ' tut nte  ', 'aut nte  e', 'nserte  et']\n",
      "\n",
      "greedy_search\n",
      "['r the pawn', 't of the p', ' the the p', 'and the th', 'nter the t']\n",
      "tensor([ -9.3700,  -9.1400,  -9.7300,  -9.4500, -11.8700], device='cuda:0')\n",
      "\n",
      "sample\n",
      "['Becasces, ', 'opposiond ', \"'s any ont\", 'oulow Whit', '. I s undi']\n",
      "\n",
      "beam_search\n",
      "[['nt of the ', 't and the ', ' the pawn ', 'the of the', 'moves the '],\n",
      " ['r the the ', 't of the p', ' the of th', 'of the the', 'mover the '],\n",
      " ['r the pawn', 't of the t', ' of the th', 'the the th', 'movent the'],\n",
      " ['nt the paw', 't of the a', ' the the p', 'the pawn t', 'moves the\\n'],\n",
      " ['r the of t', 't of the o', ' the the t', 'the pawn a', 'mover the\\n']]\n",
      "tensor([[ -8.8500,  -8.6800,  -8.6000,  -7.9000,  -9.9500],\n",
      "        [ -8.9900,  -9.1400,  -8.7500,  -8.0500,  -9.9700],\n",
      "        [ -9.3700,  -9.1800,  -8.9200,  -8.9800, -10.5800],\n",
      "        [-10.3600,  -9.2500,  -9.7300,  -9.1500, -11.3300],\n",
      "        [-10.3700,  -9.2800,  -9.7300,  -9.5800, -11.3500]], device='cuda:0')\n",
      "--------------------------------------------------\n"
     ]
    },
    {
     "data": {
      "application/vnd.jupyter.widget-view+json": {
       "model_id": "54d1ba029d5646d29df3d5625a0cb158",
       "version_major": 2,
       "version_minor": 0
      },
      "text/plain": [
       "HBox(children=(HTML(value=''), FloatProgress(value=0.0, max=3713.0), HTML(value='')))"
      ]
     },
     "metadata": {},
     "output_type": "display_data"
    },
    {
     "name": "stdout",
     "output_type": "stream",
     "text": [
      "\n",
      "Epoch:    3, Loss: 1.3404\n",
      "Y\n",
      "['ct Gutenbe', 't Gutenber', ' Gutenberg', 'Gutenberg ', 'utenberg E']\n",
      "\n",
      "forward\n",
      "['rt outer e', 't oute te ', ' tuterte  ', 'oute te  -', 'nserte e-t']\n",
      "\n",
      "greedy_search\n",
      "['r the pawn', 't of the p', ' the pawn ', 'of the paw', 'ntage the ']\n",
      "tensor([ -8.8400,  -8.2900,  -7.9400,  -8.3100, -10.7500], device='cuda:0')\n",
      "\n",
      "sample\n",
      "['rdis no Bl', 'an the ly ', 'st\\nredvram', \"Black's at\", 'onterechut']\n",
      "\n",
      "beam_search\n",
      "[['r the the ', 't of the p', ' the pawn ', 'of the the', 'ing of the'],\n",
      " ['r the pawn', 't of the t', ' of the th', 'of the pla', 'ing the th'],\n",
      " ['r the play', 't of the o', ' the the p', 'of the paw', 'ing the mo'],\n",
      " ['nd the paw', 't of the a', ' the pawns', 'of the and', 'ing the of'],\n",
      " ['r the open', 't of the w', ' the the t', 'of the ope', 'ing the pa']]\n",
      "tensor([[ -8.5800,  -8.2900,  -7.9400,  -7.3100,  -9.1100],\n",
      "        [ -8.8400,  -8.4300,  -8.1200,  -8.2200,  -9.7800],\n",
      "        [ -8.9600,  -8.4800,  -8.9000,  -8.3100, -10.3800],\n",
      "        [-10.2300,  -8.7200,  -9.0100,  -8.4700, -10.5700],\n",
      "        [-10.4800,  -8.7700,  -9.0500,  -9.4900, -10.6800]], device='cuda:0')\n",
      "--------------------------------------------------\n"
     ]
    },
    {
     "data": {
      "application/vnd.jupyter.widget-view+json": {
       "model_id": "389513aec97146b09d979c58d7b4a55b",
       "version_major": 2,
       "version_minor": 0
      },
      "text/plain": [
       "HBox(children=(HTML(value=''), FloatProgress(value=0.0, max=3713.0), HTML(value='')))"
      ]
     },
     "metadata": {},
     "output_type": "display_data"
    },
    {
     "name": "stdout",
     "output_type": "stream",
     "text": [
      "\n",
      "Epoch:    4, Loss: 1.2927\n",
      "Y\n",
      "['ct Gutenbe', 't Gutenber', ' Gutenberg', 'Gutenberg ', 'utenberg E']\n",
      "\n",
      "forward\n",
      "['rt Gutente', 't iutente ', ' tutente g', 'outente  -', 'osenterg-t']\n",
      "\n",
      "greedy_search\n",
      "['r the pawn', 't in the o', ' the the p', 'of the the', 'ongentre o']\n",
      "tensor([ -8.7100,  -9.0800,  -9.5800,  -7.4800, -13.7700], device='cuda:0')\n",
      "\n",
      "sample\n",
      "['rgway, the', 't ther P-Q', '.\\n\\nWhite, ', 'taing he r', 'ure on for']\n",
      "\n",
      "beam_search\n",
      "[['ct of the ', 't of the o', ' the pawn ', 'of the the', '.\\n\\n       '],\n",
      " ['r the open', 't of the p', 'ion the th', 'of the to ', '.\\n\\n\\n      '],\n",
      " ['ct of the\\n', 't of the t', 'ion the op', 'of the paw', '.\\n\\n      1'],\n",
      " ['ct Gutent ', 't of the a', 'ion the pa', 'of the ope', 'ing of the'],\n",
      " ['ct of ther', 't of the w', ' the pawns', 'and the th', '.\\n\\n      2']]\n",
      "tensor([[ -8.1400,  -8.3800,  -8.2100,  -7.4800,  -4.1800],\n",
      "        [ -9.6800,  -8.3800,  -8.2400,  -8.4900,  -5.6000],\n",
      "        [ -9.9700,  -8.3900,  -8.9900,  -8.5700,  -9.0700],\n",
      "        [ -9.9900,  -8.4900,  -9.0700,  -8.9300,  -9.3300],\n",
      "        [-10.2300,  -8.6500,  -9.0800,  -9.0400,  -9.4500]], device='cuda:0')\n",
      "--------------------------------------------------\n"
     ]
    },
    {
     "data": {
      "application/vnd.jupyter.widget-view+json": {
       "model_id": "e5140643e7cb45278558af4d4ee90895",
       "version_major": 2,
       "version_minor": 0
      },
      "text/plain": [
       "HBox(children=(HTML(value=''), FloatProgress(value=0.0, max=3713.0), HTML(value='')))"
      ]
     },
     "metadata": {},
     "output_type": "display_data"
    },
    {
     "name": "stdout",
     "output_type": "stream",
     "text": [
      "\n",
      "Epoch:    5, Loss: 1.2615\n",
      "Y\n",
      "['ct Gutenbe', 't Gutenber', ' Gutenberg', 'Gutenberg ', 'utenberg E']\n",
      "\n",
      "forward\n",
      "['ct Gutente', 't outenter', ' tutenterg', 'outenterge', 'otenterg-t']\n",
      "\n",
      "greedy_search\n",
      "['ct Gutent ', 't of the p', ' the pawn ', 'of the paw', 'ompless th']\n",
      "tensor([ -7.6700,  -7.3300,  -7.7800,  -8.4800, -11.1900], device='cuda:0')\n",
      "\n",
      "sample\n",
      "['ct the DLa', 'inneith by', ' it is Bis', '5. The pri', 'e.\\n\\n8\\n\\n   ']\n",
      "\n",
      "beam_search\n",
      "[['ct of the ', 't of the p', \" the King'\", \"the King's\", 'entrationg'],\n",
      " ['ction the ', 't of the K', ' the King ', 'of the the', 'entrations'],\n",
      " ['ct Gutent ', 't of the t', ' the pawn ', 'of the Kin', 'entration '],\n",
      " ['ct Gutend ', 'tion the p', ' the pawns', 'of the paw', 'ing the th'],\n",
      " ['ct of the\\n', 't of the o', 'ion the pa', 'the King t', 'ing the pr']]\n",
      "tensor([[ -6.7500,  -7.3300,  -7.3600,  -7.1300, -10.0000],\n",
      "        [ -7.1300,  -7.6200,  -7.6500,  -7.6400, -10.1600],\n",
      "        [ -7.6700,  -7.8000,  -7.7800,  -7.9400, -10.5200],\n",
      "        [ -8.2200,  -7.9400,  -8.3100,  -8.4800, -10.6600],\n",
      "        [ -8.6100,  -8.0900,  -8.4300,  -8.8400, -10.6900]], device='cuda:0')\n",
      "--------------------------------------------------\n",
      "\n"
     ]
    }
   ],
   "source": [
    "importlib.reload(language_modelling_seq2seq)    \n",
    "net = language_modelling_seq2seq.Transformer(char2i, i2char, \n",
    "                                             embedding_dimension = 128, encoder_layers = 1,\n",
    "                                             feedforward_dimension = 128, decoder_layers = 1)\n",
    "net.to(device)\n",
    "net.fit(source_1, target_1, epochs = 5, batch_size = 150, lr = 0.0001, verbose = 3, \n",
    "        save_path = \"checkpoints/seq2seq_transformer.pt\")"
   ]
  },
  {
   "cell_type": "code",
   "execution_count": 9,
   "metadata": {},
   "outputs": [
    {
     "name": "stdout",
     "output_type": "stream",
     "text": [
      "Net parameters: 347,359\n"
     ]
    },
    {
     "data": {
      "application/vnd.jupyter.widget-view+json": {
       "model_id": "5d88d5be709a46168060e41845e03c6a",
       "version_major": 2,
       "version_minor": 0
      },
      "text/plain": [
       "HBox(children=(HTML(value=''), FloatProgress(value=0.0, max=19.0), HTML(value='')))"
      ]
     },
     "metadata": {},
     "output_type": "display_data"
    },
    {
     "name": "stdout",
     "output_type": "stream",
     "text": [
      "\n"
     ]
    },
    {
     "data": {
      "text/plain": [
       "tensor([[-17.7795, -18.8638, -19.3273, -19.3379, -19.3922],\n",
       "        [-17.3115, -17.5989, -17.9131, -18.1782, -18.6752],\n",
       "        [-18.3636, -18.5197, -18.9098, -19.1159, -19.4686],\n",
       "        [-18.1090, -18.3892, -19.4127, -19.4142, -19.4159],\n",
       "        [-18.7290, -19.0163, -19.5060, -19.6826, -20.2288],\n",
       "        [-18.2854, -19.0116, -19.1073, -19.7666, -19.7727],\n",
       "        [-17.5524, -18.1625, -18.2581, -18.3883, -19.1537],\n",
       "        [-19.2922, -19.3426, -19.4420, -19.4885, -19.7252],\n",
       "        [-17.2028, -18.9227, -18.9658, -18.9668, -19.1886],\n",
       "        [-17.8737, -18.6877, -19.3677, -19.5201, -19.6070],\n",
       "        [-18.2874, -19.0708, -19.4179, -19.4984, -19.5076],\n",
       "        [-20.5747, -20.6049, -21.1766, -21.2433, -21.5175],\n",
       "        [ -4.1325,  -6.9096,  -7.5791,  -8.0838,  -8.3037],\n",
       "        [-18.5519, -18.8185, -18.8756, -19.0184, -19.5266],\n",
       "        [-16.8947, -17.0268, -17.2045, -17.6133, -17.6189],\n",
       "        [-17.8384, -17.8389, -17.8906, -19.0541, -19.1177],\n",
       "        [-18.5707, -18.7196, -18.7317, -18.9966, -19.2743],\n",
       "        [-17.1037, -17.7737, -18.0266, -18.1291, -18.1828],\n",
       "        [-19.0880, -19.8224, -20.1136, -20.5056, -20.9402],\n",
       "        [ -3.8954,  -8.9623,  -9.2507,  -9.8189,  -9.8799]], device='cuda:0')"
      ]
     },
     "execution_count": 9,
     "metadata": {},
     "output_type": "execute_result"
    }
   ],
   "source": [
    "importlib.reload(language_modelling_seq2seq)    \n",
    "net = language_modelling_seq2seq.Transformer(char2i, i2char, \n",
    "                                            embedding_dimension = 128, encoder_layers = 1,\n",
    "                                            feedforward_dimension = 128, decoder_layers = 1)\n",
    "net.to(device)\n",
    "net.load_state_dict(torch.load(\"checkpoints/seq2seq_transformer.pt\"))\n",
    "test = net.beam_search(source_1[:10000], verbose = 1, batch_size = 50)\n",
    "\n",
    "test[1][:20]"
   ]
  },
  {
   "cell_type": "code",
   "execution_count": null,
   "metadata": {},
   "outputs": [],
   "source": []
  }
 ],
 "metadata": {
  "kernelspec": {
   "display_name": "Python 3",
   "language": "python",
   "name": "python3"
  },
  "language_info": {
   "codemirror_mode": {
    "name": "ipython",
    "version": 3
   },
   "file_extension": ".py",
   "mimetype": "text/x-python",
   "name": "python",
   "nbconvert_exporter": "python",
   "pygments_lexer": "ipython3",
   "version": "3.8.5"
  }
 },
 "nbformat": 4,
 "nbformat_minor": 5
}
