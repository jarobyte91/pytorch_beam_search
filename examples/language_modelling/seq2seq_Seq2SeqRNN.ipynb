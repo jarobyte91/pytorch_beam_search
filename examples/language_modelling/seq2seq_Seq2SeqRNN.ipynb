{
 "cells": [
  {
   "cell_type": "code",
   "execution_count": 1,
   "metadata": {},
   "outputs": [],
   "source": [
    "import torch\n",
    "import torch.nn as nn\n",
    "import torch.utils.data as tud\n",
    "from tqdm.notebook import tqdm\n",
    "from pprint import pprint\n",
    "import matplotlib.pyplot as plt\n",
    "import numpy as np\n",
    "import importlib\n",
    "import architectures"
   ]
  },
  {
   "cell_type": "code",
   "execution_count": 2,
   "metadata": {
    "scrolled": false
   },
   "outputs": [
    {
     "name": "stdout",
     "output_type": "stream",
     "text": [
      "556949\n",
      "﻿The Project Gutenberg EBook of Chess Strategy, by Edward Lasker\n",
      "\n",
      "This eBook is for the use of anyone anywhere at no cost and with\n",
      "almost no restrictions whatsoever.  You may copy it, give it away or\n",
      "re-use it under the terms of the Project Gutenberg License included\n",
      "with this eBook or online at www.gutenberg.org/license\n",
      "\n",
      "\n",
      "Title: Chess Strategy\n",
      "\n",
      "Author: Edward Lasker\n",
      "\n",
      "Translator: J. Du Mont\n",
      "\n",
      "Release Date: November 11, 2012 [EBook #5614]\n",
      "\n",
      "Language: English\n",
      "\n",
      "\n",
      "*** START OF THIS PROJECT GUTENBERG EBOOK CHESS STRATEGY ***\n",
      "\n",
      "\n",
      "\n",
      "\n",
      "Produced by John Mamoun <mamounjo@umdnj.edu>, Charles\n",
      "Franks, and the Online Distributed Proofreaders website.\n",
      "\n",
      "\n",
      "\n",
      "\n",
      "\n",
      "\n",
      "\n",
      "\n",
      "INFORMATION ABOUT THIS E-TEXT EDITION\n",
      "\n",
      "\n",
      "\n",
      "The following is an e-text of \"Chess Strategy,\" second edition, (1915)\n",
      "by Edward Lasker, translated by J. Du Mont.\n",
      "\n",
      "This e-text contains the 167 chess and checkers board game\n",
      "diagrams appearing in the original book, all in the form of\n",
      "ASCII line drawings. The following is a key to the diagrams:\n",
      "\n",
      "For chess pieces\n"
     ]
    }
   ],
   "source": [
    "# chess\n",
    "\n",
    "with open(\"data/pg5614.txt\", encoding = \"utf-8\") as file:\n",
    "    text = file.read()\n",
    "print(len(text))\n",
    "print(text[:1000])"
   ]
  },
  {
   "cell_type": "code",
   "execution_count": 3,
   "metadata": {},
   "outputs": [
    {
     "data": {
      "text/plain": [
       "556949"
      ]
     },
     "execution_count": 3,
     "metadata": {},
     "output_type": "execute_result"
    }
   ],
   "source": [
    "len(text)"
   ]
  },
  {
   "cell_type": "code",
   "execution_count": 4,
   "metadata": {},
   "outputs": [
    {
     "data": {
      "text/plain": [
       "92"
      ]
     },
     "execution_count": 4,
     "metadata": {},
     "output_type": "execute_result"
    }
   ],
   "source": [
    "vocabulary = set(text)\n",
    "len(vocabulary)"
   ]
  },
  {
   "cell_type": "code",
   "execution_count": 5,
   "metadata": {},
   "outputs": [
    {
     "name": "stdout",
     "output_type": "stream",
     "text": [
      "95\n",
      "95\n"
     ]
    }
   ],
   "source": [
    "char2i = {c:i for i, c in enumerate(sorted(vocabulary), 3)}\n",
    "char2i[\"<PAD>\"] = 0\n",
    "char2i[\"<START>\"] = 1\n",
    "char2i[\"<END>\"] = 2\n",
    "print(len(char2i))\n",
    "i2char = {i:c for i, c in enumerate(sorted(vocabulary), 3)}\n",
    "i2char[0] = \"<PAD>\"\n",
    "i2char[1] = \"<START>\"\n",
    "i2char[2] = \"<END>\"\n",
    "print(len(i2char))"
   ]
  },
  {
   "cell_type": "code",
   "execution_count": 6,
   "metadata": {},
   "outputs": [
    {
     "data": {
      "text/plain": [
       "device(type='cuda')"
      ]
     },
     "execution_count": 6,
     "metadata": {},
     "output_type": "execute_result"
    }
   ],
   "source": [
    "device = torch.device(\"cuda\" if torch.cuda.is_available() else \"cpu\")\n",
    "\n",
    "device"
   ]
  },
  {
   "cell_type": "code",
   "execution_count": 7,
   "metadata": {},
   "outputs": [
    {
     "name": "stdout",
     "output_type": "stream",
     "text": [
      "556949\n",
      "556929\n",
      "['\\ufeffThe Project Gutenbe', 'The Project Gutenber', 'he Project Gutenberg', 'e Project Gutenberg ', ' Project Gutenberg E']\n"
     ]
    },
    {
     "data": {
      "application/vnd.jupyter.widget-view+json": {
       "model_id": "1bf25499e9514f9c91df5d773943319a",
       "version_major": 2,
       "version_minor": 0
      },
      "text/plain": [
       "HBox(children=(HTML(value=''), FloatProgress(value=0.0, max=556929.0), HTML(value='')))"
      ]
     },
     "metadata": {},
     "output_type": "display_data"
    },
    {
     "name": "stdout",
     "output_type": "stream",
     "text": [
      "\n",
      "torch.Size([556929, 20])\n",
      "torch.Size([556929, 10])\n",
      "torch.Size([556929, 11])\n"
     ]
    }
   ],
   "source": [
    "length = 20\n",
    "lines = []\n",
    "for i in range(len(text))[:-length]:\n",
    "    lines.append(text[i:length + i])\n",
    "print(len(text))\n",
    "print(len(lines))\n",
    "print(lines[:5])\n",
    "encoded = torch.tensor([[char2i[c] for c in l] for l in tqdm(lines)]).to(device).long()\n",
    "print(encoded.shape)\n",
    "source_1 = encoded[:, :length // 2]\n",
    "print(source_1.shape)\n",
    "target_1 = torch.cat((torch.ones(encoded.shape[0], 1).to(device).long(), encoded[:, length // 2:]), axis = 1)\n",
    "print(target_1.shape)"
   ]
  },
  {
   "cell_type": "code",
   "execution_count": 8,
   "metadata": {
    "scrolled": false
   },
   "outputs": [
    {
     "name": "stdout",
     "output_type": "stream",
     "text": [
      "Net parameters: 408,795\n"
     ]
    },
    {
     "data": {
      "application/vnd.jupyter.widget-view+json": {
       "model_id": "37c764e0b2294362a124bebc7c33f7d7",
       "version_major": 2,
       "version_minor": 0
      },
      "text/plain": [
       "HBox(children=(HTML(value=''), FloatProgress(value=0.0, max=5.0), HTML(value='')))"
      ]
     },
     "metadata": {},
     "output_type": "display_data"
    },
    {
     "data": {
      "application/vnd.jupyter.widget-view+json": {
       "model_id": "cd0943a5583c4d7da71f71761becee4f",
       "version_major": 2,
       "version_minor": 0
      },
      "text/plain": [
       "HBox(children=(HTML(value=''), FloatProgress(value=0.0, max=3713.0), HTML(value='')))"
      ]
     },
     "metadata": {},
     "output_type": "display_data"
    },
    {
     "name": "stdout",
     "output_type": "stream",
     "text": [
      "\n",
      "Epoch:    1, Loss: 2.6771\n",
      "Y\n",
      "['ct Gutenbe', 't Gutenber', ' Gutenberg', 'Gutenberg ', 'utenberg E']\n",
      "\n",
      "forward\n",
      "['en  ee   e', 'ee ee   e ', '   e   e  ', '  n   e   ', ' n   e   t']\n",
      "\n",
      "greedy_search\n",
      "['e e  e  oe', 'e e  e  oe', '          ', '          ', '          ']\n",
      "tensor([-20.6300, -20.3800,  -9.9200,  -8.0000,  -7.6000], device='cuda:0')\n",
      "\n",
      "sample\n",
      "[' pneinhutv', 'Ugnoas h  ', 'feousarrt.', 'ine hn get', '2 cvd ne l']\n",
      "\n",
      "beam_search\n",
      "[[' e  e  oe ', ' e        ', '          ', '          ', '          '],\n",
      " [' e  e     ', ' e  t     ', '      \\n   ', '        . ', '        . '],\n",
      " [' e  e  e  ', ' e      t ', '         .', '         .', '         .'],\n",
      " [' e  e  t  ', ' e       t', '        \\n ', '         K', '         K'],\n",
      " [' e  e  e t', ' e       o', '         \\n', ' t        ', '    \\n     ']]\n",
      "tensor([[-19.1000, -15.2700,  -9.9200,  -8.0000,  -7.6000],\n",
      "        [-19.2500, -17.8000, -13.1000, -10.7900, -10.0700],\n",
      "        [-19.3500, -17.9600, -13.1100, -10.8500, -10.1800],\n",
      "        [-19.6200, -18.0400, -13.1800, -10.9000, -10.2300],\n",
      "        [-19.8300, -18.1000, -13.1900, -10.9700, -10.2700]], device='cuda:0')\n",
      "--------------------------------------------------\n"
     ]
    },
    {
     "data": {
      "application/vnd.jupyter.widget-view+json": {
       "model_id": "30b8d06ba9254e03b80cc2e552db55c7",
       "version_major": 2,
       "version_minor": 0
      },
      "text/plain": [
       "HBox(children=(HTML(value=''), FloatProgress(value=0.0, max=3713.0), HTML(value='')))"
      ]
     },
     "metadata": {},
     "output_type": "display_data"
    },
    {
     "name": "stdout",
     "output_type": "stream",
     "text": [
      "\n",
      "Epoch:    2, Loss: 1.9709\n",
      "Y\n",
      "['ct Gutenbe', 't Gutenber', ' Gutenberg', 'Gutenberg ', 'utenberg E']\n",
      "\n",
      "forward\n",
      "[' e anne  e', 'nhaone  e ', ' tone  e  ', ' ane  e   ', ' ne  e   t']\n",
      "\n",
      "greedy_search\n",
      "[' the the t', 'n the the ', ' the the t', ' the the t', ' the the t']\n",
      "tensor([-11.2300, -10.8000, -10.8700, -10.7900, -11.0800], device='cuda:0')\n",
      "\n",
      "sample\n",
      "['sitopascic', 'v\\ngif bast', ' opeserera', ' is opann ', 'ask omlet ']\n",
      "\n",
      "beam_search\n",
      "[['s the the ', 's the the ', 'e the the ', ' the the t', 'the the th'],\n",
      " ['n the the ', 'n the the ', ' the the t', 'the the th', ' the the t'],\n",
      " [' the the t', 'e the the ', 'the the th', ' the the p', ' the the c'],\n",
      " ['the the th', 'the the th', ' the the p', ' the the a', ' the the p'],\n",
      " [' the the p', 'the the to', ' the the a', ' the the c', ' the the a']]\n",
      "tensor([[-10.6800, -10.5500, -10.6200, -10.7900, -10.8300],\n",
      "        [-11.1500, -10.8000, -10.8700, -11.0100, -11.0800],\n",
      "        [-11.2300, -11.0200, -11.4300, -11.7300, -11.9600],\n",
      "        [-11.8800, -11.5800, -11.7800, -11.8000, -12.0000],\n",
      "        [-12.1900, -12.6700, -11.8400, -11.8400, -12.1700]], device='cuda:0')\n",
      "--------------------------------------------------\n"
     ]
    },
    {
     "data": {
      "application/vnd.jupyter.widget-view+json": {
       "model_id": "0aa9d2d4ef134597b5dad1fe2e96ccef",
       "version_major": 2,
       "version_minor": 0
      },
      "text/plain": [
       "HBox(children=(HTML(value=''), FloatProgress(value=0.0, max=3713.0), HTML(value='')))"
      ]
     },
     "metadata": {},
     "output_type": "display_data"
    },
    {
     "name": "stdout",
     "output_type": "stream",
     "text": [
      "\n",
      "Epoch:    3, Loss: 1.6086\n",
      "Y\n",
      "['ct Gutenbe', 't Gutenber', ' Gutenberg', 'Gutenberg ', 'utenberg E']\n",
      "\n",
      "forward\n",
      "[' e oothrte', 'n oothrtes', ' tothrtes ', 'toshrtese ', 'tn r es  a']\n",
      "\n",
      "greedy_search\n",
      "[' the pasti', 'n the pack', ' the pack ', 'the pack o', 'the pack o']\n",
      "tensor([-14.7500, -13.5800, -12.5600, -13.3500, -13.5700], device='cuda:0')\n",
      "\n",
      "sample\n",
      "['gber ir in', 'icithoct h', '-Q2.\\nThoul', 'theraorer ', 'ere, asitr']\n",
      "\n",
      "beam_search\n",
      "[['s the the ', 's the the ', ' the the c', 'of the the', 'the the th'],\n",
      " ['s the ther', 's of the p', ' the the p', 'the the th', 'the the pa'],\n",
      " ['s of the p', 's the ther', ' the the t', 'the the pa', 'the the co'],\n",
      " ['s of the c', 's of the c', ' the there', 'the the co', 'the the po'],\n",
      " ['s the thes', 's of the t', ' the ther ', 'the the po', 'the the mo']]\n",
      "tensor([[-10.7900, -10.5000, -10.9800, -10.4300, -10.6900],\n",
      "        [-11.4500, -11.5300, -10.9900, -10.5000, -11.3600],\n",
      "        [-11.4600, -11.5700, -11.1700, -11.2600, -11.5300],\n",
      "        [-11.6200, -11.6200, -11.3600, -11.4100, -11.6100],\n",
      "        [-11.6600, -11.7600, -11.5100, -11.4700, -11.7100]], device='cuda:0')\n",
      "--------------------------------------------------\n"
     ]
    },
    {
     "data": {
      "application/vnd.jupyter.widget-view+json": {
       "model_id": "483292e9a6b84a13b07326c2a8f4d124",
       "version_major": 2,
       "version_minor": 0
      },
      "text/plain": [
       "HBox(children=(HTML(value=''), FloatProgress(value=0.0, max=3713.0), HTML(value='')))"
      ]
     },
     "metadata": {},
     "output_type": "display_data"
    },
    {
     "name": "stdout",
     "output_type": "stream",
     "text": [
      "\n",
      "Epoch:    4, Loss: 1.4363\n",
      "Y\n",
      "['ct Gutenbe', 't Gutenber', ' Gutenberg', 'Gutenberg ', 'utenberg E']\n",
      "\n",
      "forward\n",
      "['ne outerte', 'n outhrten', ' tuthrten ', 'tuter ent ', 'on rten  t']\n",
      "\n",
      "greedy_search\n",
      "['nt of the ', 'n the pawn', ' the pawn ', 'the pawn t', 'of the paw']\n",
      "tensor([ -9.4300, -12.9500, -12.1000, -12.2200, -12.0400], device='cuda:0')\n",
      "\n",
      "sample\n",
      "['k it by am', 'e ho vat p', ' preant th', 'thaP\\nPnarm', 'P-Kt1) In ']\n",
      "\n",
      "beam_search\n",
      "[['nt of the ', 't of the p', ' in the th', 'of the the', 'of the the'],\n",
      " ['s of the p', 'n of the p', ' in the pa', 'of the Bla', 'of the Bla'],\n",
      " ['s in the p', 't of the K', ' in there ', 'the the pa', 'of the pra'],\n",
      " ['s of the t', 't of the t', ' in the co', 'of the thi', 'of the Kt-'],\n",
      " ['s of the B', 't of the B', ' in the pr', 'the the po', 'of the thi']]\n",
      "tensor([[ -9.4300, -10.8100, -10.2100,  -9.2600,  -9.5300],\n",
      "        [-10.5300, -10.9400, -10.9300,  -9.6500,  -9.7800],\n",
      "        [-10.8700, -11.0800, -11.0200, -11.0500, -11.2500],\n",
      "        [-10.9500, -11.0900, -11.0400, -11.1100, -11.3200],\n",
      "        [-10.9600, -11.1000, -11.0900, -11.4500, -11.5200]], device='cuda:0')\n",
      "--------------------------------------------------\n"
     ]
    },
    {
     "data": {
      "application/vnd.jupyter.widget-view+json": {
       "model_id": "4c314769c9004a9c83d18241989dfc0e",
       "version_major": 2,
       "version_minor": 0
      },
      "text/plain": [
       "HBox(children=(HTML(value=''), FloatProgress(value=0.0, max=3713.0), HTML(value='')))"
      ]
     },
     "metadata": {},
     "output_type": "display_data"
    },
    {
     "name": "stdout",
     "output_type": "stream",
     "text": [
      "\n",
      "Epoch:    5, Loss: 1.3381\n",
      "Y\n",
      "['ct Gutenbe', 't Gutenber', ' Gutenberg', 'Gutenberg ', 'utenberg E']\n",
      "\n",
      "forward\n",
      "['nt iutente', 'n iutenten', ' iutertent', 'tutertenti', 'orerteneii']\n",
      "\n",
      "greedy_search\n",
      "['nt of the ', 'n of the p', ' in the pa', 'the pawns ', 'ore theren']\n",
      "tensor([ -9.7800, -10.5200, -10.1200, -10.5200, -11.3600], device='cuda:0')\n",
      "\n",
      "sample\n",
      "[\"ce's\\n20\\nAp\", 'k, morjeni', '-3.\\n\\nIt ad', 'of thawsto', 'it EN ASON']\n",
      "\n",
      "beam_search\n",
      "[['nt of the ', 'k in there', ' in there ', 'of the Bla', 'is in the '],\n",
      " ['d in there', 'n of the p', ' of the pa', 'for the pa', 'is in ther'],\n",
      " ['s in there', 't in the p', ' in the pa', 'for the pr', 'is in the\\n'],\n",
      " ['nt of ther', 'k of the p', ' in theren', 'for the pl', 'is therent'],\n",
      " ['s in the p', 'n of the B', ' in the pr', 'for the co', 'is therere']]\n",
      "tensor([[ -9.7800, -10.2200,  -9.6300,  -9.6700,  -9.0100],\n",
      "        [-10.5300, -10.5200, -10.0300, -10.0900, -10.2400],\n",
      "        [-11.0000, -10.6300, -10.1200, -10.4900, -10.6300],\n",
      "        [-11.2900, -10.7600, -10.2400, -10.5200, -10.8600],\n",
      "        [-11.4300, -10.9300, -10.3500, -10.5800, -11.5100]], device='cuda:0')\n",
      "--------------------------------------------------\n",
      "\n"
     ]
    }
   ],
   "source": [
    "importlib.reload(architectures)    \n",
    "net = architectures.Seq2SeqRNN(char2i, i2char, \n",
    "                                            encoder_hidden_units = 100, encoder_layers = 2,\n",
    "                                            decoder_hidden_units = 100, decoder_layers = 2)\n",
    "net.to(device)\n",
    "net.fit(source_1, target_1, epochs = 5, batch_size = 150, lr = 0.0001, verbose = 3, \n",
    "        save_path = \"checkpoints/seq2seq_rnn.pt\")"
   ]
  },
  {
   "cell_type": "code",
   "execution_count": 9,
   "metadata": {},
   "outputs": [
    {
     "name": "stdout",
     "output_type": "stream",
     "text": [
      "Net parameters: 408,795\n"
     ]
    },
    {
     "data": {
      "application/vnd.jupyter.widget-view+json": {
       "model_id": "e5c2e1ee66ce4e44b025311762c444f1",
       "version_major": 2,
       "version_minor": 0
      },
      "text/plain": [
       "HBox(children=(HTML(value=''), FloatProgress(value=0.0, max=19.0), HTML(value='')))"
      ]
     },
     "metadata": {},
     "output_type": "display_data"
    },
    {
     "name": "stdout",
     "output_type": "stream",
     "text": [
      "\n"
     ]
    },
    {
     "data": {
      "text/plain": [
       "tensor([[-18.8141, -19.7653, -19.8694, -19.9193, -20.2288],\n",
       "        [-17.4957, -18.6100, -18.6299, -18.9028, -19.8872],\n",
       "        [-18.3789, -20.2667, -20.3989, -20.7093, -20.7725],\n",
       "        [-15.6710, -16.2029, -16.3612, -16.9529, -17.5500],\n",
       "        [-17.8357, -18.7938, -19.3254, -19.7596, -19.8829],\n",
       "        [-21.1543, -21.5276, -21.6064, -21.8728, -21.8767],\n",
       "        [-15.6704, -17.1371, -18.1419, -18.5228, -18.5794],\n",
       "        [-18.4857, -19.1718, -19.3081, -20.3524, -20.7493],\n",
       "        [-15.7996, -16.2512, -16.4037, -17.7195, -17.9228],\n",
       "        [-16.0028, -16.6383, -16.8499, -18.0045, -18.2924],\n",
       "        [-17.7652, -18.0934, -19.1811, -19.1906, -19.2634],\n",
       "        [-14.9344, -16.1676, -16.7993, -17.7656, -18.0726],\n",
       "        [-18.5126, -19.2358, -19.5149, -20.0582, -20.1607],\n",
       "        [-15.9511, -16.5176, -17.1594, -17.1826, -17.2279],\n",
       "        [-15.3750, -16.4801, -16.6909, -17.0651, -17.0956],\n",
       "        [-10.9919, -11.4634, -12.0848, -12.1962, -12.2681],\n",
       "        [-19.6064, -19.7052, -20.0788, -20.5436, -20.6214],\n",
       "        [-19.0948, -19.8210, -19.8383, -19.9466, -20.4648],\n",
       "        [-18.1486, -19.6142, -19.6199, -19.7180, -20.1143],\n",
       "        [-18.0863, -18.4336, -18.9572, -19.3504, -19.3871]], device='cuda:0')"
      ]
     },
     "execution_count": 9,
     "metadata": {},
     "output_type": "execute_result"
    }
   ],
   "source": [
    "importlib.reload(architectures)    \n",
    "net = architectures.Seq2SeqRNN(char2i, i2char, \n",
    "                                            encoder_hidden_units = 100,\n",
    "                                            encoder_layers = 2,\n",
    "                                            decoder_hidden_units = 100,\n",
    "                                            decoder_layers = 2)\n",
    "net.load_state_dict(torch.load(\"checkpoints/seq2seq_rnn.pt\"))\n",
    "net.to(device)\n",
    "test = net.beam_search(source_1[:10000], verbose = 1, batch_size = 50)\n",
    "\n",
    "test[1][:20]"
   ]
  },
  {
   "cell_type": "code",
   "execution_count": null,
   "metadata": {},
   "outputs": [],
   "source": []
  }
 ],
 "metadata": {
  "kernelspec": {
   "display_name": "Python 3",
   "language": "python",
   "name": "python3"
  },
  "language_info": {
   "codemirror_mode": {
    "name": "ipython",
    "version": 3
   },
   "file_extension": ".py",
   "mimetype": "text/x-python",
   "name": "python",
   "nbconvert_exporter": "python",
   "pygments_lexer": "ipython3",
   "version": "3.8.5"
  }
 },
 "nbformat": 4,
 "nbformat_minor": 5
}
