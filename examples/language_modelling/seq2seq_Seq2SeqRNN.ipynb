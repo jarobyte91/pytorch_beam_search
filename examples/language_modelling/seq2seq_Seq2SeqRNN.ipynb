{
 "cells": [
  {
   "cell_type": "code",
   "execution_count": 8,
   "metadata": {},
   "outputs": [],
   "source": [
    "import torch\n",
    "import torch.nn as nn\n",
    "import torch.utils.data as tud\n",
    "from tqdm.notebook import tqdm\n",
    "from pprint import pprint\n",
    "import matplotlib.pyplot as plt\n",
    "import numpy as np\n",
    "import importlib\n",
    "import language_modelling_seq2seq"
   ]
  },
  {
   "cell_type": "code",
   "execution_count": 22,
   "metadata": {
    "scrolled": false
   },
   "outputs": [
    {
     "name": "stdout",
     "output_type": "stream",
     "text": [
      "556949\n",
      "﻿The Project Gutenberg EBook of Chess Strategy, by Edward Lasker\n",
      "\n",
      "This eBook is for the use of anyone anywhere at no cost and with\n",
      "almost no restrictions whatsoever.  You may copy it, give it away or\n",
      "re-use it under the terms of the Project Gutenberg License included\n",
      "with this eBook or online at www.gutenberg.org/license\n",
      "\n",
      "\n",
      "Title: Chess Strategy\n",
      "\n",
      "Author: Edward Lasker\n",
      "\n",
      "Translator: J. Du Mont\n",
      "\n",
      "Release Date: November 11, 2012 [EBook #5614]\n",
      "\n",
      "Language: English\n",
      "\n",
      "\n",
      "*** START OF THIS PROJECT GUTENBERG EBOOK CHESS STRATEGY ***\n",
      "\n",
      "\n",
      "\n",
      "\n",
      "Produced by John Mamoun <mamounjo@umdnj.edu>, Charles\n",
      "Franks, and the Online Distributed Proofreaders website.\n",
      "\n",
      "\n",
      "\n",
      "\n",
      "\n",
      "\n",
      "\n",
      "\n",
      "INFORMATION ABOUT THIS E-TEXT EDITION\n",
      "\n",
      "\n",
      "\n",
      "The following is an e-text of \"Chess Strategy,\" second edition, (1915)\n",
      "by Edward Lasker, translated by J. Du Mont.\n",
      "\n",
      "This e-text contains the 167 chess and checkers board game\n",
      "diagrams appearing in the original book, all in the form of\n",
      "ASCII line drawings. The following is a key to the diagrams:\n",
      "\n",
      "For chess pieces\n"
     ]
    }
   ],
   "source": [
    "# chess\n",
    "\n",
    "with open(\"data/pg5614.txt\", encoding = \"utf-8\") as file:\n",
    "    text = file.read()\n",
    "print(len(text))\n",
    "print(text[:1000])"
   ]
  },
  {
   "cell_type": "code",
   "execution_count": 14,
   "metadata": {},
   "outputs": [
    {
     "data": {
      "text/plain": [
       "556949"
      ]
     },
     "execution_count": 14,
     "metadata": {},
     "output_type": "execute_result"
    }
   ],
   "source": [
    "len(text)"
   ]
  },
  {
   "cell_type": "code",
   "execution_count": 15,
   "metadata": {},
   "outputs": [
    {
     "data": {
      "text/plain": [
       "92"
      ]
     },
     "execution_count": 15,
     "metadata": {},
     "output_type": "execute_result"
    }
   ],
   "source": [
    "vocabulary = set(text)\n",
    "len(vocabulary)"
   ]
  },
  {
   "cell_type": "code",
   "execution_count": 16,
   "metadata": {},
   "outputs": [
    {
     "name": "stdout",
     "output_type": "stream",
     "text": [
      "95\n",
      "95\n"
     ]
    }
   ],
   "source": [
    "char2i = {c:i for i, c in enumerate(sorted(vocabulary), 3)}\n",
    "char2i[\"<PAD>\"] = 0\n",
    "char2i[\"<START>\"] = 1\n",
    "char2i[\"<END>\"] = 2\n",
    "print(len(char2i))\n",
    "i2char = {i:c for i, c in enumerate(sorted(vocabulary), 3)}\n",
    "i2char[0] = \"<PAD>\"\n",
    "i2char[1] = \"<START>\"\n",
    "i2char[2] = \"<END>\"\n",
    "print(len(i2char))"
   ]
  },
  {
   "cell_type": "code",
   "execution_count": 17,
   "metadata": {},
   "outputs": [
    {
     "data": {
      "text/plain": [
       "device(type='cuda')"
      ]
     },
     "execution_count": 17,
     "metadata": {},
     "output_type": "execute_result"
    }
   ],
   "source": [
    "device = torch.device(\"cuda\" if torch.cuda.is_available() else \"cpu\")\n",
    "\n",
    "device"
   ]
  },
  {
   "cell_type": "code",
   "execution_count": 18,
   "metadata": {},
   "outputs": [
    {
     "name": "stdout",
     "output_type": "stream",
     "text": [
      "556949\n",
      "556929\n",
      "['\\ufeffThe Project Gutenbe', 'The Project Gutenber', 'he Project Gutenberg', 'e Project Gutenberg ', ' Project Gutenberg E']\n"
     ]
    },
    {
     "data": {
      "application/vnd.jupyter.widget-view+json": {
       "model_id": "1ae87ce80e6948e29d9a5c941dd7a3e9",
       "version_major": 2,
       "version_minor": 0
      },
      "text/plain": [
       "HBox(children=(HTML(value=''), FloatProgress(value=0.0, max=556929.0), HTML(value='')))"
      ]
     },
     "metadata": {},
     "output_type": "display_data"
    },
    {
     "name": "stdout",
     "output_type": "stream",
     "text": [
      "\n",
      "torch.Size([556929, 20])\n",
      "torch.Size([556929, 10])\n",
      "torch.Size([556929, 11])\n"
     ]
    }
   ],
   "source": [
    "length = 20\n",
    "lines = []\n",
    "for i in range(len(text))[:-length]:\n",
    "    lines.append(text[i:length + i])\n",
    "print(len(text))\n",
    "print(len(lines))\n",
    "print(lines[:5])\n",
    "encoded = torch.tensor([[char2i[c] for c in l] for l in tqdm(lines)]).to(device).long()\n",
    "print(encoded.shape)\n",
    "source_1 = encoded[:, :length // 2]\n",
    "print(source_1.shape)\n",
    "target_1 = torch.cat((torch.ones(encoded.shape[0], 1).to(device).long(), encoded[:, length // 2:]), axis = 1)\n",
    "print(target_1.shape)"
   ]
  },
  {
   "cell_type": "code",
   "execution_count": 23,
   "metadata": {
    "scrolled": false
   },
   "outputs": [
    {
     "name": "stdout",
     "output_type": "stream",
     "text": [
      "Net parameters: 207,195\n"
     ]
    },
    {
     "data": {
      "application/vnd.jupyter.widget-view+json": {
       "model_id": "1fee4807e7104a689c6c97c613758b31",
       "version_major": 2,
       "version_minor": 0
      },
      "text/plain": [
       "HBox(children=(HTML(value=''), FloatProgress(value=0.0, max=5.0), HTML(value='')))"
      ]
     },
     "metadata": {},
     "output_type": "display_data"
    },
    {
     "data": {
      "application/vnd.jupyter.widget-view+json": {
       "model_id": "0ba4bc76aafe473d97ef46b109b82c4c",
       "version_major": 2,
       "version_minor": 0
      },
      "text/plain": [
       "HBox(children=(HTML(value=''), FloatProgress(value=0.0, max=3713.0), HTML(value='')))"
      ]
     },
     "metadata": {},
     "output_type": "display_data"
    },
    {
     "name": "stdout",
     "output_type": "stream",
     "text": [
      "\n",
      "Epoch:    1, Loss: 2.5410\n",
      "Y\n",
      "['ct Gutenbe', 't Gutenber', ' Gutenberg', 'Gutenberg ', 'utenberg E']\n",
      "forward\n",
      "[' ee  ee  e', ' e  ee  e ', '   ee  e e', '  ee  e ee', ' te  e ee ']\n",
      "greedy_search\n",
      "['          ', '          ', '          ', '          ', '          ']\n",
      "tensor([ -9.7900, -10.7400, -11.6600,  -8.9900,  -8.7400], device='cuda:0')\n",
      "sample\n",
      "['   os. o .', '\\nmk-tKeepa', 'hincfednue', ' nhe ls ot', '. 2P Ka\\n\\nl']\n",
      "beam_search\n",
      "[['          ', '          ', '          ', '          ', '          '],\n",
      " ['         t', '         t', '         t', '         t', '         t'],\n",
      " ['        t ', '        t ', '        t ', '        t ', '        t '],\n",
      " ['         a', '         o', '         o', '       t  ', '         .'],\n",
      " ['         o', '         a', '       t  ', '         a', '         a']]\n",
      "tensor([[ -9.7900, -10.7400, -11.6600,  -8.9900,  -8.7400],\n",
      "        [-12.8400, -13.7600, -14.5000, -12.3300, -11.9000],\n",
      "        [-13.2300, -14.0500, -14.7300, -12.5800, -12.3000],\n",
      "        [-13.3600, -14.1500, -14.8300, -12.7500, -12.4000],\n",
      "        [-13.3800, -14.2000, -14.8900, -12.8600, -12.4500]], device='cuda:0')\n",
      "--------------------------------------------------\n"
     ]
    },
    {
     "data": {
      "application/vnd.jupyter.widget-view+json": {
       "model_id": "5d412e89cea749f7b19e8f2c0be793ff",
       "version_major": 2,
       "version_minor": 0
      },
      "text/plain": [
       "HBox(children=(HTML(value=''), FloatProgress(value=0.0, max=3713.0), HTML(value='')))"
      ]
     },
     "metadata": {},
     "output_type": "display_data"
    },
    {
     "name": "stdout",
     "output_type": "stream",
     "text": [
      "\n",
      "Epoch:    2, Loss: 1.9396\n",
      "Y\n",
      "['ct Gutenbe', 't Gutenber', ' Gutenberg', 'Gutenberg ', 'utenberg E']\n",
      "forward\n",
      "[' h aose te', 'ehaose te ', ' tote te e', '  te te ee', ' te te eet']\n",
      "greedy_search\n",
      "[' the the t', 'e the the ', ' the the t', ' the the t', ' the the t']\n",
      "tensor([-12.1800, -11.9400, -11.3000, -11.5500, -11.6200], device='cuda:0')\n",
      "sample\n",
      "['xly Qiunce', 'oteripnljl', '\\n\\nen me in', '.g  inlewi', 'thilg bay;']\n",
      "beam_search\n",
      "[['s the the ', 'e the the ', 'e the the ', 'e the the ', ' the the t'],\n",
      " [' the the t', 'the the th', 'the the th', ' the the t', 'e the the '],\n",
      " ['e the the ', 'e the thes', ' the the t', 'the the th', 'the the th'],\n",
      " [' the thes ', 'e the ther', ' the thes ', ' the thes ', ' the thes '],\n",
      " [' the the p', 'the the to', ' the the a', ' the the a', ' the the a']]\n",
      "tensor([[-11.8200, -11.9400, -10.6400, -11.2400, -11.6200],\n",
      "        [-12.1800, -12.0400, -11.2000, -11.5500, -11.6800],\n",
      "        [-12.2000, -13.1600, -11.3000, -11.5700, -11.7900],\n",
      "        [-12.2600, -13.3300, -11.9500, -11.8400, -12.0100],\n",
      "        [-12.8400, -13.4300, -12.0400, -12.2000, -12.3900]], device='cuda:0')\n",
      "--------------------------------------------------\n"
     ]
    },
    {
     "data": {
      "application/vnd.jupyter.widget-view+json": {
       "model_id": "54d8d30553c94ca5ac181998e7ff51a7",
       "version_major": 2,
       "version_minor": 0
      },
      "text/plain": [
       "HBox(children=(HTML(value=''), FloatProgress(value=0.0, max=3713.0), HTML(value='')))"
      ]
     },
     "metadata": {},
     "output_type": "display_data"
    },
    {
     "name": "stdout",
     "output_type": "stream",
     "text": [
      "\n",
      "Epoch:    3, Loss: 1.6564\n",
      "Y\n",
      "['ct Gutenbe', 't Gutenber', ' Gutenberg', 'Gutenberg ', 'utenberg E']\n",
      "forward\n",
      "[' e aaserte', 'ehauserte ', ' aalerte e', ' alerte ea', ' lerte e.t']\n",
      "greedy_search\n",
      "[' the the t', 'enthe the ', ' and the K', ' andere th', ' the the t']\n",
      "tensor([-12.6800, -12.8900, -13.5100, -15.6400, -13.0900], device='cuda:0')\n",
      "sample\n",
      "['es.\\nK Q4\\na', 'bch PxBpin', 'e coves, d', 'Qt4. 1. R.', 'ok\\n\\nm\\n fxa']\n",
      "beam_search\n",
      "[[' the Black', 'the the th', 'e the the ', 'he the the', ' the there'],\n",
      " ['s the the ', 'the thite ', 'he the the', 'and the th', 'the the th'],\n",
      " [' the there', 'and the th', 'ing the Kt', 'his the th', 'the there '],\n",
      " ['s the ther', 'the the pa', 'ing the th', 'and the Kt', ' the the t'],\n",
      " [' the the t', 'the there ', 'ing the Bl', 'he the thi', 'the theres']]\n",
      "tensor([[-11.0700, -11.8600, -10.8600, -11.8000, -12.2500],\n",
      "        [-12.1100, -12.1200, -11.1700, -12.4600, -12.6900],\n",
      "        [-12.2600, -12.1700, -11.5100, -12.5300, -12.9100],\n",
      "        [-12.6500, -12.8200, -11.5500, -12.7700, -13.0900],\n",
      "        [-12.6800, -12.9600, -12.0400, -13.2500, -13.3400]], device='cuda:0')\n",
      "--------------------------------------------------\n"
     ]
    },
    {
     "data": {
      "application/vnd.jupyter.widget-view+json": {
       "model_id": "f7594ff6cfc745e5ac6df633146915c0",
       "version_major": 2,
       "version_minor": 0
      },
      "text/plain": [
       "HBox(children=(HTML(value=''), FloatProgress(value=0.0, max=3713.0), HTML(value='')))"
      ]
     },
     "metadata": {},
     "output_type": "display_data"
    },
    {
     "name": "stdout",
     "output_type": "stream",
     "text": [
      "\n",
      "Epoch:    4, Loss: 1.5154\n",
      "Y\n",
      "['ct Gutenbe', 't Gutenber', ' Gutenberg', 'Gutenberg ', 'utenberg E']\n",
      "forward\n",
      "[' k autenty', 'thoutenty ', ' autente  ', 'husente   ', ' lente e.t']\n",
      "greedy_search\n",
      "[' the pawn ', 'the the pa', ' and the K', 'he pawn th', ' the Kting']\n",
      "tensor([-13.3200, -12.5600, -12.3500, -13.4100, -13.4700], device='cuda:0')\n",
      "sample\n",
      "[\"n. 's QBac\", 'veint amve', 'ack hin pr', 'as dede bi', ' timeind w']\n",
      "beam_search\n",
      "[[' the Black', 'n the Blac', 'ing the Kt', 'the Black ', 'the Black '],\n",
      " ['s the Blac', 'n the the ', 'ing the Bl', \"the Black'\", \"the Black'\"],\n",
      " ['s the King', 'n the ther', 'ing the th', 'the Black,', 'the Black,'],\n",
      " ['s the Blak', 'the the th', 'ing the Ki', 'the Black.', 'there the '],\n",
      " ['s the Blay', 'the the pa', 'ing the pa', 'the Black\\n', 'the Black.']]\n",
      "tensor([[-10.2700, -10.7600, -10.9900,  -9.0300, -10.3300],\n",
      "        [-11.0800, -10.9100, -11.2000, -10.8200, -11.8400],\n",
      "        [-11.9600, -12.2600, -11.5600, -11.0700, -12.0300],\n",
      "        [-12.7700, -12.3800, -11.5900, -11.3300, -12.0800],\n",
      "        [-13.0500, -12.5600, -11.7200, -11.4800, -12.3500]], device='cuda:0')\n",
      "--------------------------------------------------\n"
     ]
    },
    {
     "data": {
      "application/vnd.jupyter.widget-view+json": {
       "model_id": "fd561e848265405c9b2222b0032cb2a8",
       "version_major": 2,
       "version_minor": 0
      },
      "text/plain": [
       "HBox(children=(HTML(value=''), FloatProgress(value=0.0, max=3713.0), HTML(value='')))"
      ]
     },
     "metadata": {},
     "output_type": "display_data"
    },
    {
     "name": "stdout",
     "output_type": "stream",
     "text": [
      "\n",
      "Epoch:    5, Loss: 1.4288\n",
      "Y\n",
      "['ct Gutenbe', 't Gutenber', ' Gutenberg', 'Gutenberg ', 'utenberg E']\n",
      "forward\n",
      "['nk autenty', 't tutente ', ' tutente  ', 'tutente   ', 'tsentere.t']\n",
      "greedy_search\n",
      "['n the pawn', 't the Kt-K', ' the Kt-Kt', 'the pawn t', 'the the pa']\n",
      "tensor([-12.1500, -12.9100, -12.6700, -11.7800, -13.1900], device='cuda:0')\n",
      "sample\n",
      "['s, ot pawn', 'agnon,\\nBla', 'B-B3; 2. K', 'therewibul', 'eng. prest']\n",
      "beam_search\n",
      "[['ng.\\n\\n     ', 'n the Blac', ' the Black', 'the Black ', 'the Black '],\n",
      " ['s the Blac', 'n the King', ' the King ', \"the Black'\", \"the Black'\"],\n",
      " ['s, and the', 'ing the Bl', ' the King.', 'the King. ', 'and the Kt'],\n",
      " ['s the pawn', 'ing the Kt', 'ing the Bl', 'the Black\\n', 'and the Bl'],\n",
      " ['s, and to ', 'ing the pa', 'ing the Kt', 'the Black,', 'the Black\\n']]\n",
      "tensor([[ -8.6700,  -9.6500,  -8.5100,  -7.9200, -10.1700],\n",
      "        [-10.4400, -10.2700, -10.1300,  -9.3600, -11.2100],\n",
      "        [-10.5000, -11.2500, -10.6500, -10.1100, -11.7300],\n",
      "        [-11.8800, -11.4000, -10.6800, -10.1500, -11.8600],\n",
      "        [-12.1800, -11.6500, -10.7300, -10.3000, -11.8800]], device='cuda:0')\n",
      "--------------------------------------------------\n",
      "\n"
     ]
    }
   ],
   "source": [
    "importlib.reload(language_modelling_seq2seq)    \n",
    "net = language_modelling_seq2seq.Seq2SeqRNN(char2i, i2char, encoder_hidden_units = 100, decoder_hidden_units = 100)\n",
    "net.to(device)\n",
    "net.fit(source_1, target_1, epochs = 5, batch_size = 150, lr = 0.0001, verbose = 3)"
   ]
  },
  {
   "cell_type": "code",
   "execution_count": 32,
   "metadata": {},
   "outputs": [
    {
     "data": {
      "application/vnd.jupyter.widget-view+json": {
       "model_id": "74e334956b9c409192850af46c6c0d58",
       "version_major": 2,
       "version_minor": 0
      },
      "text/plain": [
       "HBox(children=(HTML(value=''), FloatProgress(value=0.0, max=19.0), HTML(value='')))"
      ]
     },
     "metadata": {},
     "output_type": "display_data"
    },
    {
     "name": "stdout",
     "output_type": "stream",
     "text": [
      "\n"
     ]
    },
    {
     "data": {
      "text/plain": [
       "(tensor([[[ 1, 80, 73,  ..., 86, 74, 71],\n",
       "          [ 1, 80, 73,  ..., 80, 86,  5],\n",
       "          [ 1, 80, 73,  ..., 71, 80, 86],\n",
       "          [ 1, 80, 73,  ..., 71, 80, 75],\n",
       "          [ 1, 80, 73,  ..., 71, 85,  5]],\n",
       " \n",
       "         [[ 1, 80,  5,  ..., 69, 77,  5],\n",
       "          [ 1, 80,  5,  ..., 69, 77, 12],\n",
       "          [ 1, 80,  5,  ..., 78, 67, 69],\n",
       "          [ 1, 80,  5,  ..., 69, 77, 17],\n",
       "          [ 1, 80,  5,  ..., 69, 77,  4]],\n",
       " \n",
       "         [[ 1,  5, 86,  ..., 77, 12, 85],\n",
       "          [ 1,  5, 86,  ..., 67, 69, 77],\n",
       "          [ 1,  5, 86,  ..., 77, 17,  5],\n",
       "          [ 1,  5, 86,  ..., 77,  5, 67],\n",
       "          [ 1,  5, 86,  ..., 77,  5, 86]],\n",
       " \n",
       "         ...,\n",
       " \n",
       "         [[ 1, 81, 72,  ..., 71,  5, 82],\n",
       "          [ 1, 81, 72,  ..., 74, 71,  5],\n",
       "          [ 1, 81, 72,  ..., 71,  5, 79],\n",
       "          [ 1, 81, 72,  ..., 71,  5, 67],\n",
       "          [ 1, 81, 72,  ..., 71,  5, 48]],\n",
       " \n",
       "         [[ 1, 81, 72,  ..., 74, 71,  5],\n",
       "          [ 1, 81, 72,  ..., 74, 71,  5],\n",
       "          [ 1, 81, 72,  ..., 71,  5, 82],\n",
       "          [ 1, 75, 80,  ..., 71,  5, 82],\n",
       "          [ 1, 81, 72,  ..., 71,  5, 79]],\n",
       " \n",
       "         [[ 1, 81, 72,  ...,  4, 57, 74],\n",
       "          [ 1, 81, 72,  ..., 74, 71,  5],\n",
       "          [ 1, 81, 72,  ...,  4, 46, 80],\n",
       "          [ 1, 81, 72,  ..., 57, 74, 71],\n",
       "          [ 1, 81, 72,  ..., 46, 80,  5]]]),\n",
       " tensor([[-18.9430, -18.9808, -19.1824, -20.2424, -20.2570],\n",
       "         [-16.8787, -17.7524, -17.9082, -18.3262, -18.5713],\n",
       "         [-16.1506, -16.4327, -16.9054, -17.2990, -17.3485],\n",
       "         ...,\n",
       "         [-21.2192, -21.2994, -21.7554, -22.0113, -22.1240],\n",
       "         [-21.6862, -21.6862, -21.8524, -22.2250, -22.5579],\n",
       "         [-24.6455, -24.7984, -25.2211, -25.5621, -25.7370]]))"
      ]
     },
     "execution_count": 32,
     "metadata": {},
     "output_type": "execute_result"
    }
   ],
   "source": [
    "net.cpu().beam_search(source_1[:10000].cpu(), verbose = 1, batch_size = 50)"
   ]
  },
  {
   "cell_type": "code",
   "execution_count": null,
   "metadata": {},
   "outputs": [],
   "source": []
  }
 ],
 "metadata": {
  "kernelspec": {
   "display_name": "Python 3",
   "language": "python",
   "name": "python3"
  },
  "language_info": {
   "codemirror_mode": {
    "name": "ipython",
    "version": 3
   },
   "file_extension": ".py",
   "mimetype": "text/x-python",
   "name": "python",
   "nbconvert_exporter": "python",
   "pygments_lexer": "ipython3",
   "version": "3.8.5"
  }
 },
 "nbformat": 4,
 "nbformat_minor": 5
}
