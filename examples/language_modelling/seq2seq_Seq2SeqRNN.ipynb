{
 "cells": [
  {
   "cell_type": "code",
   "execution_count": 1,
   "metadata": {},
   "outputs": [],
   "source": [
    "import torch\n",
    "import torch.nn as nn\n",
    "import torch.utils.data as tud\n",
    "from tqdm.notebook import tqdm\n",
    "from pprint import pprint\n",
    "import matplotlib.pyplot as plt\n",
    "import numpy as np\n",
    "import importlib\n",
    "import language_modelling_seq2seq"
   ]
  },
  {
   "cell_type": "code",
   "execution_count": 2,
   "metadata": {
    "scrolled": false
   },
   "outputs": [
    {
     "name": "stdout",
     "output_type": "stream",
     "text": [
      "556949\n",
      "﻿The Project Gutenberg EBook of Chess Strategy, by Edward Lasker\n",
      "\n",
      "This eBook is for the use of anyone anywhere at no cost and with\n",
      "almost no restrictions whatsoever.  You may copy it, give it away or\n",
      "re-use it under the terms of the Project Gutenberg License included\n",
      "with this eBook or online at www.gutenberg.org/license\n",
      "\n",
      "\n",
      "Title: Chess Strategy\n",
      "\n",
      "Author: Edward Lasker\n",
      "\n",
      "Translator: J. Du Mont\n",
      "\n",
      "Release Date: November 11, 2012 [EBook #5614]\n",
      "\n",
      "Language: English\n",
      "\n",
      "\n",
      "*** START OF THIS PROJECT GUTENBERG EBOOK CHESS STRATEGY ***\n",
      "\n",
      "\n",
      "\n",
      "\n",
      "Produced by John Mamoun <mamounjo@umdnj.edu>, Charles\n",
      "Franks, and the Online Distributed Proofreaders website.\n",
      "\n",
      "\n",
      "\n",
      "\n",
      "\n",
      "\n",
      "\n",
      "\n",
      "INFORMATION ABOUT THIS E-TEXT EDITION\n",
      "\n",
      "\n",
      "\n",
      "The following is an e-text of \"Chess Strategy,\" second edition, (1915)\n",
      "by Edward Lasker, translated by J. Du Mont.\n",
      "\n",
      "This e-text contains the 167 chess and checkers board game\n",
      "diagrams appearing in the original book, all in the form of\n",
      "ASCII line drawings. The following is a key to the diagrams:\n",
      "\n",
      "For chess pieces\n"
     ]
    }
   ],
   "source": [
    "# chess\n",
    "\n",
    "with open(\"data/pg5614.txt\", encoding = \"utf-8\") as file:\n",
    "    text = file.read()\n",
    "print(len(text))\n",
    "print(text[:1000])"
   ]
  },
  {
   "cell_type": "code",
   "execution_count": 3,
   "metadata": {},
   "outputs": [
    {
     "data": {
      "text/plain": [
       "556949"
      ]
     },
     "execution_count": 3,
     "metadata": {},
     "output_type": "execute_result"
    }
   ],
   "source": [
    "len(text)"
   ]
  },
  {
   "cell_type": "code",
   "execution_count": 4,
   "metadata": {},
   "outputs": [
    {
     "data": {
      "text/plain": [
       "92"
      ]
     },
     "execution_count": 4,
     "metadata": {},
     "output_type": "execute_result"
    }
   ],
   "source": [
    "vocabulary = set(text)\n",
    "len(vocabulary)"
   ]
  },
  {
   "cell_type": "code",
   "execution_count": 5,
   "metadata": {},
   "outputs": [
    {
     "name": "stdout",
     "output_type": "stream",
     "text": [
      "95\n",
      "95\n"
     ]
    }
   ],
   "source": [
    "char2i = {c:i for i, c in enumerate(sorted(vocabulary), 3)}\n",
    "char2i[\"<PAD>\"] = 0\n",
    "char2i[\"<START>\"] = 1\n",
    "char2i[\"<END>\"] = 2\n",
    "print(len(char2i))\n",
    "i2char = {i:c for i, c in enumerate(sorted(vocabulary), 3)}\n",
    "i2char[0] = \"<PAD>\"\n",
    "i2char[1] = \"<START>\"\n",
    "i2char[2] = \"<END>\"\n",
    "print(len(i2char))"
   ]
  },
  {
   "cell_type": "code",
   "execution_count": 6,
   "metadata": {},
   "outputs": [
    {
     "data": {
      "text/plain": [
       "device(type='cuda')"
      ]
     },
     "execution_count": 6,
     "metadata": {},
     "output_type": "execute_result"
    }
   ],
   "source": [
    "device = torch.device(\"cuda\" if torch.cuda.is_available() else \"cpu\")\n",
    "\n",
    "device"
   ]
  },
  {
   "cell_type": "code",
   "execution_count": 7,
   "metadata": {},
   "outputs": [
    {
     "name": "stdout",
     "output_type": "stream",
     "text": [
      "556949\n",
      "556929\n",
      "['\\ufeffThe Project Gutenbe', 'The Project Gutenber', 'he Project Gutenberg', 'e Project Gutenberg ', ' Project Gutenberg E']\n"
     ]
    },
    {
     "data": {
      "application/vnd.jupyter.widget-view+json": {
       "model_id": "64d7e932270541deb9b3af26f3cd2f58",
       "version_major": 2,
       "version_minor": 0
      },
      "text/plain": [
       "HBox(children=(HTML(value=''), FloatProgress(value=0.0, max=556929.0), HTML(value='')))"
      ]
     },
     "metadata": {},
     "output_type": "display_data"
    },
    {
     "name": "stdout",
     "output_type": "stream",
     "text": [
      "\n",
      "torch.Size([556929, 20])\n",
      "torch.Size([556929, 10])\n",
      "torch.Size([556929, 11])\n"
     ]
    }
   ],
   "source": [
    "length = 20\n",
    "lines = []\n",
    "for i in range(len(text))[:-length]:\n",
    "    lines.append(text[i:length + i])\n",
    "print(len(text))\n",
    "print(len(lines))\n",
    "print(lines[:5])\n",
    "encoded = torch.tensor([[char2i[c] for c in l] for l in tqdm(lines)]).to(device).long()\n",
    "print(encoded.shape)\n",
    "source_1 = encoded[:, :length // 2]\n",
    "print(source_1.shape)\n",
    "target_1 = torch.cat((torch.ones(encoded.shape[0], 1).to(device).long(), encoded[:, length // 2:]), axis = 1)\n",
    "print(target_1.shape)"
   ]
  },
  {
   "cell_type": "code",
   "execution_count": 8,
   "metadata": {
    "scrolled": false
   },
   "outputs": [
    {
     "name": "stdout",
     "output_type": "stream",
     "text": [
      "Net parameters: 207,195\n"
     ]
    },
    {
     "data": {
      "application/vnd.jupyter.widget-view+json": {
       "model_id": "a76be96fae0b445c8a2799cb05a4a668",
       "version_major": 2,
       "version_minor": 0
      },
      "text/plain": [
       "HBox(children=(HTML(value=''), FloatProgress(value=0.0, max=5.0), HTML(value='')))"
      ]
     },
     "metadata": {},
     "output_type": "display_data"
    },
    {
     "data": {
      "application/vnd.jupyter.widget-view+json": {
       "model_id": "75db6c2bf19e4f3bbe2b9b42bbb75a4c",
       "version_major": 2,
       "version_minor": 0
      },
      "text/plain": [
       "HBox(children=(HTML(value=''), FloatProgress(value=0.0, max=3713.0), HTML(value='')))"
      ]
     },
     "metadata": {},
     "output_type": "display_data"
    },
    {
     "name": "stdout",
     "output_type": "stream",
     "text": [
      "\n",
      "Epoch:    1, Loss: 2.5198\n",
      "Y\n",
      "['ct Gutenbe', 't Gutenber', ' Gutenberg', 'Gutenberg ', 'utenberg E']\n",
      "forward\n",
      "[' ee  te  e', ' e  te  e ', '   ne  e e', '  ne  e e ', ' ne  e e  ']\n",
      "greedy_search\n",
      "['          ', '          ', '          ', '          ', '          ']\n",
      "tensor([-11.8300, -11.8100, -12.8500, -10.4100,  -9.8600], device='cuda:0')\n",
      "sample\n",
      "[' te aun pa', 'wiis\\nchce ', \"ron s Q', \", 'gin rnet h', '\\n wntebrt(']\n",
      "beam_search\n",
      "[['          ', '          ', '          ', '          ', '          '],\n",
      " ['e         ', 'e         ', '        . ', 'e         ', '        . '],\n",
      " ['        . ', '        . ', '         a', '        . ', '         a'],\n",
      " ['         a', '         a', 'e         ', '         a', 'e         '],\n",
      " ['         t', '         t', '         t', '         t', '         t']]\n",
      "tensor([[-11.8300, -12.0000, -12.0400, -11.7300, -11.6100],\n",
      "        [-14.1500, -14.3000, -14.3900, -13.8600, -13.9700],\n",
      "        [-14.1900, -14.3500, -14.6900, -14.0900, -14.2600],\n",
      "        [-14.4800, -14.6500, -14.7200, -14.3800, -14.3200],\n",
      "        [-14.6200, -14.7800, -14.8200, -14.5100, -14.4000]], device='cuda:0')\n",
      "--------------------------------------------------\n"
     ]
    },
    {
     "data": {
      "application/vnd.jupyter.widget-view+json": {
       "model_id": "6c82a093b7f848e2850335b64992eef2",
       "version_major": 2,
       "version_minor": 0
      },
      "text/plain": [
       "HBox(children=(HTML(value=''), FloatProgress(value=0.0, max=3713.0), HTML(value='')))"
      ]
     },
     "metadata": {},
     "output_type": "display_data"
    },
    {
     "name": "stdout",
     "output_type": "stream",
     "text": [
      "\n",
      "Epoch:    2, Loss: 1.9141\n",
      "Y\n",
      "['ct Gutenbe', 't Gutenber', ' Gutenberg', 'Gutenberg ', 'utenberg E']\n",
      "forward\n",
      "[' h aos  te', 'ehaote te ', ' tote te e', '  te te ee', ' le te eet']\n",
      "greedy_search\n",
      "[' the the t', 'e the the ', ' the the t', ' an the th', ' the the t']\n",
      "tensor([-10.8600, -11.1100, -10.9500, -12.4800, -10.9500], device='cuda:0')\n",
      "sample\n",
      "[\"\\nnneond'n\\n\", 'ard K-tala', 'chens fon ', \"ark ak'h f\", 'ses the th']\n",
      "beam_search\n",
      "[['s the the ', 'e the the ', 'the the th', ' the the t', ' the the t'],\n",
      " [' the the t', 'the the th', ' the the t', 'the the th', 'e the the '],\n",
      " ['the the th', 'es the the', ' the thes ', 'e the the ', 'the the th'],\n",
      " [' the thes ', 'the the to', ' the there', ' the thes ', ' the thes '],\n",
      " [' the the p', 'e the ther', ' the the p', ' the the p', ' the the p']]\n",
      "tensor([[-10.8600, -10.7700, -11.1200, -10.9300, -10.9200],\n",
      "        [-10.8700, -11.1100, -11.2600, -10.9400, -11.0100],\n",
      "        [-11.0000, -11.6000, -11.9900, -10.9600, -11.0100],\n",
      "        [-11.7300, -12.4000, -12.0900, -11.7900, -11.7900],\n",
      "        [-11.7400, -12.5800, -12.1300, -11.8000, -11.7900]], device='cuda:0')\n",
      "--------------------------------------------------\n"
     ]
    },
    {
     "data": {
      "application/vnd.jupyter.widget-view+json": {
       "model_id": "55afbe9f52e84be3bad68e54b5d87c79",
       "version_major": 2,
       "version_minor": 0
      },
      "text/plain": [
       "HBox(children=(HTML(value=''), FloatProgress(value=0.0, max=3713.0), HTML(value='')))"
      ]
     },
     "metadata": {},
     "output_type": "display_data"
    },
    {
     "name": "stdout",
     "output_type": "stream",
     "text": [
      "\n",
      "Epoch:    3, Loss: 1.6354\n",
      "Y\n",
      "['ct Gutenbe', 't Gutenber', ' Gutenberg', 'Gutenberg ', 'utenberg E']\n",
      "forward\n",
      "[' e aos   e', 'ehoote te ', 'etote te e', 'eete te ee', ' lerte e.t']\n",
      "greedy_search\n",
      "[' the the t', 'en the the', 'e the the ', 'e the the ', ' andereng.']\n",
      "tensor([-10.4700, -10.9100,  -9.5100, -10.3700, -16.5600], device='cuda:0')\n",
      "sample\n",
      "['igief s Kt', 'ke bine, a', 'upthis tou', 'ontighin g', ' oind wock']\n",
      "beam_search\n",
      "[['s the the ', 'e the the ', 'e the the ', 'e the the ', 'ing the th'],\n",
      " [' the the t', 'the the th', 'ing the th', 'ing the th', ' the the t'],\n",
      " [' the thes ', 'e the ther', ' the the t', ' the the t', ' the thes '],\n",
      " [' the the p', 'e the thes', 'e the ther', ' the the p', ' the the p'],\n",
      " [' the there', 'the the pa', ' the the p', ' the there', ' the there']]\n",
      "tensor([[ -9.9000, -10.4100,  -9.9300, -10.1500, -10.9200],\n",
      "        [-10.4900, -11.9000, -11.0000, -11.0800, -11.0000],\n",
      "        [-10.5200, -12.0900, -11.2800, -11.2800, -11.0300],\n",
      "        [-10.6000, -12.1500, -11.6100, -11.4000, -11.1100],\n",
      "        [-10.9200, -12.4900, -11.6200, -11.5200, -11.4400]], device='cuda:0')\n",
      "--------------------------------------------------\n"
     ]
    },
    {
     "data": {
      "application/vnd.jupyter.widget-view+json": {
       "model_id": "ec5e9178655849ea9f0f6a2af8a7f847",
       "version_major": 2,
       "version_minor": 0
      },
      "text/plain": [
       "HBox(children=(HTML(value=''), FloatProgress(value=0.0, max=3713.0), HTML(value='')))"
      ]
     },
     "metadata": {},
     "output_type": "display_data"
    },
    {
     "name": "stdout",
     "output_type": "stream",
     "text": [
      "\n",
      "Epoch:    4, Loss: 1.5009\n",
      "Y\n",
      "['ct Gutenbe', 't Gutenber', ' Gutenberg', 'Gutenberg ', 'utenberg E']\n",
      "forward\n",
      "[' e autente', 'eeoutente ', 'etuterte e', 'outerte e.', 'erertere.t']\n",
      "greedy_search\n",
      "[' the pann ', 'en the the', 'e the the ', 'ore the pa', 'erenting t']\n",
      "tensor([-12.5200, -11.1500,  -9.7700, -13.1600, -13.5500], device='cuda:0')\n",
      "sample\n",
      "['n\\nlale to ', 'us. The fo', 'iom at can', 'liet posen', 'amaged ToO']\n",
      "beam_search\n",
      "[['s the the ', 'en the the', 'ed the the', 'on the the', 'ing the th'],\n",
      " ['s the and ', 'ed the the', 'en the the', 'and the th', 'ing the pa'],\n",
      " [' the thes ', 'ing the th', 'ing the th', 'ing the th', 'ing the Kt'],\n",
      " [' the there', 'ing the pa', 'ing the pa', 'ing the pa', 'ing the an'],\n",
      " ['s the ther', 'ing the an', 'ing the an', 'ing the an', 'ing the to']]\n",
      "tensor([[-10.3800, -10.8200, -10.3600, -10.4500, -10.6100],\n",
      "        [-11.2000, -10.9400, -10.4500, -10.9700, -10.8100],\n",
      "        [-11.2500, -11.3300, -10.9000, -10.9900, -11.0200],\n",
      "        [-11.5400, -11.6300, -11.2100, -11.1900, -11.2700],\n",
      "        [-11.5700, -11.9100, -11.4900, -11.4700, -11.4600]], device='cuda:0')\n",
      "--------------------------------------------------\n"
     ]
    },
    {
     "data": {
      "application/vnd.jupyter.widget-view+json": {
       "model_id": "5a1f3db6c56d4d8b9ec1b540c913afd9",
       "version_major": 2,
       "version_minor": 0
      },
      "text/plain": [
       "HBox(children=(HTML(value=''), FloatProgress(value=0.0, max=3713.0), HTML(value='')))"
      ]
     },
     "metadata": {},
     "output_type": "display_data"
    },
    {
     "name": "stdout",
     "output_type": "stream",
     "text": [
      "\n",
      "Epoch:    5, Loss: 1.4157\n",
      "Y\n",
      "['ct Gutenbe', 't Gutenber', ' Gutenberg', 'Gutenberg ', 'utenberg E']\n",
      "forward\n",
      "['ne autente', 'eeoutentyn', 'etutentyre', 'outen yre.', 'erentyre.t']\n",
      "greedy_search\n",
      "['ng the paw', 'ent the pa', 'e the pawn', 'on the paw', 'erengreng.']\n",
      "tensor([-11.5100, -13.3400, -11.6400, -11.8800, -14.8500], device='cuda:0')\n",
      "sample\n",
      "['g QR and.\\n', 'enn. It to', ' hamlayig,', 'a no his o', ' Kist.\\n\\n E']\n",
      "beam_search\n",
      "[['s the King', 'ed and the', 'ing the pa', 'on the the', 'ing the pa'],\n",
      " ['s the the ', 'en the the', 'ing the th', 'ing the pa', 'ing the th'],\n",
      " ['s the and ', 'ken the th', 'ing the Ki', 'ing the th', 'ing there '],\n",
      " ['ther the t', 'ken the pa', 'ing the to', 'ing the Ki', 'ing the Ki'],\n",
      " ['ther the p', 'ken the Ki', 'ing the an', 'ing the an', 'ing the to']]\n",
      "tensor([[-10.2900, -10.5200, -10.6300, -10.1100, -10.3800],\n",
      "        [-10.6700, -10.9900, -10.7900, -10.6400, -10.5300],\n",
      "        [-11.0500, -11.5900, -10.8500, -10.8000, -10.6200],\n",
      "        [-11.5300, -11.9000, -11.1900, -11.0400, -10.8200],\n",
      "        [-11.6000, -12.0100, -11.2600, -11.0800, -10.9300]], device='cuda:0')\n",
      "--------------------------------------------------\n",
      "\n"
     ]
    }
   ],
   "source": [
    "importlib.reload(language_modelling_seq2seq)    \n",
    "net = language_modelling_seq2seq.Seq2SeqRNN(char2i, i2char, \n",
    "                                            encoder_hidden_units = 100, \n",
    "                                            decoder_hidden_units = 100)\n",
    "net.to(device)\n",
    "net.fit(source_1, target_1, epochs = 5, batch_size = 150, lr = 0.0001, verbose = 3, \n",
    "        save_path = \"checkpoints/seq2seq_rnn.pt\")"
   ]
  },
  {
   "cell_type": "code",
   "execution_count": 14,
   "metadata": {},
   "outputs": [
    {
     "name": "stdout",
     "output_type": "stream",
     "text": [
      "Net parameters: 207,195\n"
     ]
    },
    {
     "data": {
      "application/vnd.jupyter.widget-view+json": {
       "model_id": "0248c97da01d4c0ea91bfb6ca4085b4b",
       "version_major": 2,
       "version_minor": 0
      },
      "text/plain": [
       "HBox(children=(HTML(value=''), FloatProgress(value=0.0, max=19.0), HTML(value='')))"
      ]
     },
     "metadata": {},
     "output_type": "display_data"
    },
    {
     "name": "stdout",
     "output_type": "stream",
     "text": [
      "\n"
     ]
    },
    {
     "data": {
      "text/plain": [
       "tensor([[-18.6263, -19.6530, -20.1133, -20.1255, -20.6161],\n",
       "        [-20.9326, -21.5159, -21.6976, -21.8533, -22.1528],\n",
       "        [-15.1424, -15.9284, -16.3301, -16.3430, -16.9841],\n",
       "        [-13.6844, -13.9842, -14.1003, -14.4234, -14.7703],\n",
       "        [-18.7930, -19.4146, -19.5911, -19.7269, -20.0176],\n",
       "        [-18.5738, -21.1258, -21.5284, -21.5585, -21.9503],\n",
       "        [-18.2225, -20.4450, -20.6791, -20.8843, -21.3122],\n",
       "        [-18.1692, -19.0812, -19.5159, -19.5944, -19.6843],\n",
       "        [-20.0627, -20.0858, -20.1163, -20.3464, -20.5535],\n",
       "        [-17.8215, -18.5229, -18.5896, -18.9478, -19.5764],\n",
       "        [-19.4423, -20.9529, -21.1818, -21.4537, -21.4704],\n",
       "        [-20.4152, -20.8069, -21.4923, -21.8645, -21.8892],\n",
       "        [-15.2188, -16.2112, -16.4349, -16.8548, -16.9504],\n",
       "        [-16.0626, -16.5967, -17.6951, -18.2410, -18.2728],\n",
       "        [-19.0831, -19.2016, -20.3759, -20.3784, -20.5128],\n",
       "        [-18.3804, -21.1958, -21.3227, -21.7145, -21.7556],\n",
       "        [-18.9517, -19.9929, -20.1449, -20.4107, -21.0108],\n",
       "        [-18.8466, -19.6374, -20.2678, -20.3186, -20.4535],\n",
       "        [-16.7054, -17.6337, -17.8419, -18.5895, -18.6380],\n",
       "        [-19.4060, -19.7904, -19.9534, -20.0582, -20.1805]], device='cuda:0')"
      ]
     },
     "execution_count": 14,
     "metadata": {},
     "output_type": "execute_result"
    }
   ],
   "source": [
    "importlib.reload(language_modelling_seq2seq)    \n",
    "net = language_modelling_seq2seq.Seq2SeqRNN(char2i, i2char, \n",
    "                                            encoder_hidden_units = 100, \n",
    "                                            decoder_hidden_units = 100)\n",
    "net.load_state_dict(torch.load(\"checkpoints/seq2seq_rnn.pt\"))\n",
    "net.to(device)\n",
    "test = net.beam_search(source_1[:10000], verbose = 1, batch_size = 50)\n",
    "\n",
    "test[1][:20]"
   ]
  },
  {
   "cell_type": "code",
   "execution_count": null,
   "metadata": {},
   "outputs": [],
   "source": []
  }
 ],
 "metadata": {
  "kernelspec": {
   "display_name": "Python 3",
   "language": "python",
   "name": "python3"
  },
  "language_info": {
   "codemirror_mode": {
    "name": "ipython",
    "version": 3
   },
   "file_extension": ".py",
   "mimetype": "text/x-python",
   "name": "python",
   "nbconvert_exporter": "python",
   "pygments_lexer": "ipython3",
   "version": "3.8.5"
  }
 },
 "nbformat": 4,
 "nbformat_minor": 5
}
