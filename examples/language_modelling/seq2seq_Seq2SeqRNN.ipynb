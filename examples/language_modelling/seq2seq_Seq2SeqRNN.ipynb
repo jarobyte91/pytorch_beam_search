{
 "cells": [
  {
   "cell_type": "code",
   "execution_count": 2,
   "metadata": {},
   "outputs": [],
   "source": [
    "import torch\n",
    "import torch.nn as nn\n",
    "import torch.utils.data as tud\n",
    "from tqdm.notebook import tqdm\n",
    "from pprint import pprint\n",
    "import matplotlib.pyplot as plt\n",
    "import numpy as np\n",
    "import importlib\n",
    "import sys\n",
    "sys.path.append(\"../../\")\n",
    "import seq2seq"
   ]
  },
  {
   "cell_type": "code",
   "execution_count": 3,
   "metadata": {
    "scrolled": false
   },
   "outputs": [
    {
     "name": "stdout",
     "output_type": "stream",
     "text": [
      "556949\n",
      "﻿The Project Gutenberg EBook of Chess Strategy, by Edward Lasker\n",
      "\n",
      "This eBook is for the use of anyone anywhere at no cost and with\n",
      "almost no restrictions whatsoever.  You may copy it, give it away or\n",
      "re-use it under the terms of the Project Gutenberg License included\n",
      "with this eBook or online at www.gutenberg.org/license\n",
      "\n",
      "\n",
      "Title: Chess Strategy\n",
      "\n",
      "Author: Edward Lasker\n",
      "\n",
      "Translator: J. Du Mont\n",
      "\n",
      "Release Date: November 11, 2012 [EBook #5614]\n",
      "\n",
      "Language: English\n",
      "\n",
      "\n",
      "*** START OF THIS PROJECT GUTENBERG EBOOK CHESS STRATEGY ***\n",
      "\n",
      "\n",
      "\n",
      "\n",
      "Produced by John Mamoun <mamounjo@umdnj.edu>, Charles\n",
      "Franks, and the Online Distributed Proofreaders website.\n",
      "\n",
      "\n",
      "\n",
      "\n",
      "\n",
      "\n",
      "\n",
      "\n",
      "INFORMATION ABOUT THIS E-TEXT EDITION\n",
      "\n",
      "\n",
      "\n",
      "The following is an e-text of \"Chess Strategy,\" second edition, (1915)\n",
      "by Edward Lasker, translated by J. Du Mont.\n",
      "\n",
      "This e-text contains the 167 chess and checkers board game\n",
      "diagrams appearing in the original book, all in the form of\n",
      "ASCII line drawings. The following is a key to the diagrams:\n",
      "\n",
      "For chess pieces\n"
     ]
    }
   ],
   "source": [
    "# chess\n",
    "\n",
    "with open(\"data/pg5614.txt\", encoding = \"utf-8\") as file:\n",
    "    text = file.read()\n",
    "print(len(text))\n",
    "print(text[:1000])"
   ]
  },
  {
   "cell_type": "code",
   "execution_count": 4,
   "metadata": {},
   "outputs": [
    {
     "data": {
      "text/plain": [
       "556949"
      ]
     },
     "execution_count": 4,
     "metadata": {},
     "output_type": "execute_result"
    }
   ],
   "source": [
    "len(text)"
   ]
  },
  {
   "cell_type": "code",
   "execution_count": 5,
   "metadata": {},
   "outputs": [
    {
     "data": {
      "text/plain": [
       "92"
      ]
     },
     "execution_count": 5,
     "metadata": {},
     "output_type": "execute_result"
    }
   ],
   "source": [
    "vocabulary = set(text)\n",
    "len(vocabulary)"
   ]
  },
  {
   "cell_type": "code",
   "execution_count": 6,
   "metadata": {},
   "outputs": [
    {
     "name": "stdout",
     "output_type": "stream",
     "text": [
      "95\n",
      "95\n"
     ]
    }
   ],
   "source": [
    "char2i = {c:i for i, c in enumerate(sorted(vocabulary), 3)}\n",
    "char2i[\"<PAD>\"] = 0\n",
    "char2i[\"<START>\"] = 1\n",
    "char2i[\"<END>\"] = 2\n",
    "print(len(char2i))\n",
    "i2char = {i:c for i, c in enumerate(sorted(vocabulary), 3)}\n",
    "i2char[0] = \"<PAD>\"\n",
    "i2char[1] = \"<START>\"\n",
    "i2char[2] = \"<END>\"\n",
    "print(len(i2char))"
   ]
  },
  {
   "cell_type": "code",
   "execution_count": 7,
   "metadata": {},
   "outputs": [
    {
     "data": {
      "text/plain": [
       "device(type='cuda')"
      ]
     },
     "execution_count": 7,
     "metadata": {},
     "output_type": "execute_result"
    }
   ],
   "source": [
    "device = torch.device(\"cuda\" if torch.cuda.is_available() else \"cpu\")\n",
    "\n",
    "device"
   ]
  },
  {
   "cell_type": "code",
   "execution_count": 8,
   "metadata": {},
   "outputs": [
    {
     "name": "stdout",
     "output_type": "stream",
     "text": [
      "556949\n",
      "556929\n",
      "['\\ufeffThe Project Gutenbe', 'The Project Gutenber', 'he Project Gutenberg', 'e Project Gutenberg ', ' Project Gutenberg E']\n"
     ]
    },
    {
     "data": {
      "application/vnd.jupyter.widget-view+json": {
       "model_id": "34864acc079a4f54b2837e11ff196681",
       "version_major": 2,
       "version_minor": 0
      },
      "text/plain": [
       "HBox(children=(HTML(value=''), FloatProgress(value=0.0, max=556929.0), HTML(value='')))"
      ]
     },
     "metadata": {},
     "output_type": "display_data"
    },
    {
     "name": "stdout",
     "output_type": "stream",
     "text": [
      "\n",
      "torch.Size([556929, 20])\n",
      "torch.Size([556929, 10])\n",
      "torch.Size([556929, 11])\n"
     ]
    }
   ],
   "source": [
    "length = 20\n",
    "lines = []\n",
    "for i in range(len(text))[:-length]:\n",
    "    lines.append(text[i:length + i])\n",
    "print(len(text))\n",
    "print(len(lines))\n",
    "print(lines[:5])\n",
    "encoded = torch.tensor([[char2i[c] for c in l] for l in tqdm(lines)]).to(device).long()\n",
    "print(encoded.shape)\n",
    "source_1 = encoded[:, :length // 2]\n",
    "print(source_1.shape)\n",
    "target_1 = torch.cat((torch.ones(encoded.shape[0], 1).to(device).long(), encoded[:, length // 2:]), axis = 1)\n",
    "print(target_1.shape)"
   ]
  },
  {
   "cell_type": "code",
   "execution_count": 14,
   "metadata": {
    "scrolled": false
   },
   "outputs": [
    {
     "name": "stdout",
     "output_type": "stream",
     "text": [
      "Model: Seq2Seq RNN\n",
      "Tokens in the input vocabulary: 95\n",
      "Tokens in the output vocabulary: 95\n",
      "In embedding dimension: 64\n",
      "Out embedding dimension: 64\n",
      "Encoder hidden units: 100\n",
      "Encoder layers: 2\n",
      "Decoder hidden units: 100\n",
      "Decoder layers: 2\n",
      "Dropout: 0.0\n",
      "Trainable parameters: 396,155\n",
      "\n"
     ]
    },
    {
     "data": {
      "application/vnd.jupyter.widget-view+json": {
       "model_id": "6e5f6a77bcef4a1ebabbca4a21d959a6",
       "version_major": 2,
       "version_minor": 0
      },
      "text/plain": [
       "HBox(children=(HTML(value=''), FloatProgress(value=0.0, max=10.0), HTML(value='')))"
      ]
     },
     "metadata": {},
     "output_type": "display_data"
    },
    {
     "name": "stdout",
     "output_type": "stream",
     "text": [
      "Epoch | Train                 | Training time\n",
      "      | Loss     | Error Rate |\n",
      "---------------------------------------------\n"
     ]
    },
    {
     "data": {
      "application/vnd.jupyter.widget-view+json": {
       "model_id": "6bcfd7f5e0374912b83f97a1a9f5bb79",
       "version_major": 2,
       "version_minor": 0
      },
      "text/plain": [
       "HBox(children=(HTML(value=''), FloatProgress(value=0.0, max=5570.0), HTML(value='')))"
      ]
     },
     "metadata": {},
     "output_type": "display_data"
    },
    {
     "name": "stdout",
     "output_type": "stream",
     "text": [
      "\n",
      "    1 |   1.9521 |     49.886 |         66.94\n"
     ]
    },
    {
     "data": {
      "application/vnd.jupyter.widget-view+json": {
       "model_id": "fb3e68fbc6b9447ab82dd337ca5605e0",
       "version_major": 2,
       "version_minor": 0
      },
      "text/plain": [
       "HBox(children=(HTML(value=''), FloatProgress(value=0.0, max=5570.0), HTML(value='')))"
      ]
     },
     "metadata": {},
     "output_type": "display_data"
    },
    {
     "name": "stdout",
     "output_type": "stream",
     "text": [
      "\n",
      "    2 |   1.3647 |     38.564 |        133.64\n"
     ]
    },
    {
     "data": {
      "application/vnd.jupyter.widget-view+json": {
       "model_id": "03938e57b45b4f82a39787ca160c6999",
       "version_major": 2,
       "version_minor": 0
      },
      "text/plain": [
       "HBox(children=(HTML(value=''), FloatProgress(value=0.0, max=5570.0), HTML(value='')))"
      ]
     },
     "metadata": {},
     "output_type": "display_data"
    },
    {
     "name": "stdout",
     "output_type": "stream",
     "text": [
      "\n",
      "    3 |   1.2147 |     34.914 |        201.72\n"
     ]
    },
    {
     "data": {
      "application/vnd.jupyter.widget-view+json": {
       "model_id": "3b204f90366242e3b9207396acf3d151",
       "version_major": 2,
       "version_minor": 0
      },
      "text/plain": [
       "HBox(children=(HTML(value=''), FloatProgress(value=0.0, max=5570.0), HTML(value='')))"
      ]
     },
     "metadata": {},
     "output_type": "display_data"
    },
    {
     "name": "stdout",
     "output_type": "stream",
     "text": [
      "\n",
      "    4 |   1.1317 |     32.940 |        271.64\n"
     ]
    },
    {
     "data": {
      "application/vnd.jupyter.widget-view+json": {
       "model_id": "dd19389037b8470eb2834ba58d15ac2e",
       "version_major": 2,
       "version_minor": 0
      },
      "text/plain": [
       "HBox(children=(HTML(value=''), FloatProgress(value=0.0, max=5570.0), HTML(value='')))"
      ]
     },
     "metadata": {},
     "output_type": "display_data"
    },
    {
     "name": "stdout",
     "output_type": "stream",
     "text": [
      "\n",
      "    5 |   1.0760 |     31.638 |        338.68\n"
     ]
    },
    {
     "data": {
      "application/vnd.jupyter.widget-view+json": {
       "model_id": "e410264458324439bf54bb79d1013ecd",
       "version_major": 2,
       "version_minor": 0
      },
      "text/plain": [
       "HBox(children=(HTML(value=''), FloatProgress(value=0.0, max=5570.0), HTML(value='')))"
      ]
     },
     "metadata": {},
     "output_type": "display_data"
    },
    {
     "name": "stdout",
     "output_type": "stream",
     "text": [
      "\n",
      "    6 |   1.0353 |     30.658 |        406.91\n"
     ]
    },
    {
     "data": {
      "application/vnd.jupyter.widget-view+json": {
       "model_id": "cb8eba1ca955407cad9ef20137937274",
       "version_major": 2,
       "version_minor": 0
      },
      "text/plain": [
       "HBox(children=(HTML(value=''), FloatProgress(value=0.0, max=5570.0), HTML(value='')))"
      ]
     },
     "metadata": {},
     "output_type": "display_data"
    },
    {
     "name": "stdout",
     "output_type": "stream",
     "text": [
      "\n",
      "    7 |   1.0039 |     29.878 |        477.84\n"
     ]
    },
    {
     "data": {
      "application/vnd.jupyter.widget-view+json": {
       "model_id": "358b97af5ec04b74ad84a9970a06bf9b",
       "version_major": 2,
       "version_minor": 0
      },
      "text/plain": [
       "HBox(children=(HTML(value=''), FloatProgress(value=0.0, max=5570.0), HTML(value='')))"
      ]
     },
     "metadata": {},
     "output_type": "display_data"
    },
    {
     "name": "stdout",
     "output_type": "stream",
     "text": [
      "\n",
      "    8 |   0.9782 |     29.245 |        549.03\n"
     ]
    },
    {
     "data": {
      "application/vnd.jupyter.widget-view+json": {
       "model_id": "6a41f38e18884ff69ac2e71181c6149f",
       "version_major": 2,
       "version_minor": 0
      },
      "text/plain": [
       "HBox(children=(HTML(value=''), FloatProgress(value=0.0, max=5570.0), HTML(value='')))"
      ]
     },
     "metadata": {},
     "output_type": "display_data"
    },
    {
     "name": "stdout",
     "output_type": "stream",
     "text": [
      "\n",
      "    9 |   0.9567 |     28.689 |        618.41\n"
     ]
    },
    {
     "data": {
      "application/vnd.jupyter.widget-view+json": {
       "model_id": "95acbb57d4314c8b8945abce276a43d5",
       "version_major": 2,
       "version_minor": 0
      },
      "text/plain": [
       "HBox(children=(HTML(value=''), FloatProgress(value=0.0, max=5570.0), HTML(value='')))"
      ]
     },
     "metadata": {},
     "output_type": "display_data"
    },
    {
     "name": "stdout",
     "output_type": "stream",
     "text": [
      "\n",
      "   10 |   0.9382 |     28.224 |        688.22\n",
      "\n"
     ]
    },
    {
     "data": {
      "text/html": [
       "<div>\n",
       "<style scoped>\n",
       "    .dataframe tbody tr th:only-of-type {\n",
       "        vertical-align: middle;\n",
       "    }\n",
       "\n",
       "    .dataframe tbody tr th {\n",
       "        vertical-align: top;\n",
       "    }\n",
       "\n",
       "    .dataframe thead th {\n",
       "        text-align: right;\n",
       "    }\n",
       "</style>\n",
       "<table border=\"1\" class=\"dataframe\">\n",
       "  <thead>\n",
       "    <tr style=\"text-align: right;\">\n",
       "      <th></th>\n",
       "      <th>epoch</th>\n",
       "      <th>train_loss</th>\n",
       "      <th>train_error_rate</th>\n",
       "      <th>training_time</th>\n",
       "      <th>learning_rate</th>\n",
       "      <th>weight_decay</th>\n",
       "      <th>model</th>\n",
       "      <th>in_embedding_dimension</th>\n",
       "      <th>out_embedding_dimension</th>\n",
       "      <th>encoder_hidden_units</th>\n",
       "      <th>encoder_layers</th>\n",
       "      <th>decoder_hidden_units</th>\n",
       "      <th>decoder_layers</th>\n",
       "      <th>dropout</th>\n",
       "      <th>parameters</th>\n",
       "    </tr>\n",
       "  </thead>\n",
       "  <tbody>\n",
       "    <tr>\n",
       "      <th>0</th>\n",
       "      <td>1</td>\n",
       "      <td>1.952125</td>\n",
       "      <td>49.886215</td>\n",
       "      <td>66.937882</td>\n",
       "      <td>0.0001</td>\n",
       "      <td>0</td>\n",
       "      <td>Seq2Seq RNN</td>\n",
       "      <td>64</td>\n",
       "      <td>64</td>\n",
       "      <td>100</td>\n",
       "      <td>2</td>\n",
       "      <td>100</td>\n",
       "      <td>2</td>\n",
       "      <td>0.0</td>\n",
       "      <td>396155</td>\n",
       "    </tr>\n",
       "    <tr>\n",
       "      <th>1</th>\n",
       "      <td>2</td>\n",
       "      <td>1.364725</td>\n",
       "      <td>38.564072</td>\n",
       "      <td>133.643997</td>\n",
       "      <td>0.0001</td>\n",
       "      <td>0</td>\n",
       "      <td>Seq2Seq RNN</td>\n",
       "      <td>64</td>\n",
       "      <td>64</td>\n",
       "      <td>100</td>\n",
       "      <td>2</td>\n",
       "      <td>100</td>\n",
       "      <td>2</td>\n",
       "      <td>0.0</td>\n",
       "      <td>396155</td>\n",
       "    </tr>\n",
       "    <tr>\n",
       "      <th>2</th>\n",
       "      <td>3</td>\n",
       "      <td>1.214748</td>\n",
       "      <td>34.914091</td>\n",
       "      <td>201.718107</td>\n",
       "      <td>0.0001</td>\n",
       "      <td>0</td>\n",
       "      <td>Seq2Seq RNN</td>\n",
       "      <td>64</td>\n",
       "      <td>64</td>\n",
       "      <td>100</td>\n",
       "      <td>2</td>\n",
       "      <td>100</td>\n",
       "      <td>2</td>\n",
       "      <td>0.0</td>\n",
       "      <td>396155</td>\n",
       "    </tr>\n",
       "    <tr>\n",
       "      <th>3</th>\n",
       "      <td>4</td>\n",
       "      <td>1.131671</td>\n",
       "      <td>32.939692</td>\n",
       "      <td>271.644593</td>\n",
       "      <td>0.0001</td>\n",
       "      <td>0</td>\n",
       "      <td>Seq2Seq RNN</td>\n",
       "      <td>64</td>\n",
       "      <td>64</td>\n",
       "      <td>100</td>\n",
       "      <td>2</td>\n",
       "      <td>100</td>\n",
       "      <td>2</td>\n",
       "      <td>0.0</td>\n",
       "      <td>396155</td>\n",
       "    </tr>\n",
       "    <tr>\n",
       "      <th>4</th>\n",
       "      <td>5</td>\n",
       "      <td>1.075995</td>\n",
       "      <td>31.638324</td>\n",
       "      <td>338.676879</td>\n",
       "      <td>0.0001</td>\n",
       "      <td>0</td>\n",
       "      <td>Seq2Seq RNN</td>\n",
       "      <td>64</td>\n",
       "      <td>64</td>\n",
       "      <td>100</td>\n",
       "      <td>2</td>\n",
       "      <td>100</td>\n",
       "      <td>2</td>\n",
       "      <td>0.0</td>\n",
       "      <td>396155</td>\n",
       "    </tr>\n",
       "    <tr>\n",
       "      <th>5</th>\n",
       "      <td>6</td>\n",
       "      <td>1.035282</td>\n",
       "      <td>30.657642</td>\n",
       "      <td>406.908196</td>\n",
       "      <td>0.0001</td>\n",
       "      <td>0</td>\n",
       "      <td>Seq2Seq RNN</td>\n",
       "      <td>64</td>\n",
       "      <td>64</td>\n",
       "      <td>100</td>\n",
       "      <td>2</td>\n",
       "      <td>100</td>\n",
       "      <td>2</td>\n",
       "      <td>0.0</td>\n",
       "      <td>396155</td>\n",
       "    </tr>\n",
       "    <tr>\n",
       "      <th>6</th>\n",
       "      <td>7</td>\n",
       "      <td>1.003923</td>\n",
       "      <td>29.878261</td>\n",
       "      <td>477.837474</td>\n",
       "      <td>0.0001</td>\n",
       "      <td>0</td>\n",
       "      <td>Seq2Seq RNN</td>\n",
       "      <td>64</td>\n",
       "      <td>64</td>\n",
       "      <td>100</td>\n",
       "      <td>2</td>\n",
       "      <td>100</td>\n",
       "      <td>2</td>\n",
       "      <td>0.0</td>\n",
       "      <td>396155</td>\n",
       "    </tr>\n",
       "    <tr>\n",
       "      <th>7</th>\n",
       "      <td>8</td>\n",
       "      <td>0.978163</td>\n",
       "      <td>29.244913</td>\n",
       "      <td>549.031094</td>\n",
       "      <td>0.0001</td>\n",
       "      <td>0</td>\n",
       "      <td>Seq2Seq RNN</td>\n",
       "      <td>64</td>\n",
       "      <td>64</td>\n",
       "      <td>100</td>\n",
       "      <td>2</td>\n",
       "      <td>100</td>\n",
       "      <td>2</td>\n",
       "      <td>0.0</td>\n",
       "      <td>396155</td>\n",
       "    </tr>\n",
       "    <tr>\n",
       "      <th>8</th>\n",
       "      <td>9</td>\n",
       "      <td>0.956667</td>\n",
       "      <td>28.689115</td>\n",
       "      <td>618.413645</td>\n",
       "      <td>0.0001</td>\n",
       "      <td>0</td>\n",
       "      <td>Seq2Seq RNN</td>\n",
       "      <td>64</td>\n",
       "      <td>64</td>\n",
       "      <td>100</td>\n",
       "      <td>2</td>\n",
       "      <td>100</td>\n",
       "      <td>2</td>\n",
       "      <td>0.0</td>\n",
       "      <td>396155</td>\n",
       "    </tr>\n",
       "    <tr>\n",
       "      <th>9</th>\n",
       "      <td>10</td>\n",
       "      <td>0.938190</td>\n",
       "      <td>28.223957</td>\n",
       "      <td>688.222672</td>\n",
       "      <td>0.0001</td>\n",
       "      <td>0</td>\n",
       "      <td>Seq2Seq RNN</td>\n",
       "      <td>64</td>\n",
       "      <td>64</td>\n",
       "      <td>100</td>\n",
       "      <td>2</td>\n",
       "      <td>100</td>\n",
       "      <td>2</td>\n",
       "      <td>0.0</td>\n",
       "      <td>396155</td>\n",
       "    </tr>\n",
       "  </tbody>\n",
       "</table>\n",
       "</div>"
      ],
      "text/plain": [
       "   epoch  train_loss  train_error_rate  training_time  learning_rate  \\\n",
       "0      1    1.952125         49.886215      66.937882         0.0001   \n",
       "1      2    1.364725         38.564072     133.643997         0.0001   \n",
       "2      3    1.214748         34.914091     201.718107         0.0001   \n",
       "3      4    1.131671         32.939692     271.644593         0.0001   \n",
       "4      5    1.075995         31.638324     338.676879         0.0001   \n",
       "5      6    1.035282         30.657642     406.908196         0.0001   \n",
       "6      7    1.003923         29.878261     477.837474         0.0001   \n",
       "7      8    0.978163         29.244913     549.031094         0.0001   \n",
       "8      9    0.956667         28.689115     618.413645         0.0001   \n",
       "9     10    0.938190         28.223957     688.222672         0.0001   \n",
       "\n",
       "   weight_decay        model  in_embedding_dimension  out_embedding_dimension  \\\n",
       "0             0  Seq2Seq RNN                      64                       64   \n",
       "1             0  Seq2Seq RNN                      64                       64   \n",
       "2             0  Seq2Seq RNN                      64                       64   \n",
       "3             0  Seq2Seq RNN                      64                       64   \n",
       "4             0  Seq2Seq RNN                      64                       64   \n",
       "5             0  Seq2Seq RNN                      64                       64   \n",
       "6             0  Seq2Seq RNN                      64                       64   \n",
       "7             0  Seq2Seq RNN                      64                       64   \n",
       "8             0  Seq2Seq RNN                      64                       64   \n",
       "9             0  Seq2Seq RNN                      64                       64   \n",
       "\n",
       "   encoder_hidden_units  encoder_layers  decoder_hidden_units  decoder_layers  \\\n",
       "0                   100               2                   100               2   \n",
       "1                   100               2                   100               2   \n",
       "2                   100               2                   100               2   \n",
       "3                   100               2                   100               2   \n",
       "4                   100               2                   100               2   \n",
       "5                   100               2                   100               2   \n",
       "6                   100               2                   100               2   \n",
       "7                   100               2                   100               2   \n",
       "8                   100               2                   100               2   \n",
       "9                   100               2                   100               2   \n",
       "\n",
       "   dropout  parameters  \n",
       "0      0.0      396155  \n",
       "1      0.0      396155  \n",
       "2      0.0      396155  \n",
       "3      0.0      396155  \n",
       "4      0.0      396155  \n",
       "5      0.0      396155  \n",
       "6      0.0      396155  \n",
       "7      0.0      396155  \n",
       "8      0.0      396155  \n",
       "9      0.0      396155  "
      ]
     },
     "execution_count": 14,
     "metadata": {},
     "output_type": "execute_result"
    }
   ],
   "source": [
    "importlib.reload(seq2seq)    \n",
    "net = seq2seq.Seq2SeqRNN(char2i, i2char, \n",
    "                                            encoder_hidden_units = 100, encoder_layers = 2,\n",
    "                                            decoder_hidden_units = 100, decoder_layers = 2)\n",
    "net.to(device)\n",
    "net.fit(source_1, target_1, verbose = 2, epochs = 10, save_path = \"checkpoints/seq2seq_rnn.pt\")"
   ]
  },
  {
   "cell_type": "code",
   "execution_count": 15,
   "metadata": {},
   "outputs": [
    {
     "name": "stdout",
     "output_type": "stream",
     "text": [
      "Model: Seq2Seq RNN\n",
      "Tokens in the input vocabulary: 95\n",
      "Tokens in the output vocabulary: 95\n",
      "In embedding dimension: 64\n",
      "Out embedding dimension: 64\n",
      "Encoder hidden units: 100\n",
      "Encoder layers: 2\n",
      "Decoder hidden units: 100\n",
      "Decoder layers: 2\n",
      "Dropout: 0.0\n",
      "Trainable parameters: 396,155\n",
      "\n"
     ]
    },
    {
     "data": {
      "application/vnd.jupyter.widget-view+json": {
       "model_id": "",
       "version_major": 2,
       "version_minor": 0
      },
      "text/plain": [
       "HBox(children=(HTML(value=''), FloatProgress(value=0.0, max=19.0), HTML(value='')))"
      ]
     },
     "metadata": {},
     "output_type": "display_data"
    },
    {
     "name": "stdout",
     "output_type": "stream",
     "text": [
      "\n"
     ]
    },
    {
     "data": {
      "text/plain": [
       "tensor([[ -7.2011,  -8.0435,  -8.1317,  -8.2017,  -9.3137],\n",
       "        [ -6.0692,  -7.1338,  -7.5443,  -8.2454,  -8.9490],\n",
       "        [ -7.4005,  -7.7818,  -8.4602,  -9.0388,  -9.2625],\n",
       "        [ -7.6578,  -9.3038,  -9.6902,  -9.7532,  -9.9417],\n",
       "        [ -7.4195,  -9.4202,  -9.8184, -10.0675, -10.1467],\n",
       "        [ -6.6448,  -8.8351,  -9.2763,  -9.3605,  -9.5180],\n",
       "        [ -6.6540,  -8.8777, -10.0707, -10.1277, -10.1403],\n",
       "        [ -6.8910,  -8.5979,  -9.5578,  -9.7540,  -9.7941],\n",
       "        [ -8.9615, -10.6990, -11.6517, -11.8887, -12.2937],\n",
       "        [ -9.6579, -11.0449, -11.0943, -11.8142, -12.1102],\n",
       "        [ -9.3646, -11.0727, -11.8167, -12.0313, -12.3229],\n",
       "        [-10.6880, -11.1498, -11.6370, -12.0033, -12.2969],\n",
       "        [-11.5153, -11.9960, -12.2228, -12.7509, -12.8489],\n",
       "        [-10.5643, -13.4229, -13.8372, -14.0459, -14.2132],\n",
       "        [-14.4716, -14.6297, -15.4080, -15.5773, -15.8926],\n",
       "        [ -9.4581,  -9.5097,  -9.6156,  -9.9475, -10.8466],\n",
       "        [-14.6764, -14.9207, -14.9867, -15.0525, -15.7933],\n",
       "        [ -8.5436,  -8.8127,  -9.0107,  -9.1673,  -9.4987],\n",
       "        [-10.2580, -12.2369, -12.4812, -12.7928, -12.9108],\n",
       "        [-11.2842, -11.8881, -12.0967, -12.2084, -12.3461]], device='cuda:0')"
      ]
     },
     "execution_count": 15,
     "metadata": {},
     "output_type": "execute_result"
    }
   ],
   "source": [
    "importlib.reload(seq2seq)    \n",
    "net = seq2seq.Seq2SeqRNN(char2i, i2char, \n",
    "                                            encoder_hidden_units = 100,\n",
    "                                            encoder_layers = 2,\n",
    "                                            decoder_hidden_units = 100,\n",
    "                                            decoder_layers = 2)\n",
    "net.load_state_dict(torch.load(\"checkpoints/seq2seq_rnn.pt\"))\n",
    "net.to(device)\n",
    "test = net.beam_search(source_1[:10000], verbose = 1, batch_size = 50)\n",
    "\n",
    "test[1][:20]"
   ]
  },
  {
   "cell_type": "code",
   "execution_count": 77,
   "metadata": {
    "scrolled": false
   },
   "outputs": [
    {
     "name": "stdout",
     "output_type": "stream",
     "text": [
      "Model: Seq2Seq RNN\n",
      "Tokens in the input vocabulary: 95\n",
      "Tokens in the output vocabulary: 95\n",
      "In embedding dimension: 64\n",
      "Out embedding dimension: 64\n",
      "Encoder hidden units: 100\n",
      "Encoder layers: 2\n",
      "Decoder hidden units: 100\n",
      "Decoder layers: 2\n",
      "Dropout: 0.0\n",
      "Trainable parameters: 396,155\n",
      "\n"
     ]
    },
    {
     "data": {
      "application/vnd.jupyter.widget-view+json": {
       "model_id": "401066efc289462685ff9887a5133f69",
       "version_major": 2,
       "version_minor": 0
      },
      "text/plain": [
       "HBox(children=(HTML(value=''), FloatProgress(value=0.0, max=20.0), HTML(value='')))"
      ]
     },
     "metadata": {},
     "output_type": "display_data"
    },
    {
     "name": "stdout",
     "output_type": "stream",
     "text": [
      "\n"
     ]
    }
   ],
   "source": [
    "importlib.reload(seq2seq)    \n",
    "net = seq2seq.Seq2SeqRNN(char2i, i2char, \n",
    "                                            encoder_hidden_units = 100,\n",
    "                                            encoder_layers = 2,\n",
    "                                            decoder_hidden_units = 100,\n",
    "                                            decoder_layers = 2)\n",
    "net.load_state_dict(torch.load(\"checkpoints/seq2seq_rnn.pt\"))\n",
    "net.to(device)\n",
    "test = net.sample(source_1[:1000], verbose = True, temperature = 10)"
   ]
  },
  {
   "cell_type": "code",
   "execution_count": null,
   "metadata": {},
   "outputs": [],
   "source": []
  }
 ],
 "metadata": {
  "kernelspec": {
   "display_name": "Python 3",
   "language": "python",
   "name": "python3"
  },
  "language_info": {
   "codemirror_mode": {
    "name": "ipython",
    "version": 3
   },
   "file_extension": ".py",
   "mimetype": "text/x-python",
   "name": "python",
   "nbconvert_exporter": "python",
   "pygments_lexer": "ipython3",
   "version": "3.8.5"
  }
 },
 "nbformat": 4,
 "nbformat_minor": 5
}
