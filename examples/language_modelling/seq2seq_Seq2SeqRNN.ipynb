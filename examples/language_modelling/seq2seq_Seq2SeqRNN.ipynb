{
 "cells": [
  {
   "cell_type": "code",
   "execution_count": 1,
   "metadata": {},
   "outputs": [],
   "source": [
    "import torch\n",
    "import torch.nn as nn\n",
    "import torch.utils.data as tud\n",
    "from tqdm.notebook import tqdm\n",
    "from pprint import pprint\n",
    "import matplotlib.pyplot as plt\n",
    "import numpy as np\n",
    "import importlib\n",
    "import language_modelling_seq2seq"
   ]
  },
  {
   "cell_type": "code",
   "execution_count": 2,
   "metadata": {
    "scrolled": false
   },
   "outputs": [
    {
     "name": "stdout",
     "output_type": "stream",
     "text": [
      "556949\n",
      "﻿The Project Gutenberg EBook of Chess Strategy, by Edward Lasker\n",
      "\n",
      "This eBook is for the use of anyone anywhere at no cost and with\n",
      "almost no restrictions whatsoever.  You may copy it, give it away or\n",
      "re-use it under the terms of the Project Gutenberg License included\n",
      "with this eBook or online at www.gutenberg.org/license\n",
      "\n",
      "\n",
      "Title: Chess Strategy\n",
      "\n",
      "Author: Edward Lasker\n",
      "\n",
      "Translator: J. Du Mont\n",
      "\n",
      "Release Date: November 11, 2012 [EBook #5614]\n",
      "\n",
      "Language: English\n",
      "\n",
      "\n",
      "*** START OF THIS PROJECT GUTENBERG EBOOK CHESS STRATEGY ***\n",
      "\n",
      "\n",
      "\n",
      "\n",
      "Produced by John Mamoun <mamounjo@umdnj.edu>, Charles\n",
      "Franks, and the Online Distributed Proofreaders website.\n",
      "\n",
      "\n",
      "\n",
      "\n",
      "\n",
      "\n",
      "\n",
      "\n",
      "INFORMATION ABOUT THIS E-TEXT EDITION\n",
      "\n",
      "\n",
      "\n",
      "The following is an e-text of \"Chess Strategy,\" second edition, (1915)\n",
      "by Edward Lasker, translated by J. Du Mont.\n",
      "\n",
      "This e-text contains the 167 chess and checkers board game\n",
      "diagrams appearing in the original book, all in the form of\n",
      "ASCII line drawings. The following is a key to the diagrams:\n",
      "\n",
      "For chess pieces\n"
     ]
    }
   ],
   "source": [
    "# chess\n",
    "\n",
    "with open(\"data/pg5614.txt\", encoding = \"utf-8\") as file:\n",
    "    text = file.read()\n",
    "print(len(text))\n",
    "print(text[:1000])"
   ]
  },
  {
   "cell_type": "code",
   "execution_count": 3,
   "metadata": {},
   "outputs": [
    {
     "data": {
      "text/plain": [
       "556949"
      ]
     },
     "execution_count": 3,
     "metadata": {},
     "output_type": "execute_result"
    }
   ],
   "source": [
    "len(text)"
   ]
  },
  {
   "cell_type": "code",
   "execution_count": 4,
   "metadata": {},
   "outputs": [
    {
     "data": {
      "text/plain": [
       "92"
      ]
     },
     "execution_count": 4,
     "metadata": {},
     "output_type": "execute_result"
    }
   ],
   "source": [
    "vocabulary = set(text)\n",
    "len(vocabulary)"
   ]
  },
  {
   "cell_type": "code",
   "execution_count": 5,
   "metadata": {},
   "outputs": [
    {
     "name": "stdout",
     "output_type": "stream",
     "text": [
      "95\n",
      "95\n"
     ]
    }
   ],
   "source": [
    "char2i = {c:i for i, c in enumerate(sorted(vocabulary), 3)}\n",
    "char2i[\"<PAD>\"] = 0\n",
    "char2i[\"<START>\"] = 1\n",
    "char2i[\"<END>\"] = 2\n",
    "print(len(char2i))\n",
    "i2char = {i:c for i, c in enumerate(sorted(vocabulary), 3)}\n",
    "i2char[0] = \"<PAD>\"\n",
    "i2char[1] = \"<START>\"\n",
    "i2char[2] = \"<END>\"\n",
    "print(len(i2char))"
   ]
  },
  {
   "cell_type": "code",
   "execution_count": 6,
   "metadata": {},
   "outputs": [
    {
     "data": {
      "text/plain": [
       "device(type='cuda')"
      ]
     },
     "execution_count": 6,
     "metadata": {},
     "output_type": "execute_result"
    }
   ],
   "source": [
    "device = torch.device(\"cuda\" if torch.cuda.is_available() else \"cpu\")\n",
    "\n",
    "device"
   ]
  },
  {
   "cell_type": "code",
   "execution_count": 7,
   "metadata": {},
   "outputs": [
    {
     "name": "stdout",
     "output_type": "stream",
     "text": [
      "556949\n",
      "556929\n",
      "['\\ufeffThe Project Gutenbe', 'The Project Gutenber', 'he Project Gutenberg', 'e Project Gutenberg ', ' Project Gutenberg E']\n"
     ]
    },
    {
     "data": {
      "application/vnd.jupyter.widget-view+json": {
       "model_id": "58b76c5cf95049e7b54baf2f9162db0d",
       "version_major": 2,
       "version_minor": 0
      },
      "text/plain": [
       "HBox(children=(HTML(value=''), FloatProgress(value=0.0, max=556929.0), HTML(value='')))"
      ]
     },
     "metadata": {},
     "output_type": "display_data"
    },
    {
     "name": "stdout",
     "output_type": "stream",
     "text": [
      "\n",
      "torch.Size([556929, 20])\n",
      "torch.Size([556929, 10])\n",
      "torch.Size([556929, 11])\n"
     ]
    }
   ],
   "source": [
    "length = 20\n",
    "lines = []\n",
    "for i in range(len(text))[:-length]:\n",
    "    lines.append(text[i:length + i])\n",
    "print(len(text))\n",
    "print(len(lines))\n",
    "print(lines[:5])\n",
    "encoded = torch.tensor([[char2i[c] for c in l] for l in tqdm(lines)]).to(device).long()\n",
    "print(encoded.shape)\n",
    "source_1 = encoded[:, :length // 2]\n",
    "print(source_1.shape)\n",
    "target_1 = torch.cat((torch.ones(encoded.shape[0], 1).to(device).long(), encoded[:, length // 2:]), axis = 1)\n",
    "print(target_1.shape)"
   ]
  },
  {
   "cell_type": "code",
   "execution_count": 8,
   "metadata": {
    "scrolled": false
   },
   "outputs": [
    {
     "name": "stdout",
     "output_type": "stream",
     "text": [
      "Net parameters: 408,795\n"
     ]
    },
    {
     "data": {
      "application/vnd.jupyter.widget-view+json": {
       "model_id": "8986e011b78246ab95dd8aa4eea77f55",
       "version_major": 2,
       "version_minor": 0
      },
      "text/plain": [
       "HBox(children=(HTML(value=''), FloatProgress(value=0.0, max=1.0), HTML(value='')))"
      ]
     },
     "metadata": {},
     "output_type": "display_data"
    },
    {
     "data": {
      "application/vnd.jupyter.widget-view+json": {
       "model_id": "faaab89240b34c4287d387457733277f",
       "version_major": 2,
       "version_minor": 0
      },
      "text/plain": [
       "HBox(children=(HTML(value=''), FloatProgress(value=0.0, max=3713.0), HTML(value='')))"
      ]
     },
     "metadata": {},
     "output_type": "display_data"
    },
    {
     "name": "stdout",
     "output_type": "stream",
     "text": [
      "\n",
      "Epoch:    1, Loss: 2.6396\n",
      "Y\n",
      "['ct Gutenbe', 't Gutenber', ' Gutenberg', 'Gutenberg ', 'utenberg E']\n",
      "forward\n",
      "[' e  ee   e', ' e  e   e ', '   e   e  ', '  e   e   ', ' e   e    ']\n",
      "greedy_search\n",
      "['          ', '          ', '          ', '          ', '          ']\n",
      "tensor([-12.3500, -12.1700, -12.1300, -10.3300,  -9.6600], device='cuda:0')\n",
      "sample\n",
      "['d btwmm nt', ' arle usah', 'e\\naoos,wii', ' t ie\\nqobP', ' nwitakkce']\n",
      "beam_search\n",
      "torch.Size([25, 10])\n",
      "torch.Size([25, 2, 100])\n",
      "[['          ', '          ', '          ', '          ', '          '],\n",
      " ['         \\n', '         \\n', '         \\n', '         K', '         K'],\n",
      " ['        \\n ', '        \\n ', '        \\n ', '         \\n', '         \\n'],\n",
      " ['         K', '         K', '       \\n  ', '        \\n ', '         .'],\n",
      " ['         .', '         .', '         K', '       \\n  ', '        \\n ']]\n",
      "tensor([[-12.3500, -12.1700, -12.1300, -10.3300,  -9.6600],\n",
      "        [-14.6500, -14.5100, -14.5100, -12.8000, -12.0600],\n",
      "        [-14.6800, -14.5400, -14.5300, -12.8000, -12.1400],\n",
      "        [-14.6800, -14.5500, -14.5600, -12.8300, -12.1700],\n",
      "        [-14.7200, -14.5900, -14.6100, -12.8500, -12.1900]], device='cuda:0')\n",
      "--------------------------------------------------\n",
      "\n"
     ]
    }
   ],
   "source": [
    "importlib.reload(language_modelling_seq2seq)    \n",
    "net = language_modelling_seq2seq.Seq2SeqRNN(char2i, i2char, \n",
    "                                            encoder_hidden_units = 100, encoder_layers = 2, \n",
    "                                            decoder_hidden_units = 100, decoder_layers = 2)\n",
    "net.to(device)\n",
    "net.fit(source_1, target_1, epochs = 1, batch_size = 150, lr = 0.0001, verbose = 3)"
   ]
  },
  {
   "cell_type": "code",
   "execution_count": 9,
   "metadata": {},
   "outputs": [
    {
     "name": "stdout",
     "output_type": "stream",
     "text": [
      "torch.Size([50000, 10])\n",
      "torch.Size([50000, 2, 100])\n"
     ]
    },
    {
     "data": {
      "application/vnd.jupyter.widget-view+json": {
       "model_id": "f925aabc90c0456e950a829ba0474572",
       "version_major": 2,
       "version_minor": 0
      },
      "text/plain": [
       "HBox(children=(HTML(value=''), FloatProgress(value=0.0, max=19.0), HTML(value='')))"
      ]
     },
     "metadata": {},
     "output_type": "display_data"
    },
    {
     "name": "stdout",
     "output_type": "stream",
     "text": [
      "\n"
     ]
    },
    {
     "data": {
      "text/plain": [
       "(tensor([[[ 1,  5,  5,  ...,  5,  5,  5],\n",
       "          [ 1,  5,  5,  ...,  5, 19,  5],\n",
       "          [ 1,  5,  5,  ..., 19,  5,  5],\n",
       "          [ 1,  5,  5,  ...,  5,  5,  4],\n",
       "          [ 1,  5,  5,  ...,  5,  5, 19]],\n",
       " \n",
       "         [[ 1,  5,  5,  ...,  5,  5,  5],\n",
       "          [ 1,  5,  5,  ...,  5, 19,  5],\n",
       "          [ 1,  5,  5,  ...,  5,  5,  4],\n",
       "          [ 1,  5,  5,  ..., 19,  5,  5],\n",
       "          [ 1,  5,  5,  ...,  5,  5, 19]],\n",
       " \n",
       "         [[ 1,  5,  5,  ...,  5,  5,  5],\n",
       "          [ 1,  5,  5,  ...,  5, 19,  5],\n",
       "          [ 1,  5,  5,  ...,  5,  5,  4],\n",
       "          [ 1,  5,  5,  ..., 19,  5,  5],\n",
       "          [ 1,  5,  5,  ...,  5,  4,  5]],\n",
       " \n",
       "         ...,\n",
       " \n",
       "         [[ 1,  5,  5,  ...,  5,  5,  5],\n",
       "          [ 1, 71,  5,  ...,  5,  5,  5],\n",
       "          [ 1,  5,  5,  ..., 19,  5,  5],\n",
       "          [ 1,  5,  5,  ...,  5,  5, 48],\n",
       "          [ 1,  5, 71,  ...,  5,  5,  5]],\n",
       " \n",
       "         [[ 1,  5,  5,  ...,  5,  5,  5],\n",
       "          [ 1, 71,  5,  ...,  5,  5,  5],\n",
       "          [ 1,  5,  5,  ..., 19,  5,  5],\n",
       "          [ 1,  5,  5,  ...,  5,  5, 48],\n",
       "          [ 1,  5,  5,  ...,  5,  5, 19]],\n",
       " \n",
       "         [[ 1,  5,  5,  ...,  5,  5,  5],\n",
       "          [ 1, 71,  5,  ...,  5,  5,  5],\n",
       "          [ 1,  5,  5,  ...,  5,  5, 48],\n",
       "          [ 1,  5,  5,  ..., 19,  5,  5],\n",
       "          [ 1,  5,  5,  ...,  5,  5, 19]]]),\n",
       " tensor([[-19.7187, -21.7917, -22.1285, -22.1312, -22.1543],\n",
       "         [-19.3291, -21.4575, -21.7749, -21.7794, -21.8095],\n",
       "         [-18.8746, -21.0909, -21.3710, -21.3980, -21.4186],\n",
       "         ...,\n",
       "         [-19.0082, -20.9845, -21.1706, -21.1994, -21.2356],\n",
       "         [-18.6240, -20.7115, -20.8291, -20.8499, -20.9675],\n",
       "         [-18.1088, -20.2927, -20.3617, -20.3635, -20.4801]]))"
      ]
     },
     "execution_count": 9,
     "metadata": {},
     "output_type": "execute_result"
    }
   ],
   "source": [
    "net.cpu().beam_search(source_1[:10000].cpu(), verbose = 1, batch_size = 50)"
   ]
  },
  {
   "cell_type": "code",
   "execution_count": null,
   "metadata": {},
   "outputs": [],
   "source": []
  }
 ],
 "metadata": {
  "kernelspec": {
   "display_name": "Python 3",
   "language": "python",
   "name": "python3"
  },
  "language_info": {
   "codemirror_mode": {
    "name": "ipython",
    "version": 3
   },
   "file_extension": ".py",
   "mimetype": "text/x-python",
   "name": "python",
   "nbconvert_exporter": "python",
   "pygments_lexer": "ipython3",
   "version": "3.8.5"
  }
 },
 "nbformat": 4,
 "nbformat_minor": 5
}
