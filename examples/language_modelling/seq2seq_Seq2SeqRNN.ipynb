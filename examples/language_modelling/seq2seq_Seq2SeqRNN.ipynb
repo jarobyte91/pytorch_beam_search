{
 "cells": [
  {
   "cell_type": "code",
   "execution_count": 1,
   "metadata": {},
   "outputs": [],
   "source": [
    "import torch\n",
    "import torch.nn as nn\n",
    "import torch.utils.data as tud\n",
    "from tqdm.notebook import tqdm\n",
    "from pprint import pprint\n",
    "import matplotlib.pyplot as plt\n",
    "import numpy as np\n",
    "import importlib\n",
    "import language_modelling_seq2seq"
   ]
  },
  {
   "cell_type": "code",
   "execution_count": 2,
   "metadata": {
    "scrolled": false
   },
   "outputs": [
    {
     "name": "stdout",
     "output_type": "stream",
     "text": [
      "556949\n",
      "﻿The Project Gutenberg EBook of Chess Strategy, by Edward Lasker\n",
      "\n",
      "This eBook is for the use of anyone anywhere at no cost and with\n",
      "almost no restrictions whatsoever.  You may copy it, give it away or\n",
      "re-use it under the terms of the Project Gutenberg License included\n",
      "with this eBook or online at www.gutenberg.org/license\n",
      "\n",
      "\n",
      "Title: Chess Strategy\n",
      "\n",
      "Author: Edward Lasker\n",
      "\n",
      "Translator: J. Du Mont\n",
      "\n",
      "Release Date: November 11, 2012 [EBook #5614]\n",
      "\n",
      "Language: English\n",
      "\n",
      "\n",
      "*** START OF THIS PROJECT GUTENBERG EBOOK CHESS STRATEGY ***\n",
      "\n",
      "\n",
      "\n",
      "\n",
      "Produced by John Mamoun <mamounjo@umdnj.edu>, Charles\n",
      "Franks, and the Online Distributed Proofreaders website.\n",
      "\n",
      "\n",
      "\n",
      "\n",
      "\n",
      "\n",
      "\n",
      "\n",
      "INFORMATION ABOUT THIS E-TEXT EDITION\n",
      "\n",
      "\n",
      "\n",
      "The following is an e-text of \"Chess Strategy,\" second edition, (1915)\n",
      "by Edward Lasker, translated by J. Du Mont.\n",
      "\n",
      "This e-text contains the 167 chess and checkers board game\n",
      "diagrams appearing in the original book, all in the form of\n",
      "ASCII line drawings. The following is a key to the diagrams:\n",
      "\n",
      "For chess pieces\n"
     ]
    }
   ],
   "source": [
    "# chess\n",
    "\n",
    "with open(\"data/pg5614.txt\", encoding = \"utf-8\") as file:\n",
    "    text = file.read()\n",
    "print(len(text))\n",
    "print(text[:1000])"
   ]
  },
  {
   "cell_type": "code",
   "execution_count": 3,
   "metadata": {},
   "outputs": [
    {
     "data": {
      "text/plain": [
       "556949"
      ]
     },
     "execution_count": 3,
     "metadata": {},
     "output_type": "execute_result"
    }
   ],
   "source": [
    "len(text)"
   ]
  },
  {
   "cell_type": "code",
   "execution_count": 4,
   "metadata": {},
   "outputs": [
    {
     "data": {
      "text/plain": [
       "92"
      ]
     },
     "execution_count": 4,
     "metadata": {},
     "output_type": "execute_result"
    }
   ],
   "source": [
    "vocabulary = set(text)\n",
    "len(vocabulary)"
   ]
  },
  {
   "cell_type": "code",
   "execution_count": 5,
   "metadata": {},
   "outputs": [
    {
     "name": "stdout",
     "output_type": "stream",
     "text": [
      "95\n",
      "95\n"
     ]
    }
   ],
   "source": [
    "char2i = {c:i for i, c in enumerate(sorted(vocabulary), 3)}\n",
    "char2i[\"<PAD>\"] = 0\n",
    "char2i[\"<START>\"] = 1\n",
    "char2i[\"<END>\"] = 2\n",
    "print(len(char2i))\n",
    "i2char = {i:c for i, c in enumerate(sorted(vocabulary), 3)}\n",
    "i2char[0] = \"<PAD>\"\n",
    "i2char[1] = \"<START>\"\n",
    "i2char[2] = \"<END>\"\n",
    "print(len(i2char))"
   ]
  },
  {
   "cell_type": "code",
   "execution_count": 6,
   "metadata": {},
   "outputs": [
    {
     "data": {
      "text/plain": [
       "device(type='cuda')"
      ]
     },
     "execution_count": 6,
     "metadata": {},
     "output_type": "execute_result"
    }
   ],
   "source": [
    "device = torch.device(\"cuda\" if torch.cuda.is_available() else \"cpu\")\n",
    "\n",
    "device"
   ]
  },
  {
   "cell_type": "code",
   "execution_count": 7,
   "metadata": {},
   "outputs": [
    {
     "name": "stdout",
     "output_type": "stream",
     "text": [
      "556949\n",
      "556929\n",
      "['\\ufeffThe Project Gutenbe', 'The Project Gutenber', 'he Project Gutenberg', 'e Project Gutenberg ', ' Project Gutenberg E']\n"
     ]
    },
    {
     "data": {
      "application/vnd.jupyter.widget-view+json": {
       "model_id": "01071af147b2467ab44f1f0c32f72333",
       "version_major": 2,
       "version_minor": 0
      },
      "text/plain": [
       "HBox(children=(HTML(value=''), FloatProgress(value=0.0, max=556929.0), HTML(value='')))"
      ]
     },
     "metadata": {},
     "output_type": "display_data"
    },
    {
     "name": "stdout",
     "output_type": "stream",
     "text": [
      "\n",
      "torch.Size([556929, 20])\n",
      "torch.Size([556929, 10])\n",
      "torch.Size([556929, 11])\n"
     ]
    }
   ],
   "source": [
    "length = 20\n",
    "lines = []\n",
    "for i in range(len(text))[:-length]:\n",
    "    lines.append(text[i:length + i])\n",
    "print(len(text))\n",
    "print(len(lines))\n",
    "print(lines[:5])\n",
    "encoded = torch.tensor([[char2i[c] for c in l] for l in tqdm(lines)]).to(device).long()\n",
    "print(encoded.shape)\n",
    "source_1 = encoded[:, :length // 2]\n",
    "print(source_1.shape)\n",
    "target_1 = torch.cat((torch.ones(encoded.shape[0], 1).to(device).long(), encoded[:, length // 2:]), axis = 1)\n",
    "print(target_1.shape)"
   ]
  },
  {
   "cell_type": "code",
   "execution_count": 8,
   "metadata": {
    "scrolled": false
   },
   "outputs": [
    {
     "name": "stdout",
     "output_type": "stream",
     "text": [
      "Net parameters: 408,795\n"
     ]
    },
    {
     "data": {
      "application/vnd.jupyter.widget-view+json": {
       "model_id": "e445dd3342754e0abd9e744a4dc3d778",
       "version_major": 2,
       "version_minor": 0
      },
      "text/plain": [
       "HBox(children=(HTML(value=''), FloatProgress(value=0.0, max=5.0), HTML(value='')))"
      ]
     },
     "metadata": {},
     "output_type": "display_data"
    },
    {
     "data": {
      "application/vnd.jupyter.widget-view+json": {
       "model_id": "5847dfdd66374f1c934eecb3b574d31e",
       "version_major": 2,
       "version_minor": 0
      },
      "text/plain": [
       "HBox(children=(HTML(value=''), FloatProgress(value=0.0, max=3713.0), HTML(value='')))"
      ]
     },
     "metadata": {},
     "output_type": "display_data"
    },
    {
     "name": "stdout",
     "output_type": "stream",
     "text": [
      "\n",
      "Epoch:    1, Loss: 3.0290\n",
      "Y\n",
      "['ct Gutenbe', 't Gutenber', ' Gutenberg', 'Gutenberg ', 'utenberg E']\n",
      "\n",
      "forward\n",
      "['          ', '          ', '          ', '          ', '          ']\n",
      "\n",
      "greedy_search\n",
      "['          ', '          ', '          ', '          ', '          ']\n",
      "tensor([-18.1500, -18.0000, -17.7500, -16.5600, -15.6700], device='cuda:0')\n",
      "\n",
      "sample\n",
      "[' ttcdtith ', 've eogi.eC', ' hgdiaht3s', 'N^eokre i9', '. v\\natxynt']\n",
      "\n",
      "beam_search\n",
      "[['          ', '          ', '          ', '          ', '          '],\n",
      " ['   e      ', '   e      ', '   e      ', '    e     ', '   e      '],\n",
      " ['    e     ', '    e     ', '    e     ', '   e      ', '    e     '],\n",
      " ['  e       ', '  e       ', '  e       ', '     e    ', '  e       '],\n",
      " ['     e    ', '     e    ', '     e    ', '  e       ', '     e    ']]\n",
      "tensor([[-18.1500, -18.0000, -17.7500, -16.5600, -15.6700],\n",
      "        [-18.7400, -18.6100, -18.4200, -17.4900, -16.7600],\n",
      "        [-18.7500, -18.6300, -18.4300, -17.4900, -16.7700],\n",
      "        [-18.7500, -18.6300, -18.4300, -17.5000, -16.7900],\n",
      "        [-18.7600, -18.6400, -18.4400, -17.5200, -16.8100]], device='cuda:0')\n",
      "--------------------------------------------------\n"
     ]
    },
    {
     "data": {
      "application/vnd.jupyter.widget-view+json": {
       "model_id": "f683ab11c47849dca996c7f9b3bd3a09",
       "version_major": 2,
       "version_minor": 0
      },
      "text/plain": [
       "HBox(children=(HTML(value=''), FloatProgress(value=0.0, max=3713.0), HTML(value='')))"
      ]
     },
     "metadata": {},
     "output_type": "display_data"
    },
    {
     "name": "stdout",
     "output_type": "stream",
     "text": [
      "\n",
      "Epoch:    2, Loss: 2.2000\n",
      "Y\n",
      "['ct Gutenbe', 't Gutenber', ' Gutenberg', 'Gutenberg ', 'utenberg E']\n",
      "\n",
      "forward\n",
      "[' e thne  e', 'eethne se ', 'etone  e  ', ' tne  e   ', ' ne  e   t']\n",
      "\n",
      "greedy_search\n",
      "[' the the t', 'e the the ', 'e the the ', ' the the t', ' the the t']\n",
      "tensor([-11.8800, -11.9000, -11.4100, -11.6500, -11.4400], device='cuda:0')\n",
      "\n",
      "sample\n",
      "['t pinnmsva', 'h pont in ', ' B1\\nhatfeo', 'he Qp. toe', 'in tiwfbrs']\n",
      "\n",
      "beam_search\n",
      "[[' the the t', 'e the the ', 'e the the ', '          ', '          '],\n",
      " ['e the the ', 'n the the ', ' the the t', '         -', '         -'],\n",
      " [' the thes ', 'te the the', 'in the the', ' the the t', ' the the t'],\n",
      " [' the the a', 'e the thes', ' the the a', '         1', '        --'],\n",
      " [' the the o', 'n the thes', ' the the o', '         h', '         1']]\n",
      "tensor([[-11.8800, -11.9000, -11.4100,  -8.6700,  -9.5000],\n",
      "        [-12.1400, -12.1500, -12.2400, -10.9600, -11.4200],\n",
      "        [-12.7600, -12.9400, -13.0900, -11.6500, -11.4400],\n",
      "        [-12.9600, -14.0000, -13.1200, -11.8000, -11.9900],\n",
      "        [-12.9900, -14.1700, -13.1900, -11.8400, -12.0100]], device='cuda:0')\n",
      "--------------------------------------------------\n"
     ]
    },
    {
     "data": {
      "application/vnd.jupyter.widget-view+json": {
       "model_id": "bbe9662bee964e54a75243db25b287ea",
       "version_major": 2,
       "version_minor": 0
      },
      "text/plain": [
       "HBox(children=(HTML(value=''), FloatProgress(value=0.0, max=3713.0), HTML(value='')))"
      ]
     },
     "metadata": {},
     "output_type": "display_data"
    },
    {
     "name": "stdout",
     "output_type": "stream",
     "text": [
      "\n",
      "Epoch:    3, Loss: 1.6847\n",
      "Y\n",
      "['ct Gutenbe', 't Gutenber', ' Gutenberg', 'Gutenberg ', 'utenberg E']\n",
      "\n",
      "forward\n",
      "['sh afterte', 'n aoth te ', 'eaoth te  ', 'tonh te  i', 'tn   e   t']\n",
      "\n",
      "greedy_search\n",
      "['s the the ', 'n the the ', 'e the the ', 'the the th', 'the the th']\n",
      "tensor([-10.3700, -11.0300, -10.1900, -10.1400, -10.7500], device='cuda:0')\n",
      "\n",
      "sample\n",
      "['g\\nplarices', '2 \"fatutlu', 'aico bseve', 'isdrconvou', '    9Caslo']\n",
      "\n",
      "beam_search\n",
      "[['s the the ', 's the the ', 'e the the ', 'the the th', 'the the th'],\n",
      " ['s the thes', 'n the the ', 'e the thes', 'the the to', 'the the pa'],\n",
      " ['s the ther', 'on the the', 'e the ther', 'the the pa', 'the the to'],\n",
      " ['s of the t', 'n the thes', 'e the thit', 'the thes t', 'the there '],\n",
      " ['s of the p', 's the thes', 'e the thec', 'the the an', 'the the po']]\n",
      "tensor([[-10.3700, -11.0100, -10.1900, -10.1400, -10.7500],\n",
      "        [-11.1300, -11.0300, -11.1800, -10.9200, -11.5800],\n",
      "        [-11.3400, -11.2300, -11.2700, -11.0300, -11.7200],\n",
      "        [-11.4900, -11.7300, -11.7900, -11.3100, -11.7700],\n",
      "        [-11.6300, -11.8100, -12.0300, -11.3300, -11.9600]], device='cuda:0')\n",
      "--------------------------------------------------\n"
     ]
    },
    {
     "data": {
      "application/vnd.jupyter.widget-view+json": {
       "model_id": "720e417cfe354d69accea6b10fb3fc4a",
       "version_major": 2,
       "version_minor": 0
      },
      "text/plain": [
       "HBox(children=(HTML(value=''), FloatProgress(value=0.0, max=3713.0), HTML(value='')))"
      ]
     },
     "metadata": {},
     "output_type": "display_data"
    },
    {
     "name": "stdout",
     "output_type": "stream",
     "text": [
      "\n",
      "Epoch:    4, Loss: 1.4636\n",
      "Y\n",
      "['ct Gutenbe', 't Gutenber', ' Gutenberg', 'Gutenberg ', 'utenberg E']\n",
      "\n",
      "forward\n",
      "['nk autente', 'n aothnten', ' aothnten ', 'tot n enta', 'hn n en  t']\n",
      "\n",
      "greedy_search\n",
      "['ng the pas', 'n the past', ' and the p', 'the paster', 'he packing']\n",
      "tensor([-12.8200, -12.4300, -10.0700, -11.8400, -13.1300], device='cuda:0')\n",
      "\n",
      "sample\n",
      "['m boces a ', 'den, puch ', 'idisanf an', 'frectentis', 'e. 0H-Q4 f']\n",
      "\n",
      "beam_search\n",
      "[['s of the p', 'n of the p', ' and the p', 'the Black ', 'his of the'],\n",
      " ['s of the B', 'n the the ', 'ing the pa', \"the Black'\", 'his the pa'],\n",
      " ['s of the K', 'n of the s', 'ing the Kt', 'of the Bla', 'his the th'],\n",
      " ['s of the c', 'n of the c', ' and the s', 'the Black\\n', 'his the Kt'],\n",
      " ['s of the a', 'n of the B', 'ing the Bl', 'the Black,', 'his the pe']]\n",
      "tensor([[-10.2700, -10.3700, -10.0700,  -7.7400,  -9.8700],\n",
      "        [-10.8000, -10.4800, -10.5600,  -9.3900, -10.3900],\n",
      "        [-10.8400, -10.9600, -10.6500,  -9.5300, -10.6900],\n",
      "        [-10.9000, -11.0600, -10.7500, -10.3100, -10.9700],\n",
      "        [-10.9100, -11.1300, -10.7600, -10.7000, -11.0900]], device='cuda:0')\n",
      "--------------------------------------------------\n"
     ]
    },
    {
     "data": {
      "application/vnd.jupyter.widget-view+json": {
       "model_id": "19161ef3c9404ef0a773dc3227d394a8",
       "version_major": 2,
       "version_minor": 0
      },
      "text/plain": [
       "HBox(children=(HTML(value=''), FloatProgress(value=0.0, max=3713.0), HTML(value='')))"
      ]
     },
     "metadata": {},
     "output_type": "display_data"
    },
    {
     "name": "stdout",
     "output_type": "stream",
     "text": [
      "\n",
      "Epoch:    5, Loss: 1.3464\n",
      "Y\n",
      "['ct Gutenbe', 't Gutenber', ' Gutenberg', 'Gutenberg ', 'utenberg E']\n",
      "\n",
      "forward\n",
      "['nk outente', 'n outenten', ' autentert', 'autentent ', 'hnhn ert t']\n",
      "\n",
      "greedy_search\n",
      "['ng to play', 'n and the ', ' and the p', 'and the pa', 'his the pa']\n",
      "tensor([-13.0700, -10.7800, -10.0100, -10.3500, -10.7200], device='cuda:0')\n",
      "\n",
      "sample\n",
      "['ged (P. 4)', 'n ...\\n\\n   ', ', of K5 Kt', 'won foatib', 'hin connta']\n",
      "\n",
      "beam_search\n",
      "[['ck of the ', 'k, and the', ', and the ', 'for the Kt', 'his there '],\n",
      " ['ck on the ', 'n of the p', ', and and ', 'for the pa', 'ould the p'],\n",
      " ['ck, and th', 'k, and to ', ', and ther', 'and the pa', 'his the pa'],\n",
      " ['ck and the', 'n of the K', ', and thes', 'of the Kt-', 'hing the p'],\n",
      " ['ck of the\\n', 'n of the s', ' and the p', 'the pawn a', 'hing the K']]\n",
      "tensor([[ -9.1200,  -8.8400,  -8.3000, -10.0000, -10.2200],\n",
      "        [ -9.7200,  -9.8000,  -9.5500, -10.0500, -10.3600],\n",
      "        [-10.0800, -10.2200,  -9.6000, -10.3500, -10.7200],\n",
      "        [-10.0900, -10.2500,  -9.9100, -10.6500, -10.7300],\n",
      "        [-11.2600, -10.3700, -10.0100, -10.7400, -10.8800]], device='cuda:0')\n",
      "--------------------------------------------------\n",
      "\n"
     ]
    }
   ],
   "source": [
    "importlib.reload(language_modelling_seq2seq)    \n",
    "net = language_modelling_seq2seq.Seq2SeqRNN(char2i, i2char, \n",
    "                                            encoder_hidden_units = 100, encoder_layers = 2,\n",
    "                                            decoder_hidden_units = 100, decoder_layers = 2)\n",
    "net.to(device)\n",
    "net.fit(source_1, target_1, epochs = 5, batch_size = 150, lr = 0.0001, verbose = 3, \n",
    "        save_path = \"checkpoints/seq2seq_rnn.pt\")"
   ]
  },
  {
   "cell_type": "code",
   "execution_count": 9,
   "metadata": {},
   "outputs": [
    {
     "name": "stdout",
     "output_type": "stream",
     "text": [
      "Net parameters: 408,795\n"
     ]
    },
    {
     "data": {
      "application/vnd.jupyter.widget-view+json": {
       "model_id": "1396ebc58bb545c29231875787f4dedc",
       "version_major": 2,
       "version_minor": 0
      },
      "text/plain": [
       "HBox(children=(HTML(value=''), FloatProgress(value=0.0, max=19.0), HTML(value='')))"
      ]
     },
     "metadata": {},
     "output_type": "display_data"
    },
    {
     "name": "stdout",
     "output_type": "stream",
     "text": [
      "\n"
     ]
    },
    {
     "data": {
      "text/plain": [
       "tensor([[-17.8335, -18.0513, -18.4524, -18.6212, -19.1344],\n",
       "        [-17.8188, -18.4778, -19.9400, -19.9586, -19.9911],\n",
       "        [-18.0875, -18.1003, -18.3117, -18.5102, -18.6515],\n",
       "        [-18.8604, -19.6848, -19.7341, -19.8503, -19.8990],\n",
       "        [-18.7424, -19.4441, -20.1285, -20.5640, -20.6350],\n",
       "        [-17.5809, -17.8223, -17.8357, -17.8608, -17.8852],\n",
       "        [-17.3872, -17.6513, -17.6753, -17.8806, -18.1069],\n",
       "        [-16.1265, -16.2314, -16.6199, -18.0132, -18.0527],\n",
       "        [-15.9027, -16.4403, -17.8933, -18.0407, -18.0589],\n",
       "        [-16.4433, -16.6209, -17.2826, -17.5410, -17.7742],\n",
       "        [-15.8254, -16.5886, -16.6080, -17.6020, -17.7822],\n",
       "        [-16.7700, -17.0002, -17.0462, -17.3763, -17.4078],\n",
       "        [-17.2418, -17.2750, -17.4296, -17.8269, -17.9135],\n",
       "        [-15.5557, -16.1395, -16.5601, -16.5798, -16.5995],\n",
       "        [-16.7301, -17.7979, -18.4939, -19.0436, -19.3501],\n",
       "        [-13.5500, -14.4816, -14.6108, -14.7599, -15.2486],\n",
       "        [-16.1356, -17.0112, -17.0463, -17.1639, -17.9480],\n",
       "        [-15.8895, -16.7655, -16.9784, -17.0305, -17.2081],\n",
       "        [-17.0360, -17.0380, -17.0439, -17.3265, -17.3361],\n",
       "        [-16.5863, -18.0712, -18.9666, -19.0230, -19.0611]], device='cuda:0')"
      ]
     },
     "execution_count": 9,
     "metadata": {},
     "output_type": "execute_result"
    }
   ],
   "source": [
    "importlib.reload(language_modelling_seq2seq)    \n",
    "net = language_modelling_seq2seq.Seq2SeqRNN(char2i, i2char, \n",
    "                                            encoder_hidden_units = 100,\n",
    "                                            encoder_layers = 2,\n",
    "                                            decoder_hidden_units = 100,\n",
    "                                            decoder_layers = 2)\n",
    "net.load_state_dict(torch.load(\"checkpoints/seq2seq_rnn.pt\"))\n",
    "net.to(device)\n",
    "test = net.beam_search(source_1[:10000], verbose = 1, batch_size = 50)\n",
    "\n",
    "test[1][:20]"
   ]
  },
  {
   "cell_type": "code",
   "execution_count": null,
   "metadata": {},
   "outputs": [],
   "source": []
  }
 ],
 "metadata": {
  "kernelspec": {
   "display_name": "Python 3",
   "language": "python",
   "name": "python3"
  },
  "language_info": {
   "codemirror_mode": {
    "name": "ipython",
    "version": 3
   },
   "file_extension": ".py",
   "mimetype": "text/x-python",
   "name": "python",
   "nbconvert_exporter": "python",
   "pygments_lexer": "ipython3",
   "version": "3.8.5"
  }
 },
 "nbformat": 4,
 "nbformat_minor": 5
}
