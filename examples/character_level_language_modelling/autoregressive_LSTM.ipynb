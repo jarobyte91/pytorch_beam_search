{
 "cells": [
  {
   "cell_type": "code",
   "execution_count": 1,
   "id": "cead063f",
   "metadata": {},
   "outputs": [],
   "source": [
    "import torch\n",
    "import torch.nn as nn\n",
    "import torch.utils.data as tud\n",
    "from tqdm.notebook import tqdm\n",
    "from pprint import pprint\n",
    "import matplotlib.pyplot as plt\n",
    "import numpy as np\n",
    "import importlib\n",
    "import sys\n",
    "sys.path.append(\"../../\")\n",
    "import autoregressive"
   ]
  },
  {
   "cell_type": "code",
   "execution_count": 2,
   "id": "ae5a60b1",
   "metadata": {
    "scrolled": false
   },
   "outputs": [
    {
     "name": "stdout",
     "output_type": "stream",
     "text": [
      "556949\n",
      "﻿The Project Gutenberg EBook of Chess Strategy, by Edward Lasker\n",
      "\n",
      "This eBook is for the use of anyone anywhere at no cost and with\n",
      "almost no restrictions whatsoever.  You may copy it, give it away or\n",
      "re-use it under the terms of the Project Gutenberg License included\n",
      "with this eBook or online at www.gutenberg.org/license\n",
      "\n",
      "\n",
      "Title: Chess Strategy\n",
      "\n",
      "Author: Edward Lasker\n",
      "\n",
      "Translator: J. Du Mont\n",
      "\n",
      "Release Date: November 11, 2012 [EBook #5614]\n",
      "\n",
      "Language: English\n",
      "\n",
      "\n",
      "*** START OF THIS PROJECT GUTENBERG EBOOK CHESS STRATEGY ***\n",
      "\n",
      "\n",
      "\n",
      "\n",
      "Produced by John Mamoun <mamounjo@umdnj.edu>, Charles\n",
      "Franks, and the Online Distributed Proofreaders website.\n",
      "\n",
      "\n",
      "\n",
      "\n",
      "\n",
      "\n",
      "\n",
      "\n",
      "INFORMATION ABOUT THIS E-TEXT EDITION\n",
      "\n",
      "\n",
      "\n",
      "The following is an e-text of \"Chess Strategy,\" second edition, (1915)\n",
      "by Edward Lasker, translated by J. Du Mont.\n",
      "\n",
      "This e-text contains the 167 chess and checkers board game\n",
      "diagrams appearing in the original book, all in the form of\n",
      "ASCII line drawings. The following is a key to the diagrams:\n",
      "\n",
      "For chess pieces\n"
     ]
    }
   ],
   "source": [
    "# chess\n",
    "\n",
    "with open(\"data/chess_book.txt\", encoding = \"utf-8\") as file:\n",
    "    text = file.read()\n",
    "print(len(text))\n",
    "print(text[:1000])"
   ]
  },
  {
   "cell_type": "code",
   "execution_count": 3,
   "id": "a531a84d",
   "metadata": {},
   "outputs": [
    {
     "data": {
      "text/plain": [
       "556949"
      ]
     },
     "execution_count": 3,
     "metadata": {},
     "output_type": "execute_result"
    }
   ],
   "source": [
    "len(text)"
   ]
  },
  {
   "cell_type": "code",
   "execution_count": 4,
   "id": "4c17640f",
   "metadata": {},
   "outputs": [
    {
     "data": {
      "text/plain": [
       "92"
      ]
     },
     "execution_count": 4,
     "metadata": {},
     "output_type": "execute_result"
    }
   ],
   "source": [
    "vocabulary = set(text)\n",
    "len(vocabulary)"
   ]
  },
  {
   "cell_type": "code",
   "execution_count": 5,
   "id": "1c4d93a2",
   "metadata": {},
   "outputs": [],
   "source": [
    "# from nltk.lm import Vocabulary\n",
    "# vocabulary = Vocabulary(text)\n",
    "# len(vocabulary)"
   ]
  },
  {
   "cell_type": "code",
   "execution_count": 6,
   "id": "3a2325bf",
   "metadata": {},
   "outputs": [
    {
     "data": {
      "text/plain": [
       "device(type='cuda')"
      ]
     },
     "execution_count": 6,
     "metadata": {},
     "output_type": "execute_result"
    }
   ],
   "source": [
    "device = torch.device(\"cuda\" if torch.cuda.is_available() else \"cpu\")\n",
    "\n",
    "device"
   ]
  },
  {
   "cell_type": "code",
   "execution_count": 7,
   "id": "680b1ae1",
   "metadata": {},
   "outputs": [
    {
     "name": "stdout",
     "output_type": "stream",
     "text": [
      "556949\n",
      "556932\n",
      "['\\ufeffThe Project Gute', 'The Project Guten', 'he Project Gutenb', 'e Project Gutenbe', ' Project Gutenber']\n"
     ]
    }
   ],
   "source": [
    "length = 17\n",
    "lines = []\n",
    "for i in range(len(text))[:-length]:\n",
    "    lines.append(text[i:length + i])\n",
    "print(len(text))\n",
    "print(len(lines))\n",
    "print(lines[:5])"
   ]
  },
  {
   "cell_type": "markdown",
   "id": "396ff33d",
   "metadata": {},
   "source": [
    "# fit"
   ]
  },
  {
   "cell_type": "code",
   "execution_count": 8,
   "id": "4f08c0ff",
   "metadata": {
    "scrolled": false
   },
   "outputs": [
    {
     "name": "stdout",
     "output_type": "stream",
     "text": [
      "Model: Autoregressive LSTM\n",
      "Tokens in the vocabulary: 92\n",
      "Embedding dimension: 32\n",
      "Hidden units: 128\n",
      "Layers: 2\n",
      "Dropout: 0.0\n",
      "Trainable parameters: 230,335\n",
      "\n",
      "torch.Size([556932, 17])\n",
      "Training started\n",
      "Epochs: 5\n",
      "Learning rate: 0.001\n",
      "Weight decay: 0\n",
      "Epoch | Train                 | Minutes\n",
      "      | Loss     | Error Rate |\n",
      "---------------------------------------\n",
      "    1 |   1.2248 |     34.568 |     0.7\n",
      "    2 |   0.9714 |     29.082 |     1.5\n",
      "    3 |   0.9251 |     27.978 |     2.3\n",
      "    4 |   0.8987 |     27.328 |     3.1\n",
      "    5 |   0.8803 |     26.873 |     3.9\n"
     ]
    }
   ],
   "source": [
    "importlib.reload(autoregressive)    \n",
    "net = autoregressive.LSTM(vocabulary)\n",
    "net.to(device)\n",
    "\n",
    "encoded = net.text2tensor(lines).to(device)\n",
    "print(encoded.shape)\n",
    "\n",
    "performance = net.fit(encoded, save_path = \"checkpoints/autoregressive_lstm.pt\", progress_bar = 0)\n",
    "net.save_architecture(\"models/autoregressive_lstm.arch\")"
   ]
  },
  {
   "cell_type": "code",
   "execution_count": 9,
   "id": "bce5ac70",
   "metadata": {},
   "outputs": [
    {
     "data": {
      "text/html": [
       "<div>\n",
       "<style scoped>\n",
       "    .dataframe tbody tr th:only-of-type {\n",
       "        vertical-align: middle;\n",
       "    }\n",
       "\n",
       "    .dataframe tbody tr th {\n",
       "        vertical-align: top;\n",
       "    }\n",
       "\n",
       "    .dataframe thead th {\n",
       "        text-align: right;\n",
       "    }\n",
       "</style>\n",
       "<table border=\"1\" class=\"dataframe\">\n",
       "  <thead>\n",
       "    <tr style=\"text-align: right;\">\n",
       "      <th></th>\n",
       "      <th>epoch</th>\n",
       "      <th>train_loss</th>\n",
       "      <th>train_error_rate</th>\n",
       "      <th>training_minutes</th>\n",
       "      <th>learning_rate</th>\n",
       "      <th>weight_decay</th>\n",
       "      <th>model</th>\n",
       "      <th>embedding_dimension</th>\n",
       "      <th>hidden_units</th>\n",
       "      <th>layers</th>\n",
       "      <th>dropout</th>\n",
       "      <th>parameters</th>\n",
       "    </tr>\n",
       "  </thead>\n",
       "  <tbody>\n",
       "    <tr>\n",
       "      <th>0</th>\n",
       "      <td>1</td>\n",
       "      <td>1.224767</td>\n",
       "      <td>34.567708</td>\n",
       "      <td>0.748852</td>\n",
       "      <td>0.001</td>\n",
       "      <td>0</td>\n",
       "      <td>Autoregressive LSTM</td>\n",
       "      <td>32</td>\n",
       "      <td>128</td>\n",
       "      <td>2</td>\n",
       "      <td>0.0</td>\n",
       "      <td>230335</td>\n",
       "    </tr>\n",
       "    <tr>\n",
       "      <th>1</th>\n",
       "      <td>2</td>\n",
       "      <td>0.971367</td>\n",
       "      <td>29.081737</td>\n",
       "      <td>1.526219</td>\n",
       "      <td>0.001</td>\n",
       "      <td>0</td>\n",
       "      <td>Autoregressive LSTM</td>\n",
       "      <td>32</td>\n",
       "      <td>128</td>\n",
       "      <td>2</td>\n",
       "      <td>0.0</td>\n",
       "      <td>230335</td>\n",
       "    </tr>\n",
       "    <tr>\n",
       "      <th>2</th>\n",
       "      <td>3</td>\n",
       "      <td>0.925073</td>\n",
       "      <td>27.978281</td>\n",
       "      <td>2.304914</td>\n",
       "      <td>0.001</td>\n",
       "      <td>0</td>\n",
       "      <td>Autoregressive LSTM</td>\n",
       "      <td>32</td>\n",
       "      <td>128</td>\n",
       "      <td>2</td>\n",
       "      <td>0.0</td>\n",
       "      <td>230335</td>\n",
       "    </tr>\n",
       "    <tr>\n",
       "      <th>3</th>\n",
       "      <td>4</td>\n",
       "      <td>0.898749</td>\n",
       "      <td>27.327753</td>\n",
       "      <td>3.073714</td>\n",
       "      <td>0.001</td>\n",
       "      <td>0</td>\n",
       "      <td>Autoregressive LSTM</td>\n",
       "      <td>32</td>\n",
       "      <td>128</td>\n",
       "      <td>2</td>\n",
       "      <td>0.0</td>\n",
       "      <td>230335</td>\n",
       "    </tr>\n",
       "    <tr>\n",
       "      <th>4</th>\n",
       "      <td>5</td>\n",
       "      <td>0.880287</td>\n",
       "      <td>26.872659</td>\n",
       "      <td>3.851194</td>\n",
       "      <td>0.001</td>\n",
       "      <td>0</td>\n",
       "      <td>Autoregressive LSTM</td>\n",
       "      <td>32</td>\n",
       "      <td>128</td>\n",
       "      <td>2</td>\n",
       "      <td>0.0</td>\n",
       "      <td>230335</td>\n",
       "    </tr>\n",
       "  </tbody>\n",
       "</table>\n",
       "</div>"
      ],
      "text/plain": [
       "   epoch  train_loss  train_error_rate  training_minutes  learning_rate  \\\n",
       "0      1    1.224767         34.567708          0.748852          0.001   \n",
       "1      2    0.971367         29.081737          1.526219          0.001   \n",
       "2      3    0.925073         27.978281          2.304914          0.001   \n",
       "3      4    0.898749         27.327753          3.073714          0.001   \n",
       "4      5    0.880287         26.872659          3.851194          0.001   \n",
       "\n",
       "   weight_decay                model  embedding_dimension  hidden_units  \\\n",
       "0             0  Autoregressive LSTM                   32           128   \n",
       "1             0  Autoregressive LSTM                   32           128   \n",
       "2             0  Autoregressive LSTM                   32           128   \n",
       "3             0  Autoregressive LSTM                   32           128   \n",
       "4             0  Autoregressive LSTM                   32           128   \n",
       "\n",
       "   layers  dropout  parameters  \n",
       "0       2      0.0      230335  \n",
       "1       2      0.0      230335  \n",
       "2       2      0.0      230335  \n",
       "3       2      0.0      230335  \n",
       "4       2      0.0      230335  "
      ]
     },
     "execution_count": 9,
     "metadata": {},
     "output_type": "execute_result"
    }
   ],
   "source": [
    "# includes all the information about the epoch and the model, useful for reproducibility\n",
    "\n",
    "performance"
   ]
  },
  {
   "cell_type": "code",
   "execution_count": 10,
   "id": "102ff488",
   "metadata": {},
   "outputs": [
    {
     "data": {
      "text/plain": [
       "['\\ufeffThe Project Gute',\n",
       " 'The Project Guten',\n",
       " 'he Project Gutenb',\n",
       " 'e Project Gutenbe',\n",
       " ' Project Gutenber']"
      ]
     },
     "execution_count": 10,
     "metadata": {},
     "output_type": "execute_result"
    }
   ],
   "source": [
    "# the input for testing\n",
    "\n",
    "net.tensor2text(encoded[:5])"
   ]
  },
  {
   "cell_type": "markdown",
   "id": "04a4c9a8",
   "metadata": {},
   "source": [
    "# predict"
   ]
  },
  {
   "cell_type": "code",
   "execution_count": 11,
   "id": "dc3a1e90",
   "metadata": {},
   "outputs": [
    {
     "name": "stdout",
     "output_type": "stream",
     "text": [
      "Model: Autoregressive LSTM\n",
      "Tokens in the vocabulary: 92\n",
      "Embedding dimension: 32\n",
      "Hidden units: 128\n",
      "Layers: 2\n",
      "Dropout: 0.0\n",
      "Trainable parameters: 230,335\n",
      "\n"
     ]
    },
    {
     "data": {
      "text/plain": [
       "['\\ufeffThe Project Gutenberg Literary Archi',\n",
       " 'The Project Gutenberg Literary Archiv',\n",
       " 'he Project Gutenberg Literary Archive',\n",
       " 'e Project Gutenberg Literary Archive ',\n",
       " ' Project Gutenberg Literary Archive F']"
      ]
     },
     "execution_count": 11,
     "metadata": {},
     "output_type": "execute_result"
    }
   ],
   "source": [
    "importlib.reload(autoregressive)    \n",
    "net = autoregressive.load_architecture(\"models/autoregressive_lstm.arch\")\n",
    "net.load_state_dict(torch.load(\"checkpoints/autoregressive_lstm.pt\"))\n",
    "net.to(device)\n",
    "idx, log_probabilities = net.predict(encoded[:5], main_progress_bar = False, progress_bar = 0)\n",
    "\n",
    "net.tensor2text(idx)"
   ]
  },
  {
   "cell_type": "code",
   "execution_count": 12,
   "id": "cb6c7c06",
   "metadata": {},
   "outputs": [
    {
     "data": {
      "text/plain": [
       "tensor([[-2.2667, -2.6597, -4.9379, -5.1540, -5.4737],\n",
       "        [-2.3132, -2.7272, -5.0683, -5.3617, -6.3552],\n",
       "        [-2.3244, -2.7650, -5.1401, -5.6308, -6.4696],\n",
       "        [-2.4750, -2.7939, -4.4382, -5.2172, -5.6364],\n",
       "        [-2.7056, -2.8104, -5.1420, -5.2348, -5.4865]], device='cuda:0')"
      ]
     },
     "execution_count": 12,
     "metadata": {},
     "output_type": "execute_result"
    }
   ],
   "source": [
    "log_probabilities"
   ]
  },
  {
   "cell_type": "markdown",
   "id": "ce9ab58d",
   "metadata": {},
   "source": [
    "# greedy_search"
   ]
  },
  {
   "cell_type": "code",
   "execution_count": 13,
   "id": "02508ab3",
   "metadata": {},
   "outputs": [
    {
     "name": "stdout",
     "output_type": "stream",
     "text": [
      "Model: Autoregressive LSTM\n",
      "Tokens in the vocabulary: 92\n",
      "Embedding dimension: 32\n",
      "Hidden units: 128\n",
      "Layers: 2\n",
      "Dropout: 0.0\n",
      "Trainable parameters: 230,335\n",
      "\n",
      "tensor([-2.6597, -2.7272, -2.7650, -2.7939, -2.8104], device='cuda:0')\n"
     ]
    },
    {
     "data": {
      "text/plain": [
       "['\\ufeffThe Project Gutenberg-tm electronic ',\n",
       " 'The Project Gutenberg-tm electronic w',\n",
       " 'he Project Gutenberg-tm electronic wo',\n",
       " 'e Project Gutenberg-tm electronic wor',\n",
       " ' Project Gutenberg-tm electronic work']"
      ]
     },
     "execution_count": 13,
     "metadata": {},
     "output_type": "execute_result"
    }
   ],
   "source": [
    "importlib.reload(autoregressive)    \n",
    "net = autoregressive.load_architecture(\"models/autoregressive_lstm.arch\")\n",
    "net.load_state_dict(torch.load(\"checkpoints/autoregressive_lstm.pt\"))\n",
    "net.to(device)\n",
    "indexes, log_probabilities = net.greedy_search(encoded[:5], progress_bar = False)\n",
    "\n",
    "print(log_probabilities)\n",
    "net.tensor2text(indexes)"
   ]
  },
  {
   "cell_type": "markdown",
   "id": "6cd33c29",
   "metadata": {},
   "source": [
    "# sample"
   ]
  },
  {
   "cell_type": "code",
   "execution_count": 14,
   "id": "5cc754d1",
   "metadata": {},
   "outputs": [
    {
     "name": "stdout",
     "output_type": "stream",
     "text": [
      "Model: Autoregressive LSTM\n",
      "Tokens in the vocabulary: 92\n",
      "Embedding dimension: 32\n",
      "Hidden units: 128\n",
      "Layers: 2\n",
      "Dropout: 0.0\n",
      "Trainable parameters: 230,335\n",
      "\n",
      "tensor([-13.3856, -12.2580,  -9.9078, -22.7814, -22.9671], device='cuda:0')\n"
     ]
    },
    {
     "data": {
      "text/plain": [
       "['\\ufeffThe Project Gutenberg-tm work, sever',\n",
       " 'The Project Gutenberg-tm\\ncasker.\\n\\n   ',\n",
       " 'he Project Gutenberg-tm License is to',\n",
       " 'e Project Gutenberg Literably the uls',\n",
       " ' Project Gutenberg White gives P-KB4 ']"
      ]
     },
     "execution_count": 14,
     "metadata": {},
     "output_type": "execute_result"
    }
   ],
   "source": [
    "importlib.reload(autoregressive)    \n",
    "net = autoregressive.load_architecture(\"models/autoregressive_lstm.arch\")\n",
    "net.load_state_dict(torch.load(\"checkpoints/autoregressive_lstm.pt\"))\n",
    "net.to(device)\n",
    "indexes, log_probabilities = net.sample(encoded[:5], progress_bar = False)\n",
    "\n",
    "print(log_probabilities)\n",
    "net.tensor2text(indexes)"
   ]
  },
  {
   "cell_type": "markdown",
   "id": "e3a1efbb",
   "metadata": {},
   "source": [
    "# beam_search"
   ]
  },
  {
   "cell_type": "code",
   "execution_count": 15,
   "id": "04a11f91",
   "metadata": {},
   "outputs": [
    {
     "name": "stdout",
     "output_type": "stream",
     "text": [
      "Model: Autoregressive LSTM\n",
      "Tokens in the vocabulary: 92\n",
      "Embedding dimension: 32\n",
      "Hidden units: 128\n",
      "Layers: 2\n",
      "Dropout: 0.0\n",
      "Trainable parameters: 230,335\n",
      "\n",
      "tensor([[-2.2667, -2.6597, -4.9379, -5.1540, -5.4737],\n",
      "        [-2.3132, -2.7272, -5.0683, -5.3617, -6.3552],\n",
      "        [-2.3244, -2.7650, -5.1401, -5.6308, -6.4696],\n",
      "        [-2.4750, -2.7939, -4.4382, -5.2172, -5.6364],\n",
      "        [-2.7056, -2.8104, -5.1420, -5.2348, -5.4865]], device='cuda:0')\n",
      "[['\\ufeffThe Project Gutenberg Literary Archi',\n",
      "  '\\ufeffThe Project Gutenberg-tm electronic ',\n",
      "  '\\ufeffThe Project Gutenberg-tm electronic\\n',\n",
      "  '\\ufeffThe Project Gutenberg-tm electronica',\n",
      "  '\\ufeffThe Project Gutenberg-tm trademark, '],\n",
      " ['The Project Gutenberg Literary Archiv',\n",
      "  'The Project Gutenberg-tm electronic w',\n",
      "  'The Project Gutenberg-tm electronic\\nw',\n",
      "  'The Project Gutenberg-tm electronical',\n",
      "  'The Project Gutenberg Literary Archim'],\n",
      " ['he Project Gutenberg Literary Archive',\n",
      "  'he Project Gutenberg-tm electronic wo',\n",
      "  'he Project Gutenberg-tm electronic\\nwo',\n",
      "  'he Project Gutenberg-tm electronicall',\n",
      "  'he Project Gutenberg Literary Archime'],\n",
      " ['e Project Gutenberg Literary Archive ',\n",
      "  'e Project Gutenberg-tm electronic wor',\n",
      "  'e Project Gutenberg Literary Archive\\n',\n",
      "  'e Project Gutenberg-tm electronic\\nwor',\n",
      "  'e Project Gutenberg-tm electronically'],\n",
      " [' Project Gutenberg Literary Archive F',\n",
      "  ' Project Gutenberg-tm electronic work',\n",
      "  ' Project Gutenberg Literary Archive\\nF',\n",
      "  ' Project Gutenberg-tm electronic\\nwork',\n",
      "  ' Project Gutenberg Literary Archive B']]\n"
     ]
    }
   ],
   "source": [
    "importlib.reload(autoregressive)    \n",
    "net = autoregressive.load_architecture(\"models/autoregressive_lstm.arch\")\n",
    "net.load_state_dict(torch.load(\"checkpoints/autoregressive_lstm.pt\"))\n",
    "net.to(device)\n",
    "indexes, log_probabilities = net.beam_search(encoded[:5], progress_bar = False)\n",
    "\n",
    "print(log_probabilities)\n",
    "pprint([net.tensor2text(t) for t in indexes])"
   ]
  }
 ],
 "metadata": {
  "kernelspec": {
   "display_name": "Python 3",
   "language": "python",
   "name": "python3"
  },
  "language_info": {
   "codemirror_mode": {
    "name": "ipython",
    "version": 3
   },
   "file_extension": ".py",
   "mimetype": "text/x-python",
   "name": "python",
   "nbconvert_exporter": "python",
   "pygments_lexer": "ipython3",
   "version": "3.8.8"
  }
 },
 "nbformat": 4,
 "nbformat_minor": 5
}
