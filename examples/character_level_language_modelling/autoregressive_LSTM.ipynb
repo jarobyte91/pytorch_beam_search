{
 "cells": [
  {
   "cell_type": "code",
   "execution_count": 1,
   "metadata": {},
   "outputs": [],
   "source": [
    "import torch\n",
    "import torch.nn as nn\n",
    "import torch.utils.data as tud\n",
    "from tqdm.notebook import tqdm\n",
    "from pprint import pprint\n",
    "import matplotlib.pyplot as plt\n",
    "import numpy as np\n",
    "import importlib\n",
    "import sys\n",
    "sys.path.append(\"../../\")\n",
    "import autoregressive"
   ]
  },
  {
   "cell_type": "code",
   "execution_count": 2,
   "metadata": {
    "scrolled": false
   },
   "outputs": [
    {
     "name": "stdout",
     "output_type": "stream",
     "text": [
      "556949\n",
      "﻿The Project Gutenberg EBook of Chess Strategy, by Edward Lasker\n",
      "\n",
      "This eBook is for the use of anyone anywhere at no cost and with\n",
      "almost no restrictions whatsoever.  You may copy it, give it away or\n",
      "re-use it under the terms of the Project Gutenberg License included\n",
      "with this eBook or online at www.gutenberg.org/license\n",
      "\n",
      "\n",
      "Title: Chess Strategy\n",
      "\n",
      "Author: Edward Lasker\n",
      "\n",
      "Translator: J. Du Mont\n",
      "\n",
      "Release Date: November 11, 2012 [EBook #5614]\n",
      "\n",
      "Language: English\n",
      "\n",
      "\n",
      "*** START OF THIS PROJECT GUTENBERG EBOOK CHESS STRATEGY ***\n",
      "\n",
      "\n",
      "\n",
      "\n",
      "Produced by John Mamoun <mamounjo@umdnj.edu>, Charles\n",
      "Franks, and the Online Distributed Proofreaders website.\n",
      "\n",
      "\n",
      "\n",
      "\n",
      "\n",
      "\n",
      "\n",
      "\n",
      "INFORMATION ABOUT THIS E-TEXT EDITION\n",
      "\n",
      "\n",
      "\n",
      "The following is an e-text of \"Chess Strategy,\" second edition, (1915)\n",
      "by Edward Lasker, translated by J. Du Mont.\n",
      "\n",
      "This e-text contains the 167 chess and checkers board game\n",
      "diagrams appearing in the original book, all in the form of\n",
      "ASCII line drawings. The following is a key to the diagrams:\n",
      "\n",
      "For chess pieces\n"
     ]
    }
   ],
   "source": [
    "# chess\n",
    "\n",
    "with open(\"data/chess_book.txt\", encoding = \"utf-8\") as file:\n",
    "    text = file.read()\n",
    "print(len(text))\n",
    "print(text[:1000])"
   ]
  },
  {
   "cell_type": "code",
   "execution_count": 3,
   "metadata": {},
   "outputs": [
    {
     "data": {
      "text/plain": [
       "556949"
      ]
     },
     "execution_count": 3,
     "metadata": {},
     "output_type": "execute_result"
    }
   ],
   "source": [
    "len(text)"
   ]
  },
  {
   "cell_type": "code",
   "execution_count": 4,
   "metadata": {},
   "outputs": [
    {
     "data": {
      "text/plain": [
       "92"
      ]
     },
     "execution_count": 4,
     "metadata": {},
     "output_type": "execute_result"
    }
   ],
   "source": [
    "vocabulary = set(text)\n",
    "len(vocabulary)"
   ]
  },
  {
   "cell_type": "code",
   "execution_count": 5,
   "metadata": {},
   "outputs": [],
   "source": [
    "char2i = {c:i for i, c in enumerate(sorted(vocabulary), 3)}\n",
    "char2i[\"<PAD>\"] = 0\n",
    "char2i[\"<START>\"] = 1\n",
    "char2i[\"<END>\"] = 2\n",
    "i2char = {i:c for i, c in enumerate(sorted(vocabulary), 3)}\n",
    "i2char[0] = \"<PAD>\"\n",
    "i2char[1] = \"<START>\"\n",
    "i2char[2] = \"<END>\""
   ]
  },
  {
   "cell_type": "code",
   "execution_count": 6,
   "metadata": {},
   "outputs": [
    {
     "data": {
      "text/plain": [
       "device(type='cuda')"
      ]
     },
     "execution_count": 6,
     "metadata": {},
     "output_type": "execute_result"
    }
   ],
   "source": [
    "device = torch.device(\"cuda\" if torch.cuda.is_available() else \"cpu\")\n",
    "\n",
    "device"
   ]
  },
  {
   "cell_type": "code",
   "execution_count": 7,
   "metadata": {},
   "outputs": [
    {
     "name": "stdout",
     "output_type": "stream",
     "text": [
      "556949\n",
      "556928\n",
      "['\\ufeffThe Project Gutenber', 'The Project Gutenberg', 'he Project Gutenberg ', 'e Project Gutenberg E', ' Project Gutenberg EB']\n"
     ]
    },
    {
     "data": {
      "application/vnd.jupyter.widget-view+json": {
       "model_id": "9af9e90d62fd408a863ed653d98457d0",
       "version_major": 2,
       "version_minor": 0
      },
      "text/plain": [
       "HBox(children=(HTML(value=''), FloatProgress(value=0.0, max=556928.0), HTML(value='')))"
      ]
     },
     "metadata": {},
     "output_type": "display_data"
    },
    {
     "name": "stdout",
     "output_type": "stream",
     "text": [
      "\n",
      "torch.Size([556928, 21])\n"
     ]
    }
   ],
   "source": [
    "length = 21\n",
    "lines = []\n",
    "for i in range(len(text))[:-length]:\n",
    "    lines.append(text[i:length + i])\n",
    "print(len(text))\n",
    "print(len(lines))\n",
    "print(lines[:5])\n",
    "encoded = torch.tensor([[char2i[c] for c in l] for l in tqdm(lines)]).to(device).long()\n",
    "print(encoded.shape)"
   ]
  },
  {
   "cell_type": "code",
   "execution_count": 8,
   "metadata": {
    "scrolled": false
   },
   "outputs": [
    {
     "name": "stdout",
     "output_type": "stream",
     "text": [
      "Model: Autoregressive LSTM\n",
      "Tokens in the in vocabulary: 95\n",
      "Tokens in the out vocabulary: 95\n",
      "Embedding dimension: 32\n",
      "Hidden units: 128\n",
      "Layers: 2\n",
      "Dropout: 0.0\n",
      "Trainable parameters: 230,335\n",
      "\n",
      "Epoch | Train                 | Training time\n",
      "      | Loss     | Error Rate |\n",
      "---------------------------------------------\n",
      "    1 |   1.9706 |     50.012 |         47.92\n",
      "    2 |   1.3346 |     37.500 |         96.02\n",
      "    3 |   1.1832 |     33.895 |        144.07\n",
      "    4 |   1.1067 |     32.094 |        192.33\n",
      "    5 |   1.0584 |     30.944 |        240.65\n"
     ]
    }
   ],
   "source": [
    "importlib.reload(autoregressive)    \n",
    "net = autoregressive.LSTM(char2i, i2char)\n",
    "net.to(device)\n",
    "performance = net.fit(encoded, save_path = \"checkpoints/autoregressive_lstm.pt\")\n",
    "net.save_architecture(\"architectures/autoregressive_lstm.architecture\")"
   ]
  },
  {
   "cell_type": "code",
   "execution_count": 9,
   "metadata": {},
   "outputs": [
    {
     "name": "stdout",
     "output_type": "stream",
     "text": [
      "Model: Autoregressive LSTM\n",
      "Tokens in the in vocabulary: 95\n",
      "Tokens in the out vocabulary: 95\n",
      "Embedding dimension: 32\n",
      "Hidden units: 128\n",
      "Layers: 2\n",
      "Dropout: 0.0\n",
      "Trainable parameters: 230,335\n",
      "\n",
      "tensor([-16.2640, -17.0789, -16.3670, -16.9348, -19.7253], device='cuda:0')\n"
     ]
    },
    {
     "data": {
      "text/plain": [
       "['\\ufeffThe Project Gutenberg-tm the pawn at Kt5',\n",
       " 'The Project Gutenberg-tm the pawn at Kt5 ',\n",
       " 'he Project Gutenberg 1. ... K-Kt5; 12. Kt',\n",
       " 'e Project Gutenberg E game in the pawn at',\n",
       " ' Project Gutenberg EB-K4 is a pawn at Kt5']"
      ]
     },
     "execution_count": 9,
     "metadata": {},
     "output_type": "execute_result"
    }
   ],
   "source": [
    "importlib.reload(autoregressive)    \n",
    "net = autoregressive.load_architecture(\"architectures/autoregressive_lstm.architecture\")\n",
    "net.load_state_dict(torch.load(\"checkpoints/autoregressive_lstm.pt\"))\n",
    "net.to(device)\n",
    "indexes, log_probabilities = net.greedy_search(encoded[:5])\n",
    "\n",
    "print(log_probabilities)\n",
    "net.tensor2text(indexes)"
   ]
  },
  {
   "cell_type": "code",
   "execution_count": 10,
   "metadata": {},
   "outputs": [
    {
     "name": "stdout",
     "output_type": "stream",
     "text": [
      "Model: Autoregressive LSTM\n",
      "Tokens in the in vocabulary: 95\n",
      "Tokens in the out vocabulary: 95\n",
      "Embedding dimension: 32\n",
      "Hidden units: 128\n",
      "Layers: 2\n",
      "Dropout: 0.0\n",
      "Trainable parameters: 230,335\n",
      "\n",
      "tensor([-34.2615, -41.1441, -29.4518, -43.6911, -49.2374], device='cuda:0')\n"
     ]
    },
    {
     "data": {
      "text/plain": [
       "['\\ufeffThe Project Gutenberg all-hances, whight',\n",
       " 'The Project GutenbergLobjertgatens.\\n\\n    ',\n",
       " 'he Project Gutenberg 19L.\\n\\n\\nBlack would o',\n",
       " 'e Project Gutenberg Esmpult ic for with a',\n",
       " ' Project Gutenberg EBUsicl. after Yokk, B']"
      ]
     },
     "execution_count": 10,
     "metadata": {},
     "output_type": "execute_result"
    }
   ],
   "source": [
    "importlib.reload(autoregressive)    \n",
    "net = autoregressive.load_architecture(\"architectures/autoregressive_lstm.architecture\")\n",
    "net.load_state_dict(torch.load(\"checkpoints/autoregressive_lstm.pt\"))\n",
    "net.to(device)\n",
    "indexes, log_probabilities = net.sample(encoded[:5])\n",
    "\n",
    "print(log_probabilities)\n",
    "net.tensor2text(indexes)"
   ]
  },
  {
   "cell_type": "code",
   "execution_count": 11,
   "metadata": {},
   "outputs": [
    {
     "name": "stdout",
     "output_type": "stream",
     "text": [
      "Model: Autoregressive LSTM\n",
      "Tokens in the in vocabulary: 95\n",
      "Tokens in the out vocabulary: 95\n",
      "Embedding dimension: 32\n",
      "Hidden units: 128\n",
      "Layers: 2\n",
      "Dropout: 0.0\n",
      "Trainable parameters: 230,335\n",
      "\n",
      "tensor([[ -6.1016,  -7.0423,  -8.4072,  -8.4236,  -9.2888],\n",
      "        [ -5.9182,  -6.8601,  -8.2863,  -8.4591,  -9.1900],\n",
      "        [ -7.7467,  -9.8321, -10.8760, -11.0262, -11.1016],\n",
      "        [ -7.3991,  -8.5551,  -9.3477, -10.0063, -10.4871],\n",
      "        [-14.4735, -14.6115, -14.7318, -14.9337, -14.9415]], device='cuda:0')\n",
      "[['\\ufeffThe Project Gutenberg\\n\\n        ---------',\n",
      "  '\\ufeffThe Project Gutenberg\\n\\n         --------',\n",
      "  '\\ufeffThe Project Gutenberg\\n\\n                 ',\n",
      "  '\\ufeffThe Project Gutenberg\\n\\n               Di',\n",
      "  '\\ufeffThe Project Gutenberg\\n\\n                D'],\n",
      " ['The Project Gutenberg\\n\\n        ----------',\n",
      "  'The Project Gutenberg\\n\\n         ---------',\n",
      "  'The Project Gutenberg\\n\\n               Dia',\n",
      "  'The Project Gutenberg\\n\\n                  ',\n",
      "  'The Project Gutenberg\\n\\n                Di'],\n",
      " ['he Project Gutenberg 2. .................',\n",
      "  'he Project Gutenberg 2. ................ ',\n",
      "  'he Project Gutenberg 2. ............... K',\n",
      "  'he Project Gutenberg 2. ...............  ',\n",
      "  'he Project Gutenberg 2. ..............   '],\n",
      " ['e Project Gutenberg End-game.\\n\\n          ',\n",
      "  'e Project Gutenberg End-games.\\n\\n         ',\n",
      "  'e Project Gutenberg End-game.\\n\\n         1',\n",
      "  'e Project Gutenberg End-game.\\n\\n         2',\n",
      "  'e Project Gutenberg End-game.\\n\\n        --'],\n",
      " [' Project Gutenberg EBlack cannot play the',\n",
      "  ' Project Gutenberg EBlack cannot play P-K',\n",
      "  ' Project Gutenberg EBlack cannot play P-Q',\n",
      "  ' Project Gutenberg EBlack cannot be playi',\n",
      "  ' Project Gutenberg EBlack cannot move in ']]\n"
     ]
    }
   ],
   "source": [
    "importlib.reload(autoregressive)    \n",
    "net = autoregressive.load_architecture(\"architectures/autoregressive_lstm.architecture\")\n",
    "net.load_state_dict(torch.load(\"checkpoints/autoregressive_lstm.pt\"))\n",
    "net.to(device)\n",
    "indexes, log_probabilities = net.beam_search(encoded[:5])\n",
    "\n",
    "print(log_probabilities)\n",
    "pprint([net.tensor2text(t) for t in indexes])"
   ]
  },
  {
   "cell_type": "code",
   "execution_count": 12,
   "metadata": {},
   "outputs": [
    {
     "name": "stdout",
     "output_type": "stream",
     "text": [
      "Model: Autoregressive LSTM\n",
      "Tokens in the in vocabulary: 95\n",
      "Tokens in the out vocabulary: 95\n",
      "Embedding dimension: 32\n",
      "Hidden units: 128\n",
      "Layers: 2\n",
      "Dropout: 0.0\n",
      "Trainable parameters: 230,335\n",
      "\n"
     ]
    },
    {
     "data": {
      "text/plain": [
       "['\\ufeffThe Project Gutenberg\\n\\n        ---------',\n",
       " 'The Project Gutenberg\\n\\n        ----------',\n",
       " 'he Project Gutenberg 2. .................',\n",
       " 'e Project Gutenberg End-game.\\n\\n          ',\n",
       " ' Project Gutenberg EBlack cannot play the']"
      ]
     },
     "execution_count": 12,
     "metadata": {},
     "output_type": "execute_result"
    }
   ],
   "source": [
    "importlib.reload(autoregressive)    \n",
    "net = autoregressive.load_architecture(\"architectures/autoregressive_lstm.architecture\")\n",
    "net.load_state_dict(torch.load(\"checkpoints/autoregressive_lstm.pt\"))\n",
    "net.to(device)\n",
    "idx, log_probabilities = net.predict(encoded[:5])\n",
    "\n",
    "net.tensor2text(idx)"
   ]
  }
 ],
 "metadata": {
  "kernelspec": {
   "display_name": "Python 3",
   "language": "python",
   "name": "python3"
  },
  "language_info": {
   "codemirror_mode": {
    "name": "ipython",
    "version": 3
   },
   "file_extension": ".py",
   "mimetype": "text/x-python",
   "name": "python",
   "nbconvert_exporter": "python",
   "pygments_lexer": "ipython3",
   "version": "3.8.5"
  }
 },
 "nbformat": 4,
 "nbformat_minor": 5
}
