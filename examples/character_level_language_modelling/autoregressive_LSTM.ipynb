{
 "cells": [
  {
   "cell_type": "code",
   "execution_count": 1,
   "id": "cead063f",
   "metadata": {},
   "outputs": [],
   "source": [
    "import torch\n",
    "import torch.nn as nn\n",
    "import torch.utils.data as tud\n",
    "from tqdm.notebook import tqdm\n",
    "from pprint import pprint\n",
    "import matplotlib.pyplot as plt\n",
    "import numpy as np\n",
    "import importlib\n",
    "import sys\n",
    "sys.path.append(\"../../\")\n",
    "import autoregressive"
   ]
  },
  {
   "cell_type": "code",
   "execution_count": 2,
   "id": "ae5a60b1",
   "metadata": {
    "scrolled": false
   },
   "outputs": [
    {
     "name": "stdout",
     "output_type": "stream",
     "text": [
      "556949\n",
      "﻿The Project Gutenberg EBook of Chess Strategy, by Edward Lasker\n",
      "\n",
      "This eBook is for the use of anyone anywhere at no cost and with\n",
      "almost no restrictions whatsoever.  You may copy it, give it away or\n",
      "re-use it under the terms of the Project Gutenberg License included\n",
      "with this eBook or online at www.gutenberg.org/license\n",
      "\n",
      "\n",
      "Title: Chess Strategy\n",
      "\n",
      "Author: Edward Lasker\n",
      "\n",
      "Translator: J. Du Mont\n",
      "\n",
      "Release Date: November 11, 2012 [EBook #5614]\n",
      "\n",
      "Language: English\n",
      "\n",
      "\n",
      "*** START OF THIS PROJECT GUTENBERG EBOOK CHESS STRATEGY ***\n",
      "\n",
      "\n",
      "\n",
      "\n",
      "Produced by John Mamoun <mamounjo@umdnj.edu>, Charles\n",
      "Franks, and the Online Distributed Proofreaders website.\n",
      "\n",
      "\n",
      "\n",
      "\n",
      "\n",
      "\n",
      "\n",
      "\n",
      "INFORMATION ABOUT THIS E-TEXT EDITION\n",
      "\n",
      "\n",
      "\n",
      "The following is an e-text of \"Chess Strategy,\" second edition, (1915)\n",
      "by Edward Lasker, translated by J. Du Mont.\n",
      "\n",
      "This e-text contains the 167 chess and checkers board game\n",
      "diagrams appearing in the original book, all in the form of\n",
      "ASCII line drawings. The following is a key to the diagrams:\n",
      "\n",
      "For chess pieces\n"
     ]
    }
   ],
   "source": [
    "# chess\n",
    "\n",
    "with open(\"data/chess_book.txt\", encoding = \"utf-8\") as file:\n",
    "    text = file.read()\n",
    "print(len(text))\n",
    "print(text[:1000])"
   ]
  },
  {
   "cell_type": "code",
   "execution_count": 3,
   "id": "a531a84d",
   "metadata": {},
   "outputs": [
    {
     "data": {
      "text/plain": [
       "556949"
      ]
     },
     "execution_count": 3,
     "metadata": {},
     "output_type": "execute_result"
    }
   ],
   "source": [
    "len(text)"
   ]
  },
  {
   "cell_type": "code",
   "execution_count": 4,
   "id": "4c17640f",
   "metadata": {},
   "outputs": [
    {
     "data": {
      "text/plain": [
       "92"
      ]
     },
     "execution_count": 4,
     "metadata": {},
     "output_type": "execute_result"
    }
   ],
   "source": [
    "vocabulary = set(text)\n",
    "len(vocabulary)"
   ]
  },
  {
   "cell_type": "code",
   "execution_count": 5,
   "id": "1c4d93a2",
   "metadata": {},
   "outputs": [],
   "source": [
    "# from nltk.lm import Vocabulary\n",
    "# vocabulary = Vocabulary(text)\n",
    "# len(vocabulary)"
   ]
  },
  {
   "cell_type": "code",
   "execution_count": 6,
   "id": "3a2325bf",
   "metadata": {},
   "outputs": [
    {
     "data": {
      "text/plain": [
       "device(type='cuda')"
      ]
     },
     "execution_count": 6,
     "metadata": {},
     "output_type": "execute_result"
    }
   ],
   "source": [
    "device = torch.device(\"cuda\" if torch.cuda.is_available() else \"cpu\")\n",
    "\n",
    "device"
   ]
  },
  {
   "cell_type": "code",
   "execution_count": 7,
   "id": "680b1ae1",
   "metadata": {},
   "outputs": [
    {
     "name": "stdout",
     "output_type": "stream",
     "text": [
      "556949\n",
      "556932\n",
      "['\\ufeffThe Project Gute', 'The Project Guten', 'he Project Gutenb', 'e Project Gutenbe', ' Project Gutenber']\n"
     ]
    }
   ],
   "source": [
    "length = 17\n",
    "lines = []\n",
    "for i in range(len(text))[:-length]:\n",
    "    lines.append(text[i:length + i])\n",
    "print(len(text))\n",
    "print(len(lines))\n",
    "print(lines[:5])"
   ]
  },
  {
   "cell_type": "markdown",
   "id": "396ff33d",
   "metadata": {},
   "source": [
    "# fit"
   ]
  },
  {
   "cell_type": "code",
   "execution_count": 8,
   "id": "4f08c0ff",
   "metadata": {
    "scrolled": false
   },
   "outputs": [
    {
     "name": "stdout",
     "output_type": "stream",
     "text": [
      "Model: Autoregressive LSTM\n",
      "Tokens in the vocabulary: 92\n",
      "Embedding dimension: 32\n",
      "Hidden units: 128\n",
      "Layers: 2\n",
      "Dropout: 0.0\n",
      "Trainable parameters: 230,335\n",
      "\n",
      "torch.Size([556932, 19])\n",
      "Epoch | Train                 | Minutes\n",
      "      | Loss     | Error Rate |\n",
      "---------------------------------------\n",
      "    1 |   1.3625 |     37.194 |     0.8\n",
      "    2 |   1.0773 |     30.880 |     1.7\n",
      "    3 |   1.0234 |     29.590 |     2.5\n",
      "    4 |   0.9925 |     28.860 |     3.4\n",
      "    5 |   0.9729 |     28.371 |     4.2\n"
     ]
    }
   ],
   "source": [
    "importlib.reload(autoregressive)    \n",
    "net = autoregressive.LSTM(vocabulary)\n",
    "net.to(device)\n",
    "\n",
    "encoded = net.text2tensor(lines).to(device)\n",
    "print(encoded.shape)\n",
    "\n",
    "performance = net.fit(encoded, save_path = \"checkpoints/autoregressive_lstm.pt\", progress_bar = 0)\n",
    "net.save_architecture(\"architectures/autoregressive_lstm.architecture\")"
   ]
  },
  {
   "cell_type": "code",
   "execution_count": 9,
   "id": "bce5ac70",
   "metadata": {},
   "outputs": [
    {
     "data": {
      "text/html": [
       "<div>\n",
       "<style scoped>\n",
       "    .dataframe tbody tr th:only-of-type {\n",
       "        vertical-align: middle;\n",
       "    }\n",
       "\n",
       "    .dataframe tbody tr th {\n",
       "        vertical-align: top;\n",
       "    }\n",
       "\n",
       "    .dataframe thead th {\n",
       "        text-align: right;\n",
       "    }\n",
       "</style>\n",
       "<table border=\"1\" class=\"dataframe\">\n",
       "  <thead>\n",
       "    <tr style=\"text-align: right;\">\n",
       "      <th></th>\n",
       "      <th>epoch</th>\n",
       "      <th>train_loss</th>\n",
       "      <th>train_error_rate</th>\n",
       "      <th>minutes</th>\n",
       "      <th>learning_rate</th>\n",
       "      <th>weight_decay</th>\n",
       "      <th>model</th>\n",
       "      <th>embedding_dimension</th>\n",
       "      <th>hidden_units</th>\n",
       "      <th>layers</th>\n",
       "      <th>dropout</th>\n",
       "      <th>parameters</th>\n",
       "    </tr>\n",
       "  </thead>\n",
       "  <tbody>\n",
       "    <tr>\n",
       "      <th>0</th>\n",
       "      <td>1</td>\n",
       "      <td>1.362476</td>\n",
       "      <td>37.194238</td>\n",
       "      <td>0.821268</td>\n",
       "      <td>0.001</td>\n",
       "      <td>0</td>\n",
       "      <td>Autoregressive LSTM</td>\n",
       "      <td>32</td>\n",
       "      <td>128</td>\n",
       "      <td>2</td>\n",
       "      <td>0.0</td>\n",
       "      <td>230335</td>\n",
       "    </tr>\n",
       "    <tr>\n",
       "      <th>1</th>\n",
       "      <td>2</td>\n",
       "      <td>1.077298</td>\n",
       "      <td>30.879623</td>\n",
       "      <td>1.658315</td>\n",
       "      <td>0.001</td>\n",
       "      <td>0</td>\n",
       "      <td>Autoregressive LSTM</td>\n",
       "      <td>32</td>\n",
       "      <td>128</td>\n",
       "      <td>2</td>\n",
       "      <td>0.0</td>\n",
       "      <td>230335</td>\n",
       "    </tr>\n",
       "    <tr>\n",
       "      <th>2</th>\n",
       "      <td>3</td>\n",
       "      <td>1.023353</td>\n",
       "      <td>29.589868</td>\n",
       "      <td>2.506511</td>\n",
       "      <td>0.001</td>\n",
       "      <td>0</td>\n",
       "      <td>Autoregressive LSTM</td>\n",
       "      <td>32</td>\n",
       "      <td>128</td>\n",
       "      <td>2</td>\n",
       "      <td>0.0</td>\n",
       "      <td>230335</td>\n",
       "    </tr>\n",
       "    <tr>\n",
       "      <th>3</th>\n",
       "      <td>4</td>\n",
       "      <td>0.992494</td>\n",
       "      <td>28.860186</td>\n",
       "      <td>3.352504</td>\n",
       "      <td>0.001</td>\n",
       "      <td>0</td>\n",
       "      <td>Autoregressive LSTM</td>\n",
       "      <td>32</td>\n",
       "      <td>128</td>\n",
       "      <td>2</td>\n",
       "      <td>0.0</td>\n",
       "      <td>230335</td>\n",
       "    </tr>\n",
       "    <tr>\n",
       "      <th>4</th>\n",
       "      <td>5</td>\n",
       "      <td>0.972910</td>\n",
       "      <td>28.370848</td>\n",
       "      <td>4.199089</td>\n",
       "      <td>0.001</td>\n",
       "      <td>0</td>\n",
       "      <td>Autoregressive LSTM</td>\n",
       "      <td>32</td>\n",
       "      <td>128</td>\n",
       "      <td>2</td>\n",
       "      <td>0.0</td>\n",
       "      <td>230335</td>\n",
       "    </tr>\n",
       "  </tbody>\n",
       "</table>\n",
       "</div>"
      ],
      "text/plain": [
       "   epoch  train_loss  train_error_rate   minutes  learning_rate  weight_decay  \\\n",
       "0      1    1.362476         37.194238  0.821268          0.001             0   \n",
       "1      2    1.077298         30.879623  1.658315          0.001             0   \n",
       "2      3    1.023353         29.589868  2.506511          0.001             0   \n",
       "3      4    0.992494         28.860186  3.352504          0.001             0   \n",
       "4      5    0.972910         28.370848  4.199089          0.001             0   \n",
       "\n",
       "                 model  embedding_dimension  hidden_units  layers  dropout  \\\n",
       "0  Autoregressive LSTM                   32           128       2      0.0   \n",
       "1  Autoregressive LSTM                   32           128       2      0.0   \n",
       "2  Autoregressive LSTM                   32           128       2      0.0   \n",
       "3  Autoregressive LSTM                   32           128       2      0.0   \n",
       "4  Autoregressive LSTM                   32           128       2      0.0   \n",
       "\n",
       "   parameters  \n",
       "0      230335  \n",
       "1      230335  \n",
       "2      230335  \n",
       "3      230335  \n",
       "4      230335  "
      ]
     },
     "execution_count": 9,
     "metadata": {},
     "output_type": "execute_result"
    }
   ],
   "source": [
    "# includes all the information about the epoch and the model, useful for reproducibility\n",
    "\n",
    "performance"
   ]
  },
  {
   "cell_type": "code",
   "execution_count": 10,
   "id": "102ff488",
   "metadata": {},
   "outputs": [
    {
     "data": {
      "text/plain": [
       "['<START>\\ufeffThe Project Gute<END>',\n",
       " '<START>The Project Guten<END>',\n",
       " '<START>he Project Gutenb<END>',\n",
       " '<START>e Project Gutenbe<END>',\n",
       " '<START> Project Gutenber<END>']"
      ]
     },
     "execution_count": 10,
     "metadata": {},
     "output_type": "execute_result"
    }
   ],
   "source": [
    "# the input for testing\n",
    "\n",
    "net.tensor2text(encoded[:5])"
   ]
  },
  {
   "cell_type": "markdown",
   "id": "04a4c9a8",
   "metadata": {},
   "source": [
    "# predict"
   ]
  },
  {
   "cell_type": "code",
   "execution_count": 11,
   "id": "dc3a1e90",
   "metadata": {},
   "outputs": [
    {
     "name": "stdout",
     "output_type": "stream",
     "text": [
      "Model: Autoregressive LSTM\n",
      "Tokens in the vocabulary: 92\n",
      "Embedding dimension: 32\n",
      "Hidden units: 128\n",
      "Layers: 2\n",
      "Dropout: 0.0\n",
      "Trainable parameters: 230,335\n",
      "\n"
     ]
    },
    {
     "data": {
      "text/plain": [
       "['<START>\\ufeffThe Project Gute<END>',\n",
       " '<START>The Project Guten<END>',\n",
       " '<START>he Project Gutenb<END>',\n",
       " '<START>e Project Gutenbe<END>',\n",
       " '<START> Project Gutenber<END>']"
      ]
     },
     "execution_count": 11,
     "metadata": {},
     "output_type": "execute_result"
    }
   ],
   "source": [
    "importlib.reload(autoregressive)    \n",
    "net = autoregressive.load_architecture(\"architectures/autoregressive_lstm.architecture\")\n",
    "net.load_state_dict(torch.load(\"checkpoints/autoregressive_lstm.pt\"))\n",
    "net.to(device)\n",
    "idx, log_probabilities = net.predict(encoded[:5], main_progress_bar = False, progress_bar = 0)\n",
    "\n",
    "net.tensor2text(idx)"
   ]
  },
  {
   "cell_type": "code",
   "execution_count": 12,
   "id": "cb6c7c06",
   "metadata": {},
   "outputs": [
    {
     "data": {
      "text/plain": [
       "tensor([[  0.0000, -18.1405, -18.5183, -18.9254, -19.2813],\n",
       "        [  0.0000, -18.2268, -18.4837, -18.8527, -19.3396],\n",
       "        [  0.0000, -18.2711, -18.5763, -19.0656, -19.8647],\n",
       "        [  0.0000, -18.0455, -18.2597, -18.5316, -18.8450],\n",
       "        [  0.0000, -18.0135, -18.2310, -18.2523, -18.6434]], device='cuda:0')"
      ]
     },
     "execution_count": 12,
     "metadata": {},
     "output_type": "execute_result"
    }
   ],
   "source": [
    "log_probabilities"
   ]
  },
  {
   "cell_type": "markdown",
   "id": "ce9ab58d",
   "metadata": {},
   "source": [
    "# greedy_search"
   ]
  },
  {
   "cell_type": "code",
   "execution_count": 13,
   "id": "02508ab3",
   "metadata": {},
   "outputs": [
    {
     "name": "stdout",
     "output_type": "stream",
     "text": [
      "Model: Autoregressive LSTM\n",
      "Tokens in the vocabulary: 92\n",
      "Embedding dimension: 32\n",
      "Hidden units: 128\n",
      "Layers: 2\n",
      "Dropout: 0.0\n",
      "Trainable parameters: 230,335\n",
      "\n",
      "tensor([0., 0., 0., 0., 0.], device='cuda:0')\n"
     ]
    },
    {
     "data": {
      "text/plain": [
       "['<START>\\ufeffThe Project Gute<END>',\n",
       " '<START>The Project Guten<END>',\n",
       " '<START>he Project Gutenb<END>',\n",
       " '<START>e Project Gutenbe<END>',\n",
       " '<START> Project Gutenber<END>']"
      ]
     },
     "execution_count": 13,
     "metadata": {},
     "output_type": "execute_result"
    }
   ],
   "source": [
    "importlib.reload(autoregressive)    \n",
    "net = autoregressive.load_architecture(\"architectures/autoregressive_lstm.architecture\")\n",
    "net.load_state_dict(torch.load(\"checkpoints/autoregressive_lstm.pt\"))\n",
    "net.to(device)\n",
    "indexes, log_probabilities = net.greedy_search(encoded[:5], progress_bar = False)\n",
    "\n",
    "print(log_probabilities)\n",
    "net.tensor2text(indexes)"
   ]
  },
  {
   "cell_type": "markdown",
   "id": "6cd33c29",
   "metadata": {},
   "source": [
    "# sample"
   ]
  },
  {
   "cell_type": "code",
   "execution_count": 14,
   "id": "5cc754d1",
   "metadata": {},
   "outputs": [
    {
     "name": "stdout",
     "output_type": "stream",
     "text": [
      "Model: Autoregressive LSTM\n",
      "Tokens in the vocabulary: 92\n",
      "Embedding dimension: 32\n",
      "Hidden units: 128\n",
      "Layers: 2\n",
      "Dropout: 0.0\n",
      "Trainable parameters: 230,335\n",
      "\n",
      "tensor([0., 0., 0., 0., 0.], device='cuda:0')\n"
     ]
    },
    {
     "data": {
      "text/plain": [
       "['<START>\\ufeffThe Project Gute<END>',\n",
       " '<START>The Project Guten<END>',\n",
       " '<START>he Project Gutenb<END>',\n",
       " '<START>e Project Gutenbe<END>',\n",
       " '<START> Project Gutenber<END>']"
      ]
     },
     "execution_count": 14,
     "metadata": {},
     "output_type": "execute_result"
    }
   ],
   "source": [
    "importlib.reload(autoregressive)    \n",
    "net = autoregressive.load_architecture(\"architectures/autoregressive_lstm.architecture\")\n",
    "net.load_state_dict(torch.load(\"checkpoints/autoregressive_lstm.pt\"))\n",
    "net.to(device)\n",
    "indexes, log_probabilities = net.sample(encoded[:5], progress_bar = False)\n",
    "\n",
    "print(log_probabilities)\n",
    "net.tensor2text(indexes)"
   ]
  },
  {
   "cell_type": "markdown",
   "id": "e3a1efbb",
   "metadata": {},
   "source": [
    "# beam_search"
   ]
  },
  {
   "cell_type": "code",
   "execution_count": 15,
   "id": "04a11f91",
   "metadata": {},
   "outputs": [
    {
     "name": "stdout",
     "output_type": "stream",
     "text": [
      "Model: Autoregressive LSTM\n",
      "Tokens in the vocabulary: 92\n",
      "Embedding dimension: 32\n",
      "Hidden units: 128\n",
      "Layers: 2\n",
      "Dropout: 0.0\n",
      "Trainable parameters: 230,335\n",
      "\n",
      "tensor([[  0.0000, -18.1405, -18.5183, -18.9254, -19.2813],\n",
      "        [  0.0000, -18.2268, -18.4837, -18.8527, -19.3396],\n",
      "        [  0.0000, -18.2711, -18.5763, -19.0656, -19.8647],\n",
      "        [  0.0000, -18.0455, -18.2597, -18.5316, -18.8450],\n",
      "        [  0.0000, -18.0135, -18.2310, -18.2523, -18.6434]], device='cuda:0')\n",
      "[['<START>\\ufeffThe Project Gute<END>',\n",
      "  '<START>\\ufeffThe Project Gute<END>',\n",
      "  '<START>\\ufeffThe Project Gute<END>',\n",
      "  '<START>\\ufeffThe Project Gute<END>',\n",
      "  '<START>\\ufeffThe Project Gute<END>'],\n",
      " ['<START>The Project Guten<END>',\n",
      "  '<START>The Project Guten<END>',\n",
      "  '<START>The Project Guten<END>',\n",
      "  '<START>The Project Guten<END>',\n",
      "  '<START>The Project Guten<END>'],\n",
      " ['<START>he Project Gutenb<END>',\n",
      "  '<START>he Project Gutenb<END>',\n",
      "  '<START>he Project Gutenb<END>',\n",
      "  '<START>he Project Gutenb<END>',\n",
      "  '<START>he Project Gutenb<END>'],\n",
      " ['<START>e Project Gutenbe<END>',\n",
      "  '<START>e Project Gutenbe<END>',\n",
      "  '<START>e Project Gutenbe<END>',\n",
      "  '<START>e Project Gutenbe<END>',\n",
      "  '<START>e Project Gutenbe<END>'],\n",
      " ['<START> Project Gutenber<END>',\n",
      "  '<START> Project Gutenber<END>',\n",
      "  '<START> Project Gutenber<END>',\n",
      "  '<START> Project Gutenber<END>',\n",
      "  '<START> Project Gutenber<END>']]\n"
     ]
    }
   ],
   "source": [
    "importlib.reload(autoregressive)    \n",
    "net = autoregressive.load_architecture(\"architectures/autoregressive_lstm.architecture\")\n",
    "net.load_state_dict(torch.load(\"checkpoints/autoregressive_lstm.pt\"))\n",
    "net.to(device)\n",
    "indexes, log_probabilities = net.beam_search(encoded[:5], progress_bar = False)\n",
    "\n",
    "print(log_probabilities)\n",
    "pprint([net.tensor2text(t) for t in indexes])"
   ]
  }
 ],
 "metadata": {
  "kernelspec": {
   "display_name": "Python 3",
   "language": "python",
   "name": "python3"
  },
  "language_info": {
   "codemirror_mode": {
    "name": "ipython",
    "version": 3
   },
   "file_extension": ".py",
   "mimetype": "text/x-python",
   "name": "python",
   "nbconvert_exporter": "python",
   "pygments_lexer": "ipython3",
   "version": "3.8.8"
  }
 },
 "nbformat": 4,
 "nbformat_minor": 5
}
