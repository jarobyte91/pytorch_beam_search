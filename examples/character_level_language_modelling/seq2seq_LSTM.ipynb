{
 "cells": [
  {
   "cell_type": "code",
   "execution_count": 1,
   "metadata": {},
   "outputs": [],
   "source": [
    "import torch\n",
    "import torch.nn as nn\n",
    "import torch.utils.data as tud\n",
    "from tqdm.notebook import tqdm\n",
    "from pprint import pprint\n",
    "import matplotlib.pyplot as plt\n",
    "import numpy as np\n",
    "import importlib\n",
    "import sys\n",
    "sys.path.append(\"../../\")\n",
    "import seq2seq"
   ]
  },
  {
   "cell_type": "code",
   "execution_count": 2,
   "metadata": {
    "scrolled": false
   },
   "outputs": [
    {
     "name": "stdout",
     "output_type": "stream",
     "text": [
      "556949\n",
      "﻿The Project Gutenberg EBook of Chess Strategy, by Edward Lasker\n",
      "\n",
      "This eBook is for the use of anyone anywhere at no cost and with\n",
      "almost no restrictions whatsoever.  You may copy it, give it away or\n",
      "re-use it under the terms of the Project Gutenberg License included\n",
      "with this eBook or online at www.gutenberg.org/license\n",
      "\n",
      "\n",
      "Title: Chess Strategy\n",
      "\n",
      "Author: Edward Lasker\n",
      "\n",
      "Translator: J. Du Mont\n",
      "\n",
      "Release Date: November 11, 2012 [EBook #5614]\n",
      "\n",
      "Language: English\n",
      "\n",
      "\n",
      "*** START OF THIS PROJECT GUTENBERG EBOOK CHESS STRATEGY ***\n",
      "\n",
      "\n",
      "\n",
      "\n",
      "Produced by John Mamoun <mamounjo@umdnj.edu>, Charles\n",
      "Franks, and the Online Distributed Proofreaders website.\n",
      "\n",
      "\n",
      "\n",
      "\n",
      "\n",
      "\n",
      "\n",
      "\n",
      "INFORMATION ABOUT THIS E-TEXT EDITION\n",
      "\n",
      "\n",
      "\n",
      "The following is an e-text of \"Chess Strategy,\" second edition, (1915)\n",
      "by Edward Lasker, translated by J. Du Mont.\n",
      "\n",
      "This e-text contains the 167 chess and checkers board game\n",
      "diagrams appearing in the original book, all in the form of\n",
      "ASCII line drawings. The following is a key to the diagrams:\n",
      "\n",
      "For chess pieces\n"
     ]
    }
   ],
   "source": [
    "# chess\n",
    "\n",
    "with open(\"data/chess_book.txt\", encoding = \"utf-8\") as file:\n",
    "    text = file.read()\n",
    "print(len(text))\n",
    "print(text[:1000])"
   ]
  },
  {
   "cell_type": "code",
   "execution_count": 3,
   "metadata": {},
   "outputs": [
    {
     "data": {
      "text/plain": [
       "556949"
      ]
     },
     "execution_count": 3,
     "metadata": {},
     "output_type": "execute_result"
    }
   ],
   "source": [
    "len(text)"
   ]
  },
  {
   "cell_type": "code",
   "execution_count": 4,
   "metadata": {},
   "outputs": [
    {
     "data": {
      "text/plain": [
       "92"
      ]
     },
     "execution_count": 4,
     "metadata": {},
     "output_type": "execute_result"
    }
   ],
   "source": [
    "vocabulary = set(text)\n",
    "len(vocabulary)"
   ]
  },
  {
   "cell_type": "code",
   "execution_count": 5,
   "metadata": {},
   "outputs": [
    {
     "name": "stdout",
     "output_type": "stream",
     "text": [
      "95\n",
      "95\n"
     ]
    }
   ],
   "source": [
    "char2i = {c:i for i, c in enumerate(sorted(vocabulary), 3)}\n",
    "char2i[\"<PAD>\"] = 0\n",
    "char2i[\"<START>\"] = 1\n",
    "char2i[\"<END>\"] = 2\n",
    "print(len(char2i))\n",
    "i2char = {i:c for i, c in enumerate(sorted(vocabulary), 3)}\n",
    "i2char[0] = \"<PAD>\"\n",
    "i2char[1] = \"<START>\"\n",
    "i2char[2] = \"<END>\"\n",
    "print(len(i2char))"
   ]
  },
  {
   "cell_type": "code",
   "execution_count": 6,
   "metadata": {},
   "outputs": [
    {
     "data": {
      "text/plain": [
       "device(type='cuda')"
      ]
     },
     "execution_count": 6,
     "metadata": {},
     "output_type": "execute_result"
    }
   ],
   "source": [
    "device = torch.device(\"cuda\" if torch.cuda.is_available() else \"cpu\")\n",
    "\n",
    "device"
   ]
  },
  {
   "cell_type": "code",
   "execution_count": 7,
   "metadata": {},
   "outputs": [
    {
     "name": "stdout",
     "output_type": "stream",
     "text": [
      "556949\n",
      "556929\n",
      "['\\ufeffThe Project Gutenbe', 'The Project Gutenber', 'he Project Gutenberg', 'e Project Gutenberg ', ' Project Gutenberg E']\n"
     ]
    },
    {
     "data": {
      "application/vnd.jupyter.widget-view+json": {
       "model_id": "75cec411937f4f2abfc24ffba7b63fbb",
       "version_major": 2,
       "version_minor": 0
      },
      "text/plain": [
       "HBox(children=(HTML(value=''), FloatProgress(value=0.0, max=556929.0), HTML(value='')))"
      ]
     },
     "metadata": {},
     "output_type": "display_data"
    },
    {
     "name": "stdout",
     "output_type": "stream",
     "text": [
      "\n",
      "torch.Size([556929, 20])\n",
      "torch.Size([556929, 10])\n",
      "torch.Size([556929, 11])\n"
     ]
    }
   ],
   "source": [
    "length = 20\n",
    "lines = []\n",
    "for i in range(len(text))[:-length]:\n",
    "    lines.append(text[i:length + i])\n",
    "print(len(text))\n",
    "print(len(lines))\n",
    "print(lines[:5])\n",
    "encoded = torch.tensor([[char2i[c] for c in l] for l in tqdm(lines)]).to(device).long()\n",
    "print(encoded.shape)\n",
    "source_1 = encoded[:, :length // 2]\n",
    "print(source_1.shape)\n",
    "target_1 = torch.cat((torch.ones(encoded.shape[0], 1).to(device).long(), encoded[:, length // 2:]), axis = 1)\n",
    "print(target_1.shape)"
   ]
  },
  {
   "cell_type": "code",
   "execution_count": 8,
   "metadata": {
    "scrolled": false
   },
   "outputs": [
    {
     "name": "stdout",
     "output_type": "stream",
     "text": [
      "Model: Seq2Seq LSTM\n",
      "Tokens in the input vocabulary: 95\n",
      "Tokens in the output vocabulary: 95\n",
      "In embedding dimension: 32\n",
      "Out embedding dimension: 32\n",
      "Encoder hidden units: 128\n",
      "Encoder layers: 2\n",
      "Decoder hidden units: 128\n",
      "Decoder layers: 2\n",
      "Dropout: 0.0\n",
      "Trainable parameters: 579,487\n",
      "\n",
      "Epoch | Train                 | Training time\n",
      "      | Loss     | Error Rate |\n",
      "---------------------------------------------\n",
      "    1 |   2.0073 |     51.419 |         61.72\n",
      "    2 |   1.3876 |     39.386 |        123.66\n",
      "    3 |   1.2156 |     35.023 |        185.37\n",
      "    4 |   1.1222 |     32.770 |        247.20\n",
      "    5 |   1.0612 |     31.309 |        309.04\n"
     ]
    }
   ],
   "source": [
    "importlib.reload(seq2seq)  \n",
    "\n",
    "net = seq2seq.LSTM(char2i, i2char)\n",
    "net.to(device)\n",
    "performance = net.fit(source_1, target_1, save_path = \"checkpoints/seq2seq_lstm.pt\")\n",
    "net.save_architecture(\"architectures/seq2seq_lstm.architecture\")"
   ]
  },
  {
   "cell_type": "code",
   "execution_count": 9,
   "metadata": {},
   "outputs": [
    {
     "name": "stdout",
     "output_type": "stream",
     "text": [
      "Model: Seq2Seq LSTM\n",
      "Tokens in the input vocabulary: 95\n",
      "Tokens in the output vocabulary: 95\n",
      "In embedding dimension: 32\n",
      "Out embedding dimension: 32\n",
      "Encoder hidden units: 128\n",
      "Encoder layers: 2\n",
      "Decoder hidden units: 128\n",
      "Decoder layers: 2\n",
      "Dropout: 0.0\n",
      "Trainable parameters: 579,487\n",
      "\n",
      "tensor([-29.8569, -25.1782, -18.4017, -20.7909, -30.5338], device='cuda:0')\n"
     ]
    },
    {
     "data": {
      "text/plain": [
       "[\"<START>g-tm is the King's Game (Pawn \",\n",
       " '<START>t Gutenberg-tm to mater (Beent',\n",
       " \"<START> Gutenberg-tm and the King's G\",\n",
       " \"<START>Gutenberg-tm and the King's Gu\",\n",
       " '<START>enterg-tm terem is a pawn and ']"
      ]
     },
     "execution_count": 9,
     "metadata": {},
     "output_type": "execute_result"
    }
   ],
   "source": [
    "importlib.reload(seq2seq)    \n",
    "net = seq2seq.load_architecture(\"architectures/seq2seq_lstm.architecture\")\n",
    "net.load_state_dict(torch.load(\"checkpoints/seq2seq_lstm.pt\"))\n",
    "net.to(device)\n",
    "indexes, log_probabilities = net.greedy_search(source_1[:5], max_predictions = 30)\n",
    "\n",
    "print(log_probabilities)\n",
    "net.tensor2text(indexes)"
   ]
  },
  {
   "cell_type": "code",
   "execution_count": 10,
   "metadata": {
    "scrolled": false
   },
   "outputs": [
    {
     "name": "stdout",
     "output_type": "stream",
     "text": [
      "Model: Seq2Seq LSTM\n",
      "Tokens in the input vocabulary: 95\n",
      "Tokens in the output vocabulary: 95\n",
      "In embedding dimension: 32\n",
      "Out embedding dimension: 32\n",
      "Encoder hidden units: 128\n",
      "Encoder layers: 2\n",
      "Decoder hidden units: 128\n",
      "Decoder layers: 2\n",
      "Dropout: 0.0\n",
      "Trainable parameters: 579,487\n",
      "\n",
      "tensor([-38.6331, -51.1987, -42.4235, -36.5803, -48.5462], device='cuda:0')\n"
     ]
    },
    {
     "data": {
      "text/plain": [
       "[\"<START>m's Lagks. Lege can\\n\",\n",
       " '<START>M Gajlesser, I. 106;',\n",
       " '<START> is onoty, altyerb,\\n',\n",
       " '<START>by\\n\\nThis 2\\n\\n     Hur',\n",
       " '<START>entmmASbet, An 19E\\n\\n']"
      ]
     },
     "execution_count": 10,
     "metadata": {},
     "output_type": "execute_result"
    }
   ],
   "source": [
    "importlib.reload(seq2seq)    \n",
    "net = seq2seq.load_architecture(\"architectures/seq2seq_lstm.architecture\")\n",
    "net.load_state_dict(torch.load(\"checkpoints/seq2seq_lstm.pt\"))\n",
    "net.to(device)\n",
    "indexes, log_probabilities = net.sample(source_1[:5])\n",
    "\n",
    "print(log_probabilities)\n",
    "net.tensor2text(indexes)"
   ]
  },
  {
   "cell_type": "code",
   "execution_count": 11,
   "metadata": {},
   "outputs": [
    {
     "name": "stdout",
     "output_type": "stream",
     "text": [
      "Model: Seq2Seq LSTM\n",
      "Tokens in the input vocabulary: 95\n",
      "Tokens in the output vocabulary: 95\n",
      "In embedding dimension: 32\n",
      "Out embedding dimension: 32\n",
      "Encoder hidden units: 128\n",
      "Encoder layers: 2\n",
      "Decoder hidden units: 128\n",
      "Decoder layers: 2\n",
      "Dropout: 0.0\n",
      "Trainable parameters: 579,487\n",
      "\n",
      "tensor([[-10.5431, -10.8892, -11.7336, -12.2599, -12.3056],\n",
      "        [-10.2664, -11.0697, -11.0847, -11.7097, -11.7684],\n",
      "        [-10.8425, -11.2511, -11.9066, -12.5845, -12.6030],\n",
      "        [-10.7781, -11.0780, -11.4138, -11.5825, -11.6716],\n",
      "        [-12.5781, -12.6168, -15.6725, -15.8160, -16.0275]], device='cuda:0')\n"
     ]
    },
    {
     "data": {
      "text/plain": [
       "[['<START>ct Gutenberg-tm and ',\n",
       "  '<START>ct Gutenberg-tm the ',\n",
       "  '<START>ct Gutenberg-tm whic',\n",
       "  '<START>ct Gutenberg-tm is t',\n",
       "  '<START>ct Gutenberg-tm is n'],\n",
       " ['<START>t Gutenberg-tm which',\n",
       "  '<START>t Gutenberg-tm there',\n",
       "  '<START>t Gutenberg-tm white',\n",
       "  '<START>t Gutenberg-tm and P',\n",
       "  '<START>t Gutenberg-tm the K'],\n",
       " ['<START> Gutenberg-tm which ',\n",
       "  '<START> Gutenberg-tm where ',\n",
       "  '<START> Gutenberg-tm and th',\n",
       "  '<START> Gutenberg-tm wheres',\n",
       "  '<START> Gutenberg-tm and Bl'],\n",
       " ['<START>Gutenberg.\\n\\n        ',\n",
       "  '<START>Gutenberg.\\n\\n       B',\n",
       "  '<START>Gutenberg.\\n\\n      Wh',\n",
       "  '<START>Gutenberg.\\n\\n      Bl',\n",
       "  '<START>Gutenberg.\\n\\n     Whi'],\n",
       " ['<START>utenberg-tm bect Gut',\n",
       "  '<START>utenberg-tm betenber',\n",
       "  '<START>utenberg-tm bect Got',\n",
       "  '<START>utenberg-tm bectinge',\n",
       "  '<START>utenberg-tm betion a']]"
      ]
     },
     "execution_count": 11,
     "metadata": {},
     "output_type": "execute_result"
    }
   ],
   "source": [
    "importlib.reload(seq2seq)    \n",
    "net = seq2seq.load_architecture(\"architectures/seq2seq_lstm.architecture\")\n",
    "net.load_state_dict(torch.load(\"checkpoints/seq2seq_lstm.pt\"))\n",
    "net.to(device)\n",
    "indexes, log_probabilities = net.beam_search(source_1[:5])\n",
    "\n",
    "print(log_probabilities)\n",
    "[net.tensor2text(t) for t in indexes]"
   ]
  },
  {
   "cell_type": "code",
   "execution_count": 12,
   "metadata": {},
   "outputs": [
    {
     "name": "stdout",
     "output_type": "stream",
     "text": [
      "Model: Seq2Seq LSTM\n",
      "Tokens in the input vocabulary: 95\n",
      "Tokens in the output vocabulary: 95\n",
      "In embedding dimension: 32\n",
      "Out embedding dimension: 32\n",
      "Encoder hidden units: 128\n",
      "Encoder layers: 2\n",
      "Decoder hidden units: 128\n",
      "Decoder layers: 2\n",
      "Dropout: 0.0\n",
      "Trainable parameters: 579,487\n",
      "\n"
     ]
    },
    {
     "data": {
      "text/plain": [
       "['<START>ct Gutenbe',\n",
       " '<START>t Gutenber',\n",
       " '<START> Gutenberg',\n",
       " '<START>Gutenberg-',\n",
       " '<START>utenberg-t']"
      ]
     },
     "execution_count": 12,
     "metadata": {},
     "output_type": "execute_result"
    }
   ],
   "source": [
    "importlib.reload(seq2seq)    \n",
    "net = seq2seq.load_architecture(\"architectures/seq2seq_lstm.architecture\")\n",
    "net.load_state_dict(torch.load(\"checkpoints/seq2seq_lstm.pt\"))\n",
    "net.to(device)\n",
    "\n",
    "idx, log_probabilities = net.predict(source_1[:5])\n",
    "\n",
    "net.tensor2text(idx)"
   ]
  },
  {
   "cell_type": "code",
   "execution_count": null,
   "metadata": {},
   "outputs": [],
   "source": []
  }
 ],
 "metadata": {
  "kernelspec": {
   "display_name": "Python 3",
   "language": "python",
   "name": "python3"
  },
  "language_info": {
   "codemirror_mode": {
    "name": "ipython",
    "version": 3
   },
   "file_extension": ".py",
   "mimetype": "text/x-python",
   "name": "python",
   "nbconvert_exporter": "python",
   "pygments_lexer": "ipython3",
   "version": "3.8.5"
  }
 },
 "nbformat": 4,
 "nbformat_minor": 5
}
